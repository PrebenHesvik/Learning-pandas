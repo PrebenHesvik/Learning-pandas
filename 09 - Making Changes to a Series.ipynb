{
 "cells": [
  {
   "cell_type": "code",
   "execution_count": 2,
   "metadata": {},
   "outputs": [],
   "source": [
    "import numpy as np\n",
    "import pandas as pd"
   ]
  },
  {
   "cell_type": "markdown",
   "metadata": {},
   "source": [
    "#### REPLACE 'Y' AND 'N' WITH 'YES' AND 'NO'"
   ]
  },
  {
   "cell_type": "code",
   "execution_count": 3,
   "metadata": {},
   "outputs": [
    {
     "data": {
      "text/plain": [
       "0    Yes\n",
       "1    Yes\n",
       "2     No\n",
       "3     No\n",
       "dtype: object"
      ]
     },
     "execution_count": 3,
     "metadata": {},
     "output_type": "execute_result"
    }
   ],
   "source": [
    "ser = pd.Series(['Y', 'Y', 'N', 'N'])\n",
    "ser[ser == 'Y'] = 'Yes'\n",
    "ser[ser == 'N'] = 'No'\n",
    "ser"
   ]
  },
  {
   "cell_type": "markdown",
   "metadata": {},
   "source": [
    "### REPLACE EMTPY VALUES"
   ]
  },
  {
   "cell_type": "code",
   "execution_count": 16,
   "metadata": {},
   "outputs": [
    {
     "name": "stdout",
     "output_type": "stream",
     "text": [
      "['blue' 'red' 'green' '' 'blue' '' 'red']\n",
      "['blue' 'red' 'green' 'NO CATEGORY' 'blue' 'NO CATEGORY' 'red']\n"
     ]
    }
   ],
   "source": [
    "ser = pd.Series(['blue', 'red', 'green', '', 'blue', '', 'red'])\n",
    "print(ser.values)\n",
    "ser[ser == ''] = 'NO CATEGORY'\n",
    "print(ser.values)"
   ]
  },
  {
   "cell_type": "markdown",
   "metadata": {},
   "source": [
    "#### REPLACE NaN VALUES"
   ]
  },
  {
   "cell_type": "code",
   "execution_count": 24,
   "metadata": {},
   "outputs": [
    {
     "name": "stdout",
     "output_type": "stream",
     "text": [
      "['blue' 'red' 'green' nan 'blue' nan 'red']\n",
      "['blue' 'red' 'green' 'NO CATEGORY' 'blue' 'NO CATEGORY' 'red']\n"
     ]
    }
   ],
   "source": [
    "ser = pd.Series(['blue', 'red', 'green', np.nan, 'blue', np.nan, 'red'])\n",
    "print(ser.values)\n",
    "ser[ser.isna()] = 'NO CATEGORY'\n",
    "print(ser.values)"
   ]
  },
  {
   "cell_type": "markdown",
   "metadata": {},
   "source": [
    "#### REPLACE ALL VALUES OTHER THAN THE TWO MOST FREQUENT\n",
    "keep only top 2 most frequent values in series as it is and replace everything else as ‘Other’?"
   ]
  },
  {
   "cell_type": "code",
   "execution_count": 42,
   "metadata": {},
   "outputs": [
    {
     "data": {
      "text/plain": [
       "array(['Other', '4', 'Other', '1', '4', '1', 'Other', '1', '1', '1', '4',\n",
       "       'Other'], dtype=object)"
      ]
     },
     "execution_count": 42,
     "metadata": {},
     "output_type": "execute_result"
    }
   ],
   "source": [
    "# random state\n",
    "np.random.RandomState(100)\n",
    "\n",
    "# method 1\n",
    "ser = pd.Series(np.random.randint(1, 5, [12]))\n",
    "ser[~ser.isin(ser.value_counts().index[:2])] = 'Other'\n",
    "\n",
    "# method 2:\n",
    "ser = pd.Series(np.random.randint(1, 5, [12]))\n",
    "top_two = ser.value_counts().index[:2]\n",
    "pd.Series(np.where((ser == top_two[0]) | (ser == top_two[1]), ser, 'Other'))\n",
    "\n",
    "# method 3:\n",
    "ser = pd.Series(np.random.randint(1, 5, [12]))\n",
    "pd.Series(np.where(np.in1d(ser, ser.value_counts().index[:2]), ser, 'Other')).values"
   ]
  },
  {
   "cell_type": "markdown",
   "metadata": {},
   "source": [
    "#### UPDATE SERIES"
   ]
  },
  {
   "cell_type": "code",
   "execution_count": 37,
   "metadata": {},
   "outputs": [
    {
     "name": "stdout",
     "output_type": "stream",
     "text": [
      "Original Series: \n",
      " ['New York' 'Oslo' 'San Antonio' 'London'] \n",
      "\n",
      "Altered Series: \n",
      " ['New York' 'Bergen' 'San Antonio' 'Liverpool']\n"
     ]
    }
   ],
   "source": [
    "ser = pd.Series(['New York', 'Oslo', 'San Antonio', 'London'])\n",
    "print('Original Series: \\n', ser.values, '\\n')\n",
    "\n",
    "ser.update(pd.Series(['Bergen', 'Liverpool'], index=[1, 3]))\n",
    "print('Altered Series: \\n', ser.values)"
   ]
  },
  {
   "cell_type": "markdown",
   "metadata": {},
   "source": [
    "### Reshape the series ser into a dataframe with 7 rows and 5 columns"
   ]
  },
  {
   "cell_type": "code",
   "execution_count": 4,
   "metadata": {
    "scrolled": true
   },
   "outputs": [
    {
     "data": {
      "text/html": [
       "<div>\n",
       "<style scoped>\n",
       "    .dataframe tbody tr th:only-of-type {\n",
       "        vertical-align: middle;\n",
       "    }\n",
       "\n",
       "    .dataframe tbody tr th {\n",
       "        vertical-align: top;\n",
       "    }\n",
       "\n",
       "    .dataframe thead th {\n",
       "        text-align: right;\n",
       "    }\n",
       "</style>\n",
       "<table border=\"1\" class=\"dataframe\">\n",
       "  <thead>\n",
       "    <tr style=\"text-align: right;\">\n",
       "      <th></th>\n",
       "      <th>0</th>\n",
       "      <th>1</th>\n",
       "      <th>2</th>\n",
       "      <th>3</th>\n",
       "      <th>4</th>\n",
       "    </tr>\n",
       "  </thead>\n",
       "  <tbody>\n",
       "    <tr>\n",
       "      <th>0</th>\n",
       "      <td>9</td>\n",
       "      <td>9</td>\n",
       "      <td>3</td>\n",
       "      <td>5</td>\n",
       "      <td>1</td>\n",
       "    </tr>\n",
       "    <tr>\n",
       "      <th>1</th>\n",
       "      <td>3</td>\n",
       "      <td>1</td>\n",
       "      <td>5</td>\n",
       "      <td>6</td>\n",
       "      <td>7</td>\n",
       "    </tr>\n",
       "    <tr>\n",
       "      <th>2</th>\n",
       "      <td>6</td>\n",
       "      <td>5</td>\n",
       "      <td>4</td>\n",
       "      <td>5</td>\n",
       "      <td>9</td>\n",
       "    </tr>\n",
       "    <tr>\n",
       "      <th>3</th>\n",
       "      <td>7</td>\n",
       "      <td>3</td>\n",
       "      <td>8</td>\n",
       "      <td>5</td>\n",
       "      <td>4</td>\n",
       "    </tr>\n",
       "    <tr>\n",
       "      <th>4</th>\n",
       "      <td>2</td>\n",
       "      <td>4</td>\n",
       "      <td>3</td>\n",
       "      <td>3</td>\n",
       "      <td>4</td>\n",
       "    </tr>\n",
       "    <tr>\n",
       "      <th>5</th>\n",
       "      <td>8</td>\n",
       "      <td>1</td>\n",
       "      <td>6</td>\n",
       "      <td>7</td>\n",
       "      <td>2</td>\n",
       "    </tr>\n",
       "    <tr>\n",
       "      <th>6</th>\n",
       "      <td>7</td>\n",
       "      <td>1</td>\n",
       "      <td>1</td>\n",
       "      <td>9</td>\n",
       "      <td>5</td>\n",
       "    </tr>\n",
       "  </tbody>\n",
       "</table>\n",
       "</div>"
      ],
      "text/plain": [
       "   0  1  2  3  4\n",
       "0  9  9  3  5  1\n",
       "1  3  1  5  6  7\n",
       "2  6  5  4  5  9\n",
       "3  7  3  8  5  4\n",
       "4  2  4  3  3  4\n",
       "5  8  1  6  7  2\n",
       "6  7  1  1  9  5"
      ]
     },
     "execution_count": 4,
     "metadata": {},
     "output_type": "execute_result"
    }
   ],
   "source": [
    "# Input\n",
    "ser = pd.Series(np.random.randint(1, 10, 35))\n",
    "\n",
    "# Solution\n",
    "pd.DataFrame(ser.values.reshape(7,5))"
   ]
  },
  {
   "cell_type": "markdown",
   "metadata": {},
   "source": [
    "### How to bin a numeric series to 10 groups of equal size?\n",
    "Bin the series ser into 10 equal deciles and replace the values with the bin name."
   ]
  },
  {
   "cell_type": "code",
   "execution_count": 3,
   "metadata": {},
   "outputs": [
    {
     "name": "stdout",
     "output_type": "stream",
     "text": [
      "0   0.38\n",
      "1   0.01\n",
      "2   0.21\n",
      "3   0.83\n",
      "4   0.43\n",
      "dtype: float64\n"
     ]
    },
    {
     "data": {
      "text/plain": [
       "0    4th\n",
       "1    1st\n",
       "2    2nd\n",
       "3    9th\n",
       "4    5th\n",
       "dtype: category\n",
       "Categories (10, object): [1st < 2nd < 3rd < 4th ... 7th < 8th < 9th < 10th]"
      ]
     },
     "execution_count": 3,
     "metadata": {},
     "output_type": "execute_result"
    }
   ],
   "source": [
    "# Input\n",
    "ser = pd.Series(np.random.random(20))\n",
    "print(ser.head())\n",
    "\n",
    "# Solution\n",
    "pd.qcut(ser, q=[0, .10, .20, .3, .4, .5, .6, .7, .8, .9, 1], \n",
    "        labels=['1st', '2nd', '3rd', '4th', '5th', '6th', '7th', '8th', '9th', '10th']).head()"
   ]
  }
 ],
 "metadata": {
  "kernelspec": {
   "display_name": "Python 3",
   "language": "python",
   "name": "python3"
  },
  "language_info": {
   "codemirror_mode": {
    "name": "ipython",
    "version": 3
   },
   "file_extension": ".py",
   "mimetype": "text/x-python",
   "name": "python",
   "nbconvert_exporter": "python",
   "pygments_lexer": "ipython3",
   "version": "3.9.7"
  },
  "latex_envs": {
   "LaTeX_envs_menu_present": true,
   "autoclose": true,
   "autocomplete": true,
   "bibliofile": "biblio.bib",
   "cite_by": "apalike",
   "current_citInitial": 1,
   "eqLabelWithNumbers": true,
   "eqNumInitial": 1,
   "hotkeys": {
    "equation": "Ctrl-E",
    "itemize": "Ctrl-I"
   },
   "labels_anchors": false,
   "latex_user_defs": false,
   "report_style_numbering": false,
   "user_envs_cfg": false
  }
 },
 "nbformat": 4,
 "nbformat_minor": 2
}
