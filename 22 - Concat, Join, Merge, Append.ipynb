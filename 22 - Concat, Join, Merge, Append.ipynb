{
 "cells": [
  {
   "cell_type": "code",
   "execution_count": 1,
   "metadata": {},
   "outputs": [],
   "source": [
    "import pandas as pd\n",
    "import numpy as np\n",
    "\n",
    "pd.options.display.float_format = '{:..1f}'.format\n",
    "pd.options.display.max_rows = 100\n",
    "\n",
    "from IPython.display import display"
   ]
  },
  {
   "cell_type": "code",
   "execution_count": 2,
   "metadata": {},
   "outputs": [
    {
     "data": {
      "text/html": [
       "<div>\n",
       "<style scoped>\n",
       "    .dataframe tbody tr th:only-of-type {\n",
       "        vertical-align: middle;\n",
       "    }\n",
       "\n",
       "    .dataframe tbody tr th {\n",
       "        vertical-align: top;\n",
       "    }\n",
       "\n",
       "    .dataframe thead th {\n",
       "        text-align: right;\n",
       "    }\n",
       "</style>\n",
       "<table border=\"1\" class=\"dataframe\">\n",
       "  <thead>\n",
       "    <tr style=\"text-align: right;\">\n",
       "      <th></th>\n",
       "      <th>employee_number</th>\n",
       "      <th>name</th>\n",
       "      <th>company</th>\n",
       "      <th>country</th>\n",
       "      <th>dob</th>\n",
       "      <th>age</th>\n",
       "      <th>department</th>\n",
       "      <th>salary</th>\n",
       "      <th>has_parking_space</th>\n",
       "    </tr>\n",
       "  </thead>\n",
       "  <tbody>\n",
       "    <tr>\n",
       "      <th>0</th>\n",
       "      <td>897028</td>\n",
       "      <td>Kenneth Jensen</td>\n",
       "      <td>Wilson and Sons</td>\n",
       "      <td>India</td>\n",
       "      <td>1983-07-03</td>\n",
       "      <td>38</td>\n",
       "      <td>Management</td>\n",
       "      <td>124790</td>\n",
       "      <td>False</td>\n",
       "    </tr>\n",
       "    <tr>\n",
       "      <th>1</th>\n",
       "      <td>463979</td>\n",
       "      <td>Sarah Anderson</td>\n",
       "      <td>Hernandez, Cunningham and Clark</td>\n",
       "      <td>India</td>\n",
       "      <td>1980-08-09</td>\n",
       "      <td>41</td>\n",
       "      <td>Consulting</td>\n",
       "      <td>103122</td>\n",
       "      <td>True</td>\n",
       "    </tr>\n",
       "    <tr>\n",
       "      <th>2</th>\n",
       "      <td>388446</td>\n",
       "      <td>Tracie Rollins</td>\n",
       "      <td>Hernandez, Cunningham and Clark</td>\n",
       "      <td>Cayman Islands</td>\n",
       "      <td>1987-07-29</td>\n",
       "      <td>34</td>\n",
       "      <td>Consulting</td>\n",
       "      <td>119072</td>\n",
       "      <td>False</td>\n",
       "    </tr>\n",
       "    <tr>\n",
       "      <th>3</th>\n",
       "      <td>267447</td>\n",
       "      <td>Seth Smith</td>\n",
       "      <td>Spears-Brown</td>\n",
       "      <td>Germany</td>\n",
       "      <td>1969-03-04</td>\n",
       "      <td>52</td>\n",
       "      <td>System Architect</td>\n",
       "      <td>115653</td>\n",
       "      <td>False</td>\n",
       "    </tr>\n",
       "    <tr>\n",
       "      <th>4</th>\n",
       "      <td>401300</td>\n",
       "      <td>Katherine Fields</td>\n",
       "      <td>Hernandez, Cunningham and Clark</td>\n",
       "      <td>Venezuela</td>\n",
       "      <td>1980-01-26</td>\n",
       "      <td>42</td>\n",
       "      <td>Finance</td>\n",
       "      <td>119412</td>\n",
       "      <td>False</td>\n",
       "    </tr>\n",
       "  </tbody>\n",
       "</table>\n",
       "</div>"
      ],
      "text/plain": [
       "   employee_number              name                          company  \\\n",
       "0           897028    Kenneth Jensen                  Wilson and Sons   \n",
       "1           463979    Sarah Anderson  Hernandez, Cunningham and Clark   \n",
       "2           388446    Tracie Rollins  Hernandez, Cunningham and Clark   \n",
       "3           267447        Seth Smith                     Spears-Brown   \n",
       "4           401300  Katherine Fields  Hernandez, Cunningham and Clark   \n",
       "\n",
       "          country        dob  age        department  salary  has_parking_space  \n",
       "0           India 1983-07-03   38        Management  124790              False  \n",
       "1           India 1980-08-09   41        Consulting  103122               True  \n",
       "2  Cayman Islands 1987-07-29   34        Consulting  119072              False  \n",
       "3         Germany 1969-03-04   52  System Architect  115653              False  \n",
       "4       Venezuela 1980-01-26   42           Finance  119412              False  "
      ]
     },
     "execution_count": 2,
     "metadata": {},
     "output_type": "execute_result"
    }
   ],
   "source": [
    "path = 'datasets/employee_list.parquet'\n",
    "df = pd.read_parquet(path)\n",
    "df.head()"
   ]
  },
  {
   "cell_type": "markdown",
   "metadata": {},
   "source": [
    "Find number of rows"
   ]
  },
  {
   "cell_type": "code",
   "execution_count": 3,
   "metadata": {},
   "outputs": [
    {
     "name": "stdout",
     "output_type": "stream",
     "text": [
      "100\n",
      "100\n"
     ]
    }
   ],
   "source": [
    "print(df.shape[0])\n",
    "print(df.index.size)"
   ]
  },
  {
   "cell_type": "markdown",
   "metadata": {},
   "source": [
    "## Append\n",
    "For stacking vertically"
   ]
  },
  {
   "cell_type": "code",
   "execution_count": 4,
   "metadata": {},
   "outputs": [
    {
     "data": {
      "text/html": [
       "<div>\n",
       "<style scoped>\n",
       "    .dataframe tbody tr th:only-of-type {\n",
       "        vertical-align: middle;\n",
       "    }\n",
       "\n",
       "    .dataframe tbody tr th {\n",
       "        vertical-align: top;\n",
       "    }\n",
       "\n",
       "    .dataframe thead th {\n",
       "        text-align: right;\n",
       "    }\n",
       "</style>\n",
       "<table border=\"1\" class=\"dataframe\">\n",
       "  <thead>\n",
       "    <tr style=\"text-align: right;\">\n",
       "      <th></th>\n",
       "      <th>name</th>\n",
       "      <th>company</th>\n",
       "      <th>country</th>\n",
       "      <th>dob</th>\n",
       "      <th>age</th>\n",
       "      <th>department</th>\n",
       "      <th>salary</th>\n",
       "      <th>has_parking_space</th>\n",
       "    </tr>\n",
       "    <tr>\n",
       "      <th>employee_number</th>\n",
       "      <th></th>\n",
       "      <th></th>\n",
       "      <th></th>\n",
       "      <th></th>\n",
       "      <th></th>\n",
       "      <th></th>\n",
       "      <th></th>\n",
       "      <th></th>\n",
       "    </tr>\n",
       "  </thead>\n",
       "  <tbody>\n",
       "    <tr>\n",
       "      <th>897028</th>\n",
       "      <td>Kenneth Jensen</td>\n",
       "      <td>Wilson and Sons</td>\n",
       "      <td>India</td>\n",
       "      <td>1983-07-03</td>\n",
       "      <td>38</td>\n",
       "      <td>Management</td>\n",
       "      <td>124790</td>\n",
       "      <td>False</td>\n",
       "    </tr>\n",
       "    <tr>\n",
       "      <th>463979</th>\n",
       "      <td>Sarah Anderson</td>\n",
       "      <td>Hernandez, Cunningham and Clark</td>\n",
       "      <td>India</td>\n",
       "      <td>1980-08-09</td>\n",
       "      <td>41</td>\n",
       "      <td>Consulting</td>\n",
       "      <td>103122</td>\n",
       "      <td>True</td>\n",
       "    </tr>\n",
       "    <tr>\n",
       "      <th>388446</th>\n",
       "      <td>Tracie Rollins</td>\n",
       "      <td>Hernandez, Cunningham and Clark</td>\n",
       "      <td>Cayman Islands</td>\n",
       "      <td>1987-07-29</td>\n",
       "      <td>34</td>\n",
       "      <td>Consulting</td>\n",
       "      <td>119072</td>\n",
       "      <td>False</td>\n",
       "    </tr>\n",
       "    <tr>\n",
       "      <th>267447</th>\n",
       "      <td>Seth Smith</td>\n",
       "      <td>Spears-Brown</td>\n",
       "      <td>Germany</td>\n",
       "      <td>1969-03-04</td>\n",
       "      <td>52</td>\n",
       "      <td>System Architect</td>\n",
       "      <td>115653</td>\n",
       "      <td>False</td>\n",
       "    </tr>\n",
       "  </tbody>\n",
       "</table>\n",
       "</div>"
      ],
      "text/plain": [
       "                           name                          company  \\\n",
       "employee_number                                                    \n",
       "897028           Kenneth Jensen                  Wilson and Sons   \n",
       "463979           Sarah Anderson  Hernandez, Cunningham and Clark   \n",
       "388446           Tracie Rollins  Hernandez, Cunningham and Clark   \n",
       "267447               Seth Smith                     Spears-Brown   \n",
       "\n",
       "                        country        dob  age        department  salary  \\\n",
       "employee_number                                                             \n",
       "897028                    India 1983-07-03   38        Management  124790   \n",
       "463979                    India 1980-08-09   41        Consulting  103122   \n",
       "388446           Cayman Islands 1987-07-29   34        Consulting  119072   \n",
       "267447                  Germany 1969-03-04   52  System Architect  115653   \n",
       "\n",
       "                 has_parking_space  \n",
       "employee_number                     \n",
       "897028                       False  \n",
       "463979                        True  \n",
       "388446                       False  \n",
       "267447                       False  "
      ]
     },
     "execution_count": 4,
     "metadata": {},
     "output_type": "execute_result"
    }
   ],
   "source": [
    "df1 = df.iloc[:2,:].set_index('employee_number')\n",
    "df2 = df.iloc[2:4,].set_index('employee_number')\n",
    "df1.append(df2)"
   ]
  },
  {
   "cell_type": "markdown",
   "metadata": {},
   "source": [
    "Appending a new dataframe that are missing a column results in NaNs "
   ]
  },
  {
   "cell_type": "code",
   "execution_count": 5,
   "metadata": {},
   "outputs": [
    {
     "data": {
      "text/html": [
       "<div>\n",
       "<style scoped>\n",
       "    .dataframe tbody tr th:only-of-type {\n",
       "        vertical-align: middle;\n",
       "    }\n",
       "\n",
       "    .dataframe tbody tr th {\n",
       "        vertical-align: top;\n",
       "    }\n",
       "\n",
       "    .dataframe thead th {\n",
       "        text-align: right;\n",
       "    }\n",
       "</style>\n",
       "<table border=\"1\" class=\"dataframe\">\n",
       "  <thead>\n",
       "    <tr style=\"text-align: right;\">\n",
       "      <th></th>\n",
       "      <th>name</th>\n",
       "      <th>company</th>\n",
       "      <th>country</th>\n",
       "      <th>dob</th>\n",
       "      <th>age</th>\n",
       "      <th>department</th>\n",
       "      <th>salary</th>\n",
       "      <th>has_parking_space</th>\n",
       "    </tr>\n",
       "    <tr>\n",
       "      <th>employee_number</th>\n",
       "      <th></th>\n",
       "      <th></th>\n",
       "      <th></th>\n",
       "      <th></th>\n",
       "      <th></th>\n",
       "      <th></th>\n",
       "      <th></th>\n",
       "      <th></th>\n",
       "    </tr>\n",
       "  </thead>\n",
       "  <tbody>\n",
       "    <tr>\n",
       "      <th>897028</th>\n",
       "      <td>Kenneth Jensen</td>\n",
       "      <td>Wilson and Sons</td>\n",
       "      <td>India</td>\n",
       "      <td>1983-07-03</td>\n",
       "      <td>38</td>\n",
       "      <td>Management</td>\n",
       "      <td>124790</td>\n",
       "      <td>False</td>\n",
       "    </tr>\n",
       "    <tr>\n",
       "      <th>463979</th>\n",
       "      <td>Sarah Anderson</td>\n",
       "      <td>Hernandez, Cunningham and Clark</td>\n",
       "      <td>India</td>\n",
       "      <td>1980-08-09</td>\n",
       "      <td>41</td>\n",
       "      <td>Consulting</td>\n",
       "      <td>103122</td>\n",
       "      <td>True</td>\n",
       "    </tr>\n",
       "    <tr>\n",
       "      <th>388446</th>\n",
       "      <td>Tracie Rollins</td>\n",
       "      <td>Hernandez, Cunningham and Clark</td>\n",
       "      <td>Cayman Islands</td>\n",
       "      <td>1987-07-29</td>\n",
       "      <td>34</td>\n",
       "      <td>Consulting</td>\n",
       "      <td>119072</td>\n",
       "      <td>NaN</td>\n",
       "    </tr>\n",
       "    <tr>\n",
       "      <th>267447</th>\n",
       "      <td>Seth Smith</td>\n",
       "      <td>Spears-Brown</td>\n",
       "      <td>Germany</td>\n",
       "      <td>1969-03-04</td>\n",
       "      <td>52</td>\n",
       "      <td>System Architect</td>\n",
       "      <td>115653</td>\n",
       "      <td>NaN</td>\n",
       "    </tr>\n",
       "  </tbody>\n",
       "</table>\n",
       "</div>"
      ],
      "text/plain": [
       "                           name                          company  \\\n",
       "employee_number                                                    \n",
       "897028           Kenneth Jensen                  Wilson and Sons   \n",
       "463979           Sarah Anderson  Hernandez, Cunningham and Clark   \n",
       "388446           Tracie Rollins  Hernandez, Cunningham and Clark   \n",
       "267447               Seth Smith                     Spears-Brown   \n",
       "\n",
       "                        country        dob  age        department  salary  \\\n",
       "employee_number                                                             \n",
       "897028                    India 1983-07-03   38        Management  124790   \n",
       "463979                    India 1980-08-09   41        Consulting  103122   \n",
       "388446           Cayman Islands 1987-07-29   34        Consulting  119072   \n",
       "267447                  Germany 1969-03-04   52  System Architect  115653   \n",
       "\n",
       "                has_parking_space  \n",
       "employee_number                    \n",
       "897028                      False  \n",
       "463979                       True  \n",
       "388446                        NaN  \n",
       "267447                        NaN  "
      ]
     },
     "execution_count": 5,
     "metadata": {},
     "output_type": "execute_result"
    }
   ],
   "source": [
    "df1 = df.iloc[:2,:].set_index('employee_number')\n",
    "\n",
    "# df2 will miss column 'has_parking_space'\n",
    "df2 = df.iloc[2:4,:-1].set_index('employee_number')\n",
    "\n",
    "df1.append(df2)"
   ]
  },
  {
   "cell_type": "markdown",
   "metadata": {},
   "source": [
    "## Concat\n",
    "- For stacking many horizontally or vertically\n",
    "- Simple inner/outer joins on Indexes"
   ]
  },
  {
   "cell_type": "markdown",
   "metadata": {},
   "source": [
    "#### Concat along the rows"
   ]
  },
  {
   "cell_type": "code",
   "execution_count": 6,
   "metadata": {},
   "outputs": [
    {
     "data": {
      "text/plain": [
       "8"
      ]
     },
     "execution_count": 6,
     "metadata": {},
     "output_type": "execute_result"
    }
   ],
   "source": [
    "len(df1.columns)"
   ]
  },
  {
   "cell_type": "code",
   "execution_count": 7,
   "metadata": {},
   "outputs": [
    {
     "data": {
      "text/html": [
       "<div>\n",
       "<style scoped>\n",
       "    .dataframe tbody tr th:only-of-type {\n",
       "        vertical-align: middle;\n",
       "    }\n",
       "\n",
       "    .dataframe tbody tr th {\n",
       "        vertical-align: top;\n",
       "    }\n",
       "\n",
       "    .dataframe thead th {\n",
       "        text-align: right;\n",
       "    }\n",
       "</style>\n",
       "<table border=\"1\" class=\"dataframe\">\n",
       "  <thead>\n",
       "    <tr style=\"text-align: right;\">\n",
       "      <th></th>\n",
       "      <th>name</th>\n",
       "      <th>company</th>\n",
       "      <th>dob</th>\n",
       "      <th>age</th>\n",
       "      <th>department</th>\n",
       "      <th>salary</th>\n",
       "      <th>has_parking_space</th>\n",
       "      <th>country</th>\n",
       "    </tr>\n",
       "    <tr>\n",
       "      <th>employee_number</th>\n",
       "      <th></th>\n",
       "      <th></th>\n",
       "      <th></th>\n",
       "      <th></th>\n",
       "      <th></th>\n",
       "      <th></th>\n",
       "      <th></th>\n",
       "      <th></th>\n",
       "    </tr>\n",
       "  </thead>\n",
       "  <tbody>\n",
       "    <tr>\n",
       "      <th>897028</th>\n",
       "      <td>Kenneth Jensen</td>\n",
       "      <td>Wilson and Sons</td>\n",
       "      <td>1983-07-03</td>\n",
       "      <td>38</td>\n",
       "      <td>Management</td>\n",
       "      <td>124790</td>\n",
       "      <td>False</td>\n",
       "      <td>NaN</td>\n",
       "    </tr>\n",
       "    <tr>\n",
       "      <th>463979</th>\n",
       "      <td>Sarah Anderson</td>\n",
       "      <td>Hernandez, Cunningham and Clark</td>\n",
       "      <td>1980-08-09</td>\n",
       "      <td>41</td>\n",
       "      <td>Consulting</td>\n",
       "      <td>103122</td>\n",
       "      <td>True</td>\n",
       "      <td>NaN</td>\n",
       "    </tr>\n",
       "    <tr>\n",
       "      <th>388446</th>\n",
       "      <td>Tracie Rollins</td>\n",
       "      <td>Hernandez, Cunningham and Clark</td>\n",
       "      <td>1987-07-29</td>\n",
       "      <td>34</td>\n",
       "      <td>Consulting</td>\n",
       "      <td>119072</td>\n",
       "      <td>NaN</td>\n",
       "      <td>Cayman Islands</td>\n",
       "    </tr>\n",
       "    <tr>\n",
       "      <th>267447</th>\n",
       "      <td>Seth Smith</td>\n",
       "      <td>Spears-Brown</td>\n",
       "      <td>1969-03-04</td>\n",
       "      <td>52</td>\n",
       "      <td>System Architect</td>\n",
       "      <td>115653</td>\n",
       "      <td>NaN</td>\n",
       "      <td>Germany</td>\n",
       "    </tr>\n",
       "  </tbody>\n",
       "</table>\n",
       "</div>"
      ],
      "text/plain": [
       "                           name                          company        dob  \\\n",
       "employee_number                                                               \n",
       "897028           Kenneth Jensen                  Wilson and Sons 1983-07-03   \n",
       "463979           Sarah Anderson  Hernandez, Cunningham and Clark 1980-08-09   \n",
       "388446           Tracie Rollins  Hernandez, Cunningham and Clark 1987-07-29   \n",
       "267447               Seth Smith                     Spears-Brown 1969-03-04   \n",
       "\n",
       "                 age        department  salary has_parking_space  \\\n",
       "employee_number                                                    \n",
       "897028            38        Management  124790             False   \n",
       "463979            41        Consulting  103122              True   \n",
       "388446            34        Consulting  119072               NaN   \n",
       "267447            52  System Architect  115653               NaN   \n",
       "\n",
       "                        country  \n",
       "employee_number                  \n",
       "897028                      NaN  \n",
       "463979                      NaN  \n",
       "388446           Cayman Islands  \n",
       "267447                  Germany  "
      ]
     },
     "execution_count": 7,
     "metadata": {},
     "output_type": "execute_result"
    }
   ],
   "source": [
    "# df1 is missing column 'country'\n",
    "df1 = df.iloc[:2,[0, 1, 2, 4, 5, 6, 7, 8]].set_index('employee_number')\n",
    "\n",
    "# df2 is missing column 'has_parking_space'\n",
    "df2 = df.iloc[2:4,:-1].set_index('employee_number')\n",
    "\n",
    "pd.concat([df1,df2])"
   ]
  },
  {
   "cell_type": "markdown",
   "metadata": {},
   "source": [
    "#### Concat along the columns"
   ]
  },
  {
   "cell_type": "code",
   "execution_count": 8,
   "metadata": {},
   "outputs": [
    {
     "data": {
      "text/html": [
       "<div>\n",
       "<style scoped>\n",
       "    .dataframe tbody tr th:only-of-type {\n",
       "        vertical-align: middle;\n",
       "    }\n",
       "\n",
       "    .dataframe tbody tr th {\n",
       "        vertical-align: top;\n",
       "    }\n",
       "\n",
       "    .dataframe thead th {\n",
       "        text-align: right;\n",
       "    }\n",
       "</style>\n",
       "<table border=\"1\" class=\"dataframe\">\n",
       "  <thead>\n",
       "    <tr style=\"text-align: right;\">\n",
       "      <th></th>\n",
       "      <th>name</th>\n",
       "      <th>company</th>\n",
       "      <th>country</th>\n",
       "      <th>dob</th>\n",
       "      <th>age</th>\n",
       "      <th>department</th>\n",
       "      <th>salary</th>\n",
       "      <th>has_parking_space</th>\n",
       "    </tr>\n",
       "    <tr>\n",
       "      <th>employee_number</th>\n",
       "      <th></th>\n",
       "      <th></th>\n",
       "      <th></th>\n",
       "      <th></th>\n",
       "      <th></th>\n",
       "      <th></th>\n",
       "      <th></th>\n",
       "      <th></th>\n",
       "    </tr>\n",
       "  </thead>\n",
       "  <tbody>\n",
       "    <tr>\n",
       "      <th>897028</th>\n",
       "      <td>Kenneth Jensen</td>\n",
       "      <td>Wilson and Sons</td>\n",
       "      <td>India</td>\n",
       "      <td>1983-07-03</td>\n",
       "      <td>38</td>\n",
       "      <td>Management</td>\n",
       "      <td>124790</td>\n",
       "      <td>False</td>\n",
       "    </tr>\n",
       "    <tr>\n",
       "      <th>463979</th>\n",
       "      <td>Sarah Anderson</td>\n",
       "      <td>Hernandez, Cunningham and Clark</td>\n",
       "      <td>India</td>\n",
       "      <td>1980-08-09</td>\n",
       "      <td>41</td>\n",
       "      <td>Consulting</td>\n",
       "      <td>103122</td>\n",
       "      <td>True</td>\n",
       "    </tr>\n",
       "    <tr>\n",
       "      <th>388446</th>\n",
       "      <td>Tracie Rollins</td>\n",
       "      <td>Hernandez, Cunningham and Clark</td>\n",
       "      <td>Cayman Islands</td>\n",
       "      <td>1987-07-29</td>\n",
       "      <td>34</td>\n",
       "      <td>Consulting</td>\n",
       "      <td>119072</td>\n",
       "      <td>False</td>\n",
       "    </tr>\n",
       "    <tr>\n",
       "      <th>267447</th>\n",
       "      <td>Seth Smith</td>\n",
       "      <td>Spears-Brown</td>\n",
       "      <td>Germany</td>\n",
       "      <td>1969-03-04</td>\n",
       "      <td>52</td>\n",
       "      <td>System Architect</td>\n",
       "      <td>115653</td>\n",
       "      <td>False</td>\n",
       "    </tr>\n",
       "    <tr>\n",
       "      <th>401300</th>\n",
       "      <td>Katherine Fields</td>\n",
       "      <td>Hernandez, Cunningham and Clark</td>\n",
       "      <td>Venezuela</td>\n",
       "      <td>1980-01-26</td>\n",
       "      <td>42</td>\n",
       "      <td>Finance</td>\n",
       "      <td>119412</td>\n",
       "      <td>False</td>\n",
       "    </tr>\n",
       "  </tbody>\n",
       "</table>\n",
       "</div>"
      ],
      "text/plain": [
       "                             name                          company  \\\n",
       "employee_number                                                      \n",
       "897028             Kenneth Jensen                  Wilson and Sons   \n",
       "463979             Sarah Anderson  Hernandez, Cunningham and Clark   \n",
       "388446             Tracie Rollins  Hernandez, Cunningham and Clark   \n",
       "267447                 Seth Smith                     Spears-Brown   \n",
       "401300           Katherine Fields  Hernandez, Cunningham and Clark   \n",
       "\n",
       "                        country        dob  age        department  salary  \\\n",
       "employee_number                                                             \n",
       "897028                    India 1983-07-03   38        Management  124790   \n",
       "463979                    India 1980-08-09   41        Consulting  103122   \n",
       "388446           Cayman Islands 1987-07-29   34        Consulting  119072   \n",
       "267447                  Germany 1969-03-04   52  System Architect  115653   \n",
       "401300                Venezuela 1980-01-26   42           Finance  119412   \n",
       "\n",
       "                 has_parking_space  \n",
       "employee_number                     \n",
       "897028                       False  \n",
       "463979                        True  \n",
       "388446                       False  \n",
       "267447                       False  \n",
       "401300                       False  "
      ]
     },
     "execution_count": 8,
     "metadata": {},
     "output_type": "execute_result"
    }
   ],
   "source": [
    "df_copy = df.copy(deep=True)\n",
    "df_copy.set_index('employee_number', inplace=True)\n",
    "\n",
    "# df1 contains the first 4 columns\n",
    "df1 = df_copy.iloc[:5, :4]\n",
    "\n",
    "# df2 contains the last four columns\n",
    "df2 = df_copy.iloc[:5, 4:]\n",
    "\n",
    "pd.concat([df1, df2], axis='columns').head()"
   ]
  },
  {
   "cell_type": "markdown",
   "metadata": {},
   "source": [
    "### Concat series"
   ]
  },
  {
   "cell_type": "code",
   "execution_count": 9,
   "metadata": {},
   "outputs": [
    {
     "data": {
      "text/plain": [
       "A    10\n",
       "B    20\n",
       "C    30\n",
       "A    40\n",
       "B    50\n",
       "C    60\n",
       "dtype: int64"
      ]
     },
     "execution_count": 9,
     "metadata": {},
     "output_type": "execute_result"
    }
   ],
   "source": [
    "ser1 = pd.Series([10, 20, 30], index=list('ABC'))\n",
    "ser2 = pd.Series([40, 50, 60], index=list('ABC'))\n",
    "pd.concat([ser1, ser2])"
   ]
  },
  {
   "cell_type": "code",
   "execution_count": 10,
   "metadata": {},
   "outputs": [
    {
     "data": {
      "text/plain": [
       "0    10\n",
       "1    20\n",
       "2    30\n",
       "3    40\n",
       "4    50\n",
       "5    60\n",
       "dtype: int64"
      ]
     },
     "execution_count": 10,
     "metadata": {},
     "output_type": "execute_result"
    }
   ],
   "source": [
    "ser1 = pd.Series([10, 20, 30], index=list('ABC'))\n",
    "ser2 = pd.Series([40, 50, 60], index=list('ABC'))\n",
    "pd.concat([ser1, ser2], ignore_index=True)"
   ]
  },
  {
   "cell_type": "markdown",
   "metadata": {},
   "source": [
    "## Join\n",
    "- inner/outer/left/right joins on Indexes"
   ]
  },
  {
   "cell_type": "markdown",
   "metadata": {},
   "source": [
    "## Merge\n",
    "- Many joins on multiple columns"
   ]
  },
  {
   "cell_type": "markdown",
   "metadata": {},
   "source": [
    "### Example 2"
   ]
  },
  {
   "cell_type": "code",
   "execution_count": 87,
   "metadata": {},
   "outputs": [],
   "source": [
    "# employee dataframe\n",
    "use_cols = ['employee_number', 'name', 'company', 'department']\n",
    "employees = df[use_cols].sample(3)\n",
    "\n",
    "# employee system logins dataframe\n",
    "from faker import Faker\n",
    "fake = Faker()\n",
    "logins = pd.DataFrame(columns=['employee_number', 'system_login'])\n",
    "for number in employees.employee_number.tolist():\n",
    "    for _ in range(np.random.randint(low=2, high=5)):\n",
    "        datetime = fake.date_time_between(start_date='-5d', end_date='now')\n",
    "        d = {'employee_number': number, 'system_login': datetime}\n",
    "        logins = logins.append(d, ignore_index=True)\n",
    "logins = logins.sort_values('system_login').reset_index(drop=True)"
   ]
  },
  {
   "cell_type": "code",
   "execution_count": 88,
   "metadata": {},
   "outputs": [
    {
     "name": "stdout",
     "output_type": "stream",
     "text": [
      "Number of rows in employees dataframe:  3\n"
     ]
    },
    {
     "data": {
      "text/html": [
       "<div>\n",
       "<style scoped>\n",
       "    .dataframe tbody tr th:only-of-type {\n",
       "        vertical-align: middle;\n",
       "    }\n",
       "\n",
       "    .dataframe tbody tr th {\n",
       "        vertical-align: top;\n",
       "    }\n",
       "\n",
       "    .dataframe thead th {\n",
       "        text-align: right;\n",
       "    }\n",
       "</style>\n",
       "<table border=\"1\" class=\"dataframe\">\n",
       "  <thead>\n",
       "    <tr style=\"text-align: right;\">\n",
       "      <th></th>\n",
       "      <th>employee_number</th>\n",
       "      <th>name</th>\n",
       "      <th>company</th>\n",
       "      <th>department</th>\n",
       "    </tr>\n",
       "  </thead>\n",
       "  <tbody>\n",
       "    <tr>\n",
       "      <th>60</th>\n",
       "      <td>920539</td>\n",
       "      <td>Robert Wang</td>\n",
       "      <td>Hernandez, Cunningham and Clark</td>\n",
       "      <td>Finance</td>\n",
       "    </tr>\n",
       "    <tr>\n",
       "      <th>42</th>\n",
       "      <td>907813</td>\n",
       "      <td>Jennifer Thompson</td>\n",
       "      <td>Hernandez, Cunningham and Clark</td>\n",
       "      <td>System Architect</td>\n",
       "    </tr>\n",
       "    <tr>\n",
       "      <th>84</th>\n",
       "      <td>567812</td>\n",
       "      <td>Robin Mcmahon</td>\n",
       "      <td>Wilson and Sons</td>\n",
       "      <td>Management</td>\n",
       "    </tr>\n",
       "  </tbody>\n",
       "</table>\n",
       "</div>"
      ],
      "text/plain": [
       "    employee_number               name                          company  \\\n",
       "60           920539        Robert Wang  Hernandez, Cunningham and Clark   \n",
       "42           907813  Jennifer Thompson  Hernandez, Cunningham and Clark   \n",
       "84           567812      Robin Mcmahon                  Wilson and Sons   \n",
       "\n",
       "          department  \n",
       "60           Finance  \n",
       "42  System Architect  \n",
       "84        Management  "
      ]
     },
     "execution_count": 88,
     "metadata": {},
     "output_type": "execute_result"
    }
   ],
   "source": [
    "print('Number of rows in employees dataframe: ', employees.shape[0])\n",
    "employees"
   ]
  },
  {
   "cell_type": "code",
   "execution_count": 89,
   "metadata": {},
   "outputs": [
    {
     "name": "stdout",
     "output_type": "stream",
     "text": [
      "Number of rows in logins dataframe:  8\n"
     ]
    },
    {
     "data": {
      "text/html": [
       "<div>\n",
       "<style scoped>\n",
       "    .dataframe tbody tr th:only-of-type {\n",
       "        vertical-align: middle;\n",
       "    }\n",
       "\n",
       "    .dataframe tbody tr th {\n",
       "        vertical-align: top;\n",
       "    }\n",
       "\n",
       "    .dataframe thead th {\n",
       "        text-align: right;\n",
       "    }\n",
       "</style>\n",
       "<table border=\"1\" class=\"dataframe\">\n",
       "  <thead>\n",
       "    <tr style=\"text-align: right;\">\n",
       "      <th></th>\n",
       "      <th>employee_number</th>\n",
       "      <th>system_login</th>\n",
       "    </tr>\n",
       "  </thead>\n",
       "  <tbody>\n",
       "    <tr>\n",
       "      <th>0</th>\n",
       "      <td>907813</td>\n",
       "      <td>2022-01-30 21:57:51</td>\n",
       "    </tr>\n",
       "    <tr>\n",
       "      <th>1</th>\n",
       "      <td>920539</td>\n",
       "      <td>2022-01-30 23:38:15</td>\n",
       "    </tr>\n",
       "    <tr>\n",
       "      <th>2</th>\n",
       "      <td>567812</td>\n",
       "      <td>2022-01-31 10:57:22</td>\n",
       "    </tr>\n",
       "    <tr>\n",
       "      <th>3</th>\n",
       "      <td>567812</td>\n",
       "      <td>2022-01-31 19:24:38</td>\n",
       "    </tr>\n",
       "    <tr>\n",
       "      <th>4</th>\n",
       "      <td>907813</td>\n",
       "      <td>2022-02-01 21:37:29</td>\n",
       "    </tr>\n",
       "  </tbody>\n",
       "</table>\n",
       "</div>"
      ],
      "text/plain": [
       "  employee_number        system_login\n",
       "0          907813 2022-01-30 21:57:51\n",
       "1          920539 2022-01-30 23:38:15\n",
       "2          567812 2022-01-31 10:57:22\n",
       "3          567812 2022-01-31 19:24:38\n",
       "4          907813 2022-02-01 21:37:29"
      ]
     },
     "execution_count": 89,
     "metadata": {},
     "output_type": "execute_result"
    }
   ],
   "source": [
    "print('Number of rows in logins dataframe: ', logins.shape[0])\n",
    "logins.head(5)"
   ]
  },
  {
   "cell_type": "code",
   "execution_count": 90,
   "metadata": {},
   "outputs": [
    {
     "name": "stdout",
     "output_type": "stream",
     "text": [
      "Number of rows in merged dataframe:  8\n"
     ]
    },
    {
     "data": {
      "text/html": [
       "<div>\n",
       "<style scoped>\n",
       "    .dataframe tbody tr th:only-of-type {\n",
       "        vertical-align: middle;\n",
       "    }\n",
       "\n",
       "    .dataframe tbody tr th {\n",
       "        vertical-align: top;\n",
       "    }\n",
       "\n",
       "    .dataframe thead th {\n",
       "        text-align: right;\n",
       "    }\n",
       "</style>\n",
       "<table border=\"1\" class=\"dataframe\">\n",
       "  <thead>\n",
       "    <tr style=\"text-align: right;\">\n",
       "      <th></th>\n",
       "      <th>employee_number</th>\n",
       "      <th>name</th>\n",
       "      <th>company</th>\n",
       "      <th>department</th>\n",
       "      <th>system_login</th>\n",
       "    </tr>\n",
       "  </thead>\n",
       "  <tbody>\n",
       "    <tr>\n",
       "      <th>0</th>\n",
       "      <td>920539</td>\n",
       "      <td>Robert Wang</td>\n",
       "      <td>Hernandez, Cunningham and Clark</td>\n",
       "      <td>Finance</td>\n",
       "      <td>2022-01-30 23:38:15</td>\n",
       "    </tr>\n",
       "    <tr>\n",
       "      <th>1</th>\n",
       "      <td>920539</td>\n",
       "      <td>Robert Wang</td>\n",
       "      <td>Hernandez, Cunningham and Clark</td>\n",
       "      <td>Finance</td>\n",
       "      <td>2022-02-02 05:27:39</td>\n",
       "    </tr>\n",
       "    <tr>\n",
       "      <th>2</th>\n",
       "      <td>907813</td>\n",
       "      <td>Jennifer Thompson</td>\n",
       "      <td>Hernandez, Cunningham and Clark</td>\n",
       "      <td>System Architect</td>\n",
       "      <td>2022-01-30 21:57:51</td>\n",
       "    </tr>\n",
       "    <tr>\n",
       "      <th>3</th>\n",
       "      <td>907813</td>\n",
       "      <td>Jennifer Thompson</td>\n",
       "      <td>Hernandez, Cunningham and Clark</td>\n",
       "      <td>System Architect</td>\n",
       "      <td>2022-02-01 21:37:29</td>\n",
       "    </tr>\n",
       "    <tr>\n",
       "      <th>4</th>\n",
       "      <td>907813</td>\n",
       "      <td>Jennifer Thompson</td>\n",
       "      <td>Hernandez, Cunningham and Clark</td>\n",
       "      <td>System Architect</td>\n",
       "      <td>2022-02-01 22:54:46</td>\n",
       "    </tr>\n",
       "    <tr>\n",
       "      <th>5</th>\n",
       "      <td>907813</td>\n",
       "      <td>Jennifer Thompson</td>\n",
       "      <td>Hernandez, Cunningham and Clark</td>\n",
       "      <td>System Architect</td>\n",
       "      <td>2022-02-02 21:09:07</td>\n",
       "    </tr>\n",
       "    <tr>\n",
       "      <th>6</th>\n",
       "      <td>567812</td>\n",
       "      <td>Robin Mcmahon</td>\n",
       "      <td>Wilson and Sons</td>\n",
       "      <td>Management</td>\n",
       "      <td>2022-01-31 10:57:22</td>\n",
       "    </tr>\n",
       "    <tr>\n",
       "      <th>7</th>\n",
       "      <td>567812</td>\n",
       "      <td>Robin Mcmahon</td>\n",
       "      <td>Wilson and Sons</td>\n",
       "      <td>Management</td>\n",
       "      <td>2022-01-31 19:24:38</td>\n",
       "    </tr>\n",
       "  </tbody>\n",
       "</table>\n",
       "</div>"
      ],
      "text/plain": [
       "  employee_number               name                          company  \\\n",
       "0          920539        Robert Wang  Hernandez, Cunningham and Clark   \n",
       "1          920539        Robert Wang  Hernandez, Cunningham and Clark   \n",
       "2          907813  Jennifer Thompson  Hernandez, Cunningham and Clark   \n",
       "3          907813  Jennifer Thompson  Hernandez, Cunningham and Clark   \n",
       "4          907813  Jennifer Thompson  Hernandez, Cunningham and Clark   \n",
       "5          907813  Jennifer Thompson  Hernandez, Cunningham and Clark   \n",
       "6          567812      Robin Mcmahon                  Wilson and Sons   \n",
       "7          567812      Robin Mcmahon                  Wilson and Sons   \n",
       "\n",
       "         department        system_login  \n",
       "0           Finance 2022-01-30 23:38:15  \n",
       "1           Finance 2022-02-02 05:27:39  \n",
       "2  System Architect 2022-01-30 21:57:51  \n",
       "3  System Architect 2022-02-01 21:37:29  \n",
       "4  System Architect 2022-02-01 22:54:46  \n",
       "5  System Architect 2022-02-02 21:09:07  \n",
       "6        Management 2022-01-31 10:57:22  \n",
       "7        Management 2022-01-31 19:24:38  "
      ]
     },
     "execution_count": 90,
     "metadata": {},
     "output_type": "execute_result"
    }
   ],
   "source": [
    "merged = pd.merge(employees, logins, left_on='employee_number', right_on='employee_number')\n",
    "print('Number of rows in merged dataframe: ', merged.shape[0])\n",
    "merged"
   ]
  },
  {
   "cell_type": "markdown",
   "metadata": {},
   "source": [
    "### Example 3"
   ]
  },
  {
   "cell_type": "code",
   "execution_count": 91,
   "metadata": {},
   "outputs": [],
   "source": [
    "employees = employees.set_index('employee_number')"
   ]
  },
  {
   "cell_type": "code",
   "execution_count": 92,
   "metadata": {},
   "outputs": [
    {
     "data": {
      "text/html": [
       "<div>\n",
       "<style scoped>\n",
       "    .dataframe tbody tr th:only-of-type {\n",
       "        vertical-align: middle;\n",
       "    }\n",
       "\n",
       "    .dataframe tbody tr th {\n",
       "        vertical-align: top;\n",
       "    }\n",
       "\n",
       "    .dataframe thead th {\n",
       "        text-align: right;\n",
       "    }\n",
       "</style>\n",
       "<table border=\"1\" class=\"dataframe\">\n",
       "  <thead>\n",
       "    <tr style=\"text-align: right;\">\n",
       "      <th></th>\n",
       "      <th>name</th>\n",
       "      <th>company</th>\n",
       "      <th>department</th>\n",
       "      <th>employee_number</th>\n",
       "      <th>system_login</th>\n",
       "    </tr>\n",
       "  </thead>\n",
       "  <tbody>\n",
       "    <tr>\n",
       "      <th>1</th>\n",
       "      <td>Robert Wang</td>\n",
       "      <td>Hernandez, Cunningham and Clark</td>\n",
       "      <td>Finance</td>\n",
       "      <td>920539</td>\n",
       "      <td>2022-01-30 23:38:15</td>\n",
       "    </tr>\n",
       "    <tr>\n",
       "      <th>6</th>\n",
       "      <td>Robert Wang</td>\n",
       "      <td>Hernandez, Cunningham and Clark</td>\n",
       "      <td>Finance</td>\n",
       "      <td>920539</td>\n",
       "      <td>2022-02-02 05:27:39</td>\n",
       "    </tr>\n",
       "    <tr>\n",
       "      <th>0</th>\n",
       "      <td>Jennifer Thompson</td>\n",
       "      <td>Hernandez, Cunningham and Clark</td>\n",
       "      <td>System Architect</td>\n",
       "      <td>907813</td>\n",
       "      <td>2022-01-30 21:57:51</td>\n",
       "    </tr>\n",
       "    <tr>\n",
       "      <th>4</th>\n",
       "      <td>Jennifer Thompson</td>\n",
       "      <td>Hernandez, Cunningham and Clark</td>\n",
       "      <td>System Architect</td>\n",
       "      <td>907813</td>\n",
       "      <td>2022-02-01 21:37:29</td>\n",
       "    </tr>\n",
       "    <tr>\n",
       "      <th>5</th>\n",
       "      <td>Jennifer Thompson</td>\n",
       "      <td>Hernandez, Cunningham and Clark</td>\n",
       "      <td>System Architect</td>\n",
       "      <td>907813</td>\n",
       "      <td>2022-02-01 22:54:46</td>\n",
       "    </tr>\n",
       "    <tr>\n",
       "      <th>7</th>\n",
       "      <td>Jennifer Thompson</td>\n",
       "      <td>Hernandez, Cunningham and Clark</td>\n",
       "      <td>System Architect</td>\n",
       "      <td>907813</td>\n",
       "      <td>2022-02-02 21:09:07</td>\n",
       "    </tr>\n",
       "    <tr>\n",
       "      <th>2</th>\n",
       "      <td>Robin Mcmahon</td>\n",
       "      <td>Wilson and Sons</td>\n",
       "      <td>Management</td>\n",
       "      <td>567812</td>\n",
       "      <td>2022-01-31 10:57:22</td>\n",
       "    </tr>\n",
       "    <tr>\n",
       "      <th>3</th>\n",
       "      <td>Robin Mcmahon</td>\n",
       "      <td>Wilson and Sons</td>\n",
       "      <td>Management</td>\n",
       "      <td>567812</td>\n",
       "      <td>2022-01-31 19:24:38</td>\n",
       "    </tr>\n",
       "  </tbody>\n",
       "</table>\n",
       "</div>"
      ],
      "text/plain": [
       "                name                          company        department  \\\n",
       "1        Robert Wang  Hernandez, Cunningham and Clark           Finance   \n",
       "6        Robert Wang  Hernandez, Cunningham and Clark           Finance   \n",
       "0  Jennifer Thompson  Hernandez, Cunningham and Clark  System Architect   \n",
       "4  Jennifer Thompson  Hernandez, Cunningham and Clark  System Architect   \n",
       "5  Jennifer Thompson  Hernandez, Cunningham and Clark  System Architect   \n",
       "7  Jennifer Thompson  Hernandez, Cunningham and Clark  System Architect   \n",
       "2      Robin Mcmahon                  Wilson and Sons        Management   \n",
       "3      Robin Mcmahon                  Wilson and Sons        Management   \n",
       "\n",
       "  employee_number        system_login  \n",
       "1          920539 2022-01-30 23:38:15  \n",
       "6          920539 2022-02-02 05:27:39  \n",
       "0          907813 2022-01-30 21:57:51  \n",
       "4          907813 2022-02-01 21:37:29  \n",
       "5          907813 2022-02-01 22:54:46  \n",
       "7          907813 2022-02-02 21:09:07  \n",
       "2          567812 2022-01-31 10:57:22  \n",
       "3          567812 2022-01-31 19:24:38  "
      ]
     },
     "execution_count": 92,
     "metadata": {},
     "output_type": "execute_result"
    }
   ],
   "source": [
    "merged = employees.merge(logins, how='left', left_index=True, right_on='employee_number')\n",
    "merged"
   ]
  },
  {
   "cell_type": "code",
   "execution_count": 93,
   "metadata": {},
   "outputs": [
    {
     "data": {
      "text/plain": [
       "(8, 2)"
      ]
     },
     "execution_count": 93,
     "metadata": {},
     "output_type": "execute_result"
    }
   ],
   "source": [
    "logins.shape"
   ]
  },
  {
   "cell_type": "code",
   "execution_count": 80,
   "metadata": {},
   "outputs": [
    {
     "data": {
      "text/plain": [
       "(5, 5)"
      ]
     },
     "execution_count": 80,
     "metadata": {},
     "output_type": "execute_result"
    }
   ],
   "source": [
    "merged.shape"
   ]
  },
  {
   "cell_type": "code",
   "execution_count": 84,
   "metadata": {},
   "outputs": [
    {
     "data": {
      "text/plain": [
       "5"
      ]
     },
     "execution_count": 84,
     "metadata": {},
     "output_type": "execute_result"
    }
   ],
   "source": [
    "employees.merge(logins, left_index=True, right_on='employee_number').shape[0]"
   ]
  },
  {
   "cell_type": "code",
   "execution_count": 44,
   "metadata": {},
   "outputs": [],
   "source": [
    "from faker import Faker\n",
    "fake = Faker()\n",
    "logins = pd.DataFrame(columns=['employee_number', 'system_login'])\n",
    "for number in employees.employee_number.tolist():\n",
    "    for _ in range(np.random.randint(low=1, high=5)):\n",
    "        datetime = fake.date_time_between(start_date='-5d', end_date='now')\n",
    "        d = {'employee_number': number, 'system_login': datetime}\n",
    "        logins = logins.append(d, ignore_index=True)\n",
    "logins = logins.sort_values('system_login').reset_index(drop=True)\n",
    "        \n",
    "        \n",
    "    "
   ]
  },
  {
   "cell_type": "code",
   "execution_count": 45,
   "metadata": {},
   "outputs": [
    {
     "data": {
      "text/html": [
       "<div>\n",
       "<style scoped>\n",
       "    .dataframe tbody tr th:only-of-type {\n",
       "        vertical-align: middle;\n",
       "    }\n",
       "\n",
       "    .dataframe tbody tr th {\n",
       "        vertical-align: top;\n",
       "    }\n",
       "\n",
       "    .dataframe thead th {\n",
       "        text-align: right;\n",
       "    }\n",
       "</style>\n",
       "<table border=\"1\" class=\"dataframe\">\n",
       "  <thead>\n",
       "    <tr style=\"text-align: right;\">\n",
       "      <th></th>\n",
       "      <th>employee_number</th>\n",
       "      <th>system_login</th>\n",
       "    </tr>\n",
       "  </thead>\n",
       "  <tbody>\n",
       "    <tr>\n",
       "      <th>0</th>\n",
       "      <td>701315</td>\n",
       "      <td>2022-01-29 19:20:45</td>\n",
       "    </tr>\n",
       "    <tr>\n",
       "      <th>1</th>\n",
       "      <td>426293</td>\n",
       "      <td>2022-01-29 21:36:53</td>\n",
       "    </tr>\n",
       "    <tr>\n",
       "      <th>2</th>\n",
       "      <td>701315</td>\n",
       "      <td>2022-01-30 22:51:33</td>\n",
       "    </tr>\n",
       "    <tr>\n",
       "      <th>3</th>\n",
       "      <td>919280</td>\n",
       "      <td>2022-01-31 13:28:15</td>\n",
       "    </tr>\n",
       "    <tr>\n",
       "      <th>4</th>\n",
       "      <td>701315</td>\n",
       "      <td>2022-01-31 17:14:29</td>\n",
       "    </tr>\n",
       "    <tr>\n",
       "      <th>5</th>\n",
       "      <td>426293</td>\n",
       "      <td>2022-01-31 19:22:19</td>\n",
       "    </tr>\n",
       "    <tr>\n",
       "      <th>6</th>\n",
       "      <td>701315</td>\n",
       "      <td>2022-01-31 22:31:17</td>\n",
       "    </tr>\n",
       "    <tr>\n",
       "      <th>7</th>\n",
       "      <td>248013</td>\n",
       "      <td>2022-02-01 18:06:17</td>\n",
       "    </tr>\n",
       "    <tr>\n",
       "      <th>8</th>\n",
       "      <td>248013</td>\n",
       "      <td>2022-02-02 14:52:59</td>\n",
       "    </tr>\n",
       "    <tr>\n",
       "      <th>9</th>\n",
       "      <td>426293</td>\n",
       "      <td>2022-02-02 18:14:49</td>\n",
       "    </tr>\n",
       "    <tr>\n",
       "      <th>10</th>\n",
       "      <td>267914</td>\n",
       "      <td>2022-02-02 23:57:51</td>\n",
       "    </tr>\n",
       "    <tr>\n",
       "      <th>11</th>\n",
       "      <td>426293</td>\n",
       "      <td>2022-02-03 03:22:41</td>\n",
       "    </tr>\n",
       "  </tbody>\n",
       "</table>\n",
       "</div>"
      ],
      "text/plain": [
       "   employee_number        system_login\n",
       "0           701315 2022-01-29 19:20:45\n",
       "1           426293 2022-01-29 21:36:53\n",
       "2           701315 2022-01-30 22:51:33\n",
       "3           919280 2022-01-31 13:28:15\n",
       "4           701315 2022-01-31 17:14:29\n",
       "5           426293 2022-01-31 19:22:19\n",
       "6           701315 2022-01-31 22:31:17\n",
       "7           248013 2022-02-01 18:06:17\n",
       "8           248013 2022-02-02 14:52:59\n",
       "9           426293 2022-02-02 18:14:49\n",
       "10          267914 2022-02-02 23:57:51\n",
       "11          426293 2022-02-03 03:22:41"
      ]
     },
     "execution_count": 45,
     "metadata": {},
     "output_type": "execute_result"
    }
   ],
   "source": [
    "logins"
   ]
  },
  {
   "cell_type": "code",
   "execution_count": 20,
   "metadata": {},
   "outputs": [
    {
     "data": {
      "text/plain": [
       "datetime.datetime(2022, 1, 6, 6, 49, 2)"
      ]
     },
     "execution_count": 20,
     "metadata": {},
     "output_type": "execute_result"
    }
   ],
   "source": [
    "fake.date_time_between(start_date='-30d', end_date='now')"
   ]
  },
  {
   "cell_type": "code",
   "execution_count": 30,
   "metadata": {},
   "outputs": [],
   "source": [
    "tbl = pd.DataFrame(columns=['employee_number', 'system_login'])"
   ]
  },
  {
   "cell_type": "code",
   "execution_count": 31,
   "metadata": {},
   "outputs": [
    {
     "data": {
      "text/html": [
       "<div>\n",
       "<style scoped>\n",
       "    .dataframe tbody tr th:only-of-type {\n",
       "        vertical-align: middle;\n",
       "    }\n",
       "\n",
       "    .dataframe tbody tr th {\n",
       "        vertical-align: top;\n",
       "    }\n",
       "\n",
       "    .dataframe thead th {\n",
       "        text-align: right;\n",
       "    }\n",
       "</style>\n",
       "<table border=\"1\" class=\"dataframe\">\n",
       "  <thead>\n",
       "    <tr style=\"text-align: right;\">\n",
       "      <th></th>\n",
       "      <th>employee_number</th>\n",
       "      <th>system_login</th>\n",
       "    </tr>\n",
       "  </thead>\n",
       "  <tbody>\n",
       "  </tbody>\n",
       "</table>\n",
       "</div>"
      ],
      "text/plain": [
       "Empty DataFrame\n",
       "Columns: [employee_number, system_login]\n",
       "Index: []"
      ]
     },
     "execution_count": 31,
     "metadata": {},
     "output_type": "execute_result"
    }
   ],
   "source": [
    "tbl"
   ]
  },
  {
   "cell_type": "code",
   "execution_count": 34,
   "metadata": {},
   "outputs": [],
   "source": [
    "tbl = tbl.append({'employee_number': 5, 'system_login': 'today'}, ignore_index=True)"
   ]
  },
  {
   "cell_type": "code",
   "execution_count": 35,
   "metadata": {},
   "outputs": [
    {
     "data": {
      "text/html": [
       "<div>\n",
       "<style scoped>\n",
       "    .dataframe tbody tr th:only-of-type {\n",
       "        vertical-align: middle;\n",
       "    }\n",
       "\n",
       "    .dataframe tbody tr th {\n",
       "        vertical-align: top;\n",
       "    }\n",
       "\n",
       "    .dataframe thead th {\n",
       "        text-align: right;\n",
       "    }\n",
       "</style>\n",
       "<table border=\"1\" class=\"dataframe\">\n",
       "  <thead>\n",
       "    <tr style=\"text-align: right;\">\n",
       "      <th></th>\n",
       "      <th>employee_number</th>\n",
       "      <th>system_login</th>\n",
       "    </tr>\n",
       "  </thead>\n",
       "  <tbody>\n",
       "    <tr>\n",
       "      <th>0</th>\n",
       "      <td>5</td>\n",
       "      <td>today</td>\n",
       "    </tr>\n",
       "    <tr>\n",
       "      <th>1</th>\n",
       "      <td>5</td>\n",
       "      <td>today</td>\n",
       "    </tr>\n",
       "  </tbody>\n",
       "</table>\n",
       "</div>"
      ],
      "text/plain": [
       "  employee_number system_login\n",
       "0               5        today\n",
       "1               5        today"
      ]
     },
     "execution_count": 35,
     "metadata": {},
     "output_type": "execute_result"
    }
   ],
   "source": [
    "tbl.append({'employee_number': 5, 'system_login': 'today'}, ignore_index=True)"
   ]
  },
  {
   "cell_type": "code",
   "execution_count": null,
   "metadata": {},
   "outputs": [],
   "source": []
  }
 ],
 "metadata": {
  "interpreter": {
   "hash": "ecf5722fdaf1897a315d257d89d94520bfcaa453217d5becf09b39e73618b0de"
  },
  "kernelspec": {
   "display_name": "Python 3.9.7 64-bit ('base': conda)",
   "language": "python",
   "name": "python3"
  },
  "language_info": {
   "codemirror_mode": {
    "name": "ipython",
    "version": 3
   },
   "file_extension": ".py",
   "mimetype": "text/x-python",
   "name": "python",
   "nbconvert_exporter": "python",
   "pygments_lexer": "ipython3",
   "version": "3.9.7"
  },
  "orig_nbformat": 4
 },
 "nbformat": 4,
 "nbformat_minor": 2
}
