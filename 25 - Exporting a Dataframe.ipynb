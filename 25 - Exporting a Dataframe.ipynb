{
 "cells": [
  {
   "cell_type": "code",
   "execution_count": 1,
   "metadata": {},
   "outputs": [],
   "source": [
    "import pandas as pd"
   ]
  },
  {
   "cell_type": "code",
   "execution_count": null,
   "metadata": {},
   "outputs": [],
   "source": [
    "df = pd.to_csv('sample.csv.gz', compression='gzip', index_col=0)"
   ]
  },
  {
   "cell_type": "code",
   "execution_count": null,
   "metadata": {},
   "outputs": [],
   "source": [
    "def write_to_excel(df, path, index=False, sheet_name='data'):\n",
    "    writer = pd.ExcelWriter(path)\n",
    "    df.to_excel(writer, sheet_name=sheet_name, index=index)\n",
    "    writer.save()\n",
    "    writer.quit()"
   ]
  },
  {
   "cell_type": "markdown",
   "metadata": {},
   "source": [
    "### Insert dataframe into pre-existing Excel workbook"
   ]
  },
  {
   "cell_type": "code",
   "execution_count": null,
   "metadata": {},
   "outputs": [],
   "source": [
    "from openpyxl import load_workbook\n",
    "\n",
    "\n",
    "def insert_frame_into_existing_wb(\n",
    "    df, wb_path, sheet_name,\n",
    "    index=False, startrow=0,\n",
    "    startcol=0, header=True,\n",
    "    index_label=None,\n",
    "    freeze_panes=None):\n",
    "\n",
    "    book = load_workbook(wb_path)\n",
    "    writer = pd.ExcelWriter(wb_path, engine='openpyxl')\n",
    "    writer.book = book\n",
    "    writer.sheets = {ws.title: ws for ws in book.worksheets}\n",
    "    df.to_excel(writer, header=header, sheet_name=sheet_name,\n",
    "                index=index, startrow=startrow, startcol=startcol,\n",
    "                index_label=None, freeze_panes=freeze_panes)\n",
    "    writer.save()"
   ]
  }
 ],
 "metadata": {
  "kernelspec": {
   "display_name": "Python 3",
   "language": "python",
   "name": "python3"
  },
  "language_info": {
   "codemirror_mode": {
    "name": "ipython",
    "version": 3
   },
   "file_extension": ".py",
   "mimetype": "text/x-python",
   "name": "python",
   "nbconvert_exporter": "python",
   "pygments_lexer": "ipython3",
   "version": "3.9.7"
  },
  "latex_envs": {
   "LaTeX_envs_menu_present": true,
   "autoclose": true,
   "autocomplete": true,
   "bibliofile": "biblio.bib",
   "cite_by": "apalike",
   "current_citInitial": 1,
   "eqLabelWithNumbers": true,
   "eqNumInitial": 1,
   "hotkeys": {
    "equation": "Ctrl-E",
    "itemize": "Ctrl-I"
   },
   "labels_anchors": false,
   "latex_user_defs": false,
   "report_style_numbering": false,
   "user_envs_cfg": false
  }
 },
 "nbformat": 4,
 "nbformat_minor": 2
}
