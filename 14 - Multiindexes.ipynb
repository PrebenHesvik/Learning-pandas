{
 "cells": [
  {
   "cell_type": "code",
   "execution_count": 40,
   "metadata": {},
   "outputs": [],
   "source": [
    "import pandas as pd\n",
    "import numpy as np\n",
    "\n",
    "pd.options.display.float_format = '{:,.1f}'.format"
   ]
  },
  {
   "cell_type": "code",
   "execution_count": 3,
   "metadata": {},
   "outputs": [
    {
     "data": {
      "text/html": [
       "<div>\n",
       "<style scoped>\n",
       "    .dataframe tbody tr th:only-of-type {\n",
       "        vertical-align: middle;\n",
       "    }\n",
       "\n",
       "    .dataframe tbody tr th {\n",
       "        vertical-align: top;\n",
       "    }\n",
       "\n",
       "    .dataframe thead th {\n",
       "        text-align: right;\n",
       "    }\n",
       "</style>\n",
       "<table border=\"1\" class=\"dataframe\">\n",
       "  <thead>\n",
       "    <tr style=\"text-align: right;\">\n",
       "      <th></th>\n",
       "      <th>employee_number</th>\n",
       "      <th>name</th>\n",
       "      <th>company</th>\n",
       "      <th>country</th>\n",
       "      <th>dob</th>\n",
       "      <th>age</th>\n",
       "      <th>department</th>\n",
       "      <th>salary</th>\n",
       "      <th>has_parking_space</th>\n",
       "    </tr>\n",
       "  </thead>\n",
       "  <tbody>\n",
       "    <tr>\n",
       "      <th>0</th>\n",
       "      <td>897028</td>\n",
       "      <td>Kenneth Jensen</td>\n",
       "      <td>Wilson and Sons</td>\n",
       "      <td>India</td>\n",
       "      <td>1983-07-03</td>\n",
       "      <td>38</td>\n",
       "      <td>Management</td>\n",
       "      <td>124790</td>\n",
       "      <td>False</td>\n",
       "    </tr>\n",
       "    <tr>\n",
       "      <th>1</th>\n",
       "      <td>463979</td>\n",
       "      <td>Sarah Anderson</td>\n",
       "      <td>Hernandez, Cunningham and Clark</td>\n",
       "      <td>India</td>\n",
       "      <td>1980-08-09</td>\n",
       "      <td>41</td>\n",
       "      <td>Consulting</td>\n",
       "      <td>103122</td>\n",
       "      <td>True</td>\n",
       "    </tr>\n",
       "    <tr>\n",
       "      <th>2</th>\n",
       "      <td>388446</td>\n",
       "      <td>Tracie Rollins</td>\n",
       "      <td>Hernandez, Cunningham and Clark</td>\n",
       "      <td>Cayman Islands</td>\n",
       "      <td>1987-07-29</td>\n",
       "      <td>34</td>\n",
       "      <td>Consulting</td>\n",
       "      <td>119072</td>\n",
       "      <td>False</td>\n",
       "    </tr>\n",
       "    <tr>\n",
       "      <th>3</th>\n",
       "      <td>267447</td>\n",
       "      <td>Seth Smith</td>\n",
       "      <td>Spears-Brown</td>\n",
       "      <td>Germany</td>\n",
       "      <td>1969-03-04</td>\n",
       "      <td>52</td>\n",
       "      <td>System Architect</td>\n",
       "      <td>115653</td>\n",
       "      <td>False</td>\n",
       "    </tr>\n",
       "    <tr>\n",
       "      <th>4</th>\n",
       "      <td>401300</td>\n",
       "      <td>Katherine Fields</td>\n",
       "      <td>Hernandez, Cunningham and Clark</td>\n",
       "      <td>Venezuela</td>\n",
       "      <td>1980-01-26</td>\n",
       "      <td>42</td>\n",
       "      <td>Finance</td>\n",
       "      <td>119412</td>\n",
       "      <td>False</td>\n",
       "    </tr>\n",
       "  </tbody>\n",
       "</table>\n",
       "</div>"
      ],
      "text/plain": [
       "   employee_number              name                          company  \\\n",
       "0           897028    Kenneth Jensen                  Wilson and Sons   \n",
       "1           463979    Sarah Anderson  Hernandez, Cunningham and Clark   \n",
       "2           388446    Tracie Rollins  Hernandez, Cunningham and Clark   \n",
       "3           267447        Seth Smith                     Spears-Brown   \n",
       "4           401300  Katherine Fields  Hernandez, Cunningham and Clark   \n",
       "\n",
       "          country        dob  age        department  salary  has_parking_space  \n",
       "0           India 1983-07-03   38        Management  124790              False  \n",
       "1           India 1980-08-09   41        Consulting  103122               True  \n",
       "2  Cayman Islands 1987-07-29   34        Consulting  119072              False  \n",
       "3         Germany 1969-03-04   52  System Architect  115653              False  \n",
       "4       Venezuela 1980-01-26   42           Finance  119412              False  "
      ]
     },
     "execution_count": 3,
     "metadata": {},
     "output_type": "execute_result"
    }
   ],
   "source": [
    "path = 'datasets/employee_list.parquet'\n",
    "df = pd.read_parquet(path)\n",
    "df.head()"
   ]
  },
  {
   "cell_type": "markdown",
   "metadata": {},
   "source": [
    "#### Create a MultiIndex series"
   ]
  },
  {
   "cell_type": "code",
   "execution_count": 5,
   "metadata": {},
   "outputs": [
    {
     "data": {
      "text/plain": [
       "company                          department      \n",
       "Hernandez, Cunningham and Clark  Consulting          108411.857143\n",
       "                                 Developer           101505.500000\n",
       "                                 Finance             104111.666667\n",
       "                                 Management           98756.000000\n",
       "                                 System Architect    108414.333333\n",
       "Spears-Brown                     Consulting          108118.333333\n",
       "                                 Developer           102611.428571\n",
       "                                 Finance             107777.000000\n",
       "                                 Management          120032.125000\n",
       "                                 System Architect    103507.000000\n",
       "Wilson and Sons                  Consulting          124709.666667\n",
       "                                 Developer            97368.714286\n",
       "                                 Finance              89295.666667\n",
       "                                 Management          115702.714286\n",
       "                                 System Architect    110295.000000\n",
       "Name: salary, dtype: float64"
      ]
     },
     "execution_count": 5,
     "metadata": {},
     "output_type": "execute_result"
    }
   ],
   "source": [
    "ser = df.groupby(['company', 'department']).salary.mean()\n",
    "ser"
   ]
  },
  {
   "cell_type": "markdown",
   "metadata": {},
   "source": [
    "#### Subset of a MultiIndex"
   ]
  },
  {
   "cell_type": "code",
   "execution_count": 8,
   "metadata": {},
   "outputs": [
    {
     "data": {
      "text/plain": [
       "company                          department      \n",
       "Hernandez, Cunningham and Clark  Developer           101505.500000\n",
       "                                 System Architect    108414.333333\n",
       "Spears-Brown                     Developer           102611.428571\n",
       "                                 System Architect    103507.000000\n",
       "Wilson and Sons                  Developer            97368.714286\n",
       "                                 System Architect    110295.000000\n",
       "Name: salary, dtype: float64"
      ]
     },
     "execution_count": 8,
     "metadata": {},
     "output_type": "execute_result"
    }
   ],
   "source": [
    "ser.loc[ser.index.get_level_values('department').isin(['Developer', 'System Architect'])]"
   ]
  },
  {
   "cell_type": "code",
   "execution_count": 21,
   "metadata": {},
   "outputs": [
    {
     "data": {
      "text/plain": [
       "company       department      \n",
       "Spears-Brown  Developer           102611.428571\n",
       "              System Architect    103507.000000\n",
       "Name: salary, dtype: float64"
      ]
     },
     "execution_count": 21,
     "metadata": {},
     "output_type": "execute_result"
    }
   ],
   "source": [
    "f1 = ser.index.get_level_values('company') == 'Spears-Brown'\n",
    "f2 = ser.index.get_level_values('department').isin(['Developer', 'System Architect'])\n",
    "ser.loc[f1 & f2]"
   ]
  },
  {
   "cell_type": "code",
   "execution_count": 15,
   "metadata": {},
   "outputs": [
    {
     "data": {
      "text/plain": [
       "company       department      \n",
       "Spears-Brown  Developer           102611.428571\n",
       "              System Architect    103507.000000\n",
       "Name: salary, dtype: float64"
      ]
     },
     "execution_count": 15,
     "metadata": {},
     "output_type": "execute_result"
    }
   ],
   "source": [
    "ser.loc['Spears-Brown', ['Developer', 'System Architect']]"
   ]
  },
  {
   "cell_type": "code",
   "execution_count": 16,
   "metadata": {},
   "outputs": [
    {
     "data": {
      "text/plain": [
       "company                          department      \n",
       "Hernandez, Cunningham and Clark  Developer           101505.500000\n",
       "                                 System Architect    108414.333333\n",
       "Spears-Brown                     Developer           102611.428571\n",
       "                                 System Architect    103507.000000\n",
       "Wilson and Sons                  Developer            97368.714286\n",
       "                                 System Architect    110295.000000\n",
       "Name: salary, dtype: float64"
      ]
     },
     "execution_count": 16,
     "metadata": {},
     "output_type": "execute_result"
    }
   ],
   "source": [
    "ser.loc[:, ['Developer', 'System Architect']]"
   ]
  },
  {
   "cell_type": "code",
   "execution_count": 23,
   "metadata": {},
   "outputs": [
    {
     "data": {
      "text/plain": [
       "company                          department      \n",
       "Hernandez, Cunningham and Clark  Consulting          108411.857143\n",
       "                                 Developer           101505.500000\n",
       "                                 Finance             104111.666667\n",
       "                                 Management           98756.000000\n",
       "                                 System Architect    108414.333333\n",
       "Spears-Brown                     Consulting          108118.333333\n",
       "                                 Developer           102611.428571\n",
       "                                 Finance             107777.000000\n",
       "                                 Management          120032.125000\n",
       "                                 System Architect    103507.000000\n",
       "Wilson and Sons                  Consulting          124709.666667\n",
       "                                 Developer            97368.714286\n",
       "                                 Finance              89295.666667\n",
       "                                 Management          115702.714286\n",
       "                                 System Architect    110295.000000\n",
       "Name: salary, dtype: float64"
      ]
     },
     "execution_count": 23,
     "metadata": {},
     "output_type": "execute_result"
    }
   ],
   "source": [
    "ser"
   ]
  },
  {
   "cell_type": "markdown",
   "metadata": {},
   "source": [
    "### Operations of the MultiIndex"
   ]
  },
  {
   "cell_type": "markdown",
   "metadata": {},
   "source": [
    "##### Find mean salary of each department"
   ]
  },
  {
   "cell_type": "code",
   "execution_count": 27,
   "metadata": {},
   "outputs": [
    {
     "data": {
      "text/plain": [
       "department\n",
       "Consulting          113746.619048\n",
       "Developer           100495.214286\n",
       "Finance             100394.777778\n",
       "Management          111496.946429\n",
       "System Architect    107405.444444\n",
       "Name: salary, dtype: float64"
      ]
     },
     "execution_count": 27,
     "metadata": {},
     "output_type": "execute_result"
    }
   ],
   "source": [
    "ser.groupby(level=1).mean()"
   ]
  },
  {
   "cell_type": "markdown",
   "metadata": {},
   "source": [
    "Using the level keyword in DataFrame and Series aggregations is deprecated and will be removed in a future version. Use groupby instead. df.sum(level=1) should use df.groupby(level=1).sum()."
   ]
  },
  {
   "cell_type": "markdown",
   "metadata": {},
   "source": [
    "##### Find mean salary of each company"
   ]
  },
  {
   "cell_type": "code",
   "execution_count": 28,
   "metadata": {},
   "outputs": [
    {
     "data": {
      "text/plain": [
       "company\n",
       "Hernandez, Cunningham and Clark    104239.871429\n",
       "Spears-Brown                       108409.177381\n",
       "Wilson and Sons                    107474.352381\n",
       "Name: salary, dtype: float64"
      ]
     },
     "execution_count": 28,
     "metadata": {},
     "output_type": "execute_result"
    }
   ],
   "source": [
    "ser.groupby(level=0).mean()"
   ]
  },
  {
   "cell_type": "markdown",
   "metadata": {},
   "source": [
    "##### Find total salary"
   ]
  },
  {
   "cell_type": "code",
   "execution_count": 29,
   "metadata": {},
   "outputs": [
    {
     "data": {
      "text/plain": [
       "1600617.0059523813"
      ]
     },
     "execution_count": 29,
     "metadata": {},
     "output_type": "execute_result"
    }
   ],
   "source": [
    "ser.sum()"
   ]
  },
  {
   "cell_type": "markdown",
   "metadata": {},
   "source": [
    "#### Swap index levels"
   ]
  },
  {
   "cell_type": "code",
   "execution_count": 31,
   "metadata": {},
   "outputs": [
    {
     "data": {
      "text/plain": [
       "department        company                        \n",
       "Consulting        Hernandez, Cunningham and Clark    108411.857143\n",
       "Developer         Hernandez, Cunningham and Clark    101505.500000\n",
       "Finance           Hernandez, Cunningham and Clark    104111.666667\n",
       "Management        Hernandez, Cunningham and Clark     98756.000000\n",
       "System Architect  Hernandez, Cunningham and Clark    108414.333333\n",
       "Consulting        Spears-Brown                       108118.333333\n",
       "Developer         Spears-Brown                       102611.428571\n",
       "Finance           Spears-Brown                       107777.000000\n",
       "Management        Spears-Brown                       120032.125000\n",
       "System Architect  Spears-Brown                       103507.000000\n",
       "Consulting        Wilson and Sons                    124709.666667\n",
       "Developer         Wilson and Sons                     97368.714286\n",
       "Finance           Wilson and Sons                     89295.666667\n",
       "Management        Wilson and Sons                    115702.714286\n",
       "System Architect  Wilson and Sons                    110295.000000\n",
       "Name: salary, dtype: float64"
      ]
     },
     "execution_count": 31,
     "metadata": {},
     "output_type": "execute_result"
    }
   ],
   "source": [
    "ser.index = ser.index.swaplevel()\n",
    "ser"
   ]
  },
  {
   "cell_type": "markdown",
   "metadata": {},
   "source": [
    "#### What happens when we unstack a MultiIndex series?"
   ]
  },
  {
   "cell_type": "code",
   "execution_count": 17,
   "metadata": {},
   "outputs": [
    {
     "data": {
      "text/html": [
       "<div>\n",
       "<style scoped>\n",
       "    .dataframe tbody tr th:only-of-type {\n",
       "        vertical-align: middle;\n",
       "    }\n",
       "\n",
       "    .dataframe tbody tr th {\n",
       "        vertical-align: top;\n",
       "    }\n",
       "\n",
       "    .dataframe thead th {\n",
       "        text-align: right;\n",
       "    }\n",
       "</style>\n",
       "<table border=\"1\" class=\"dataframe\">\n",
       "  <thead>\n",
       "    <tr style=\"text-align: right;\">\n",
       "      <th>department</th>\n",
       "      <th>Consulting</th>\n",
       "      <th>Developer</th>\n",
       "      <th>Finance</th>\n",
       "      <th>Management</th>\n",
       "      <th>System Architect</th>\n",
       "    </tr>\n",
       "    <tr>\n",
       "      <th>company</th>\n",
       "      <th></th>\n",
       "      <th></th>\n",
       "      <th></th>\n",
       "      <th></th>\n",
       "      <th></th>\n",
       "    </tr>\n",
       "  </thead>\n",
       "  <tbody>\n",
       "    <tr>\n",
       "      <th>Hernandez, Cunningham and Clark</th>\n",
       "      <td>108411.857143</td>\n",
       "      <td>101505.500000</td>\n",
       "      <td>104111.666667</td>\n",
       "      <td>98756.000000</td>\n",
       "      <td>108414.333333</td>\n",
       "    </tr>\n",
       "    <tr>\n",
       "      <th>Spears-Brown</th>\n",
       "      <td>108118.333333</td>\n",
       "      <td>102611.428571</td>\n",
       "      <td>107777.000000</td>\n",
       "      <td>120032.125000</td>\n",
       "      <td>103507.000000</td>\n",
       "    </tr>\n",
       "    <tr>\n",
       "      <th>Wilson and Sons</th>\n",
       "      <td>124709.666667</td>\n",
       "      <td>97368.714286</td>\n",
       "      <td>89295.666667</td>\n",
       "      <td>115702.714286</td>\n",
       "      <td>110295.000000</td>\n",
       "    </tr>\n",
       "  </tbody>\n",
       "</table>\n",
       "</div>"
      ],
      "text/plain": [
       "department                          Consulting      Developer        Finance  \\\n",
       "company                                                                        \n",
       "Hernandez, Cunningham and Clark  108411.857143  101505.500000  104111.666667   \n",
       "Spears-Brown                     108118.333333  102611.428571  107777.000000   \n",
       "Wilson and Sons                  124709.666667   97368.714286   89295.666667   \n",
       "\n",
       "department                          Management  System Architect  \n",
       "company                                                           \n",
       "Hernandez, Cunningham and Clark   98756.000000     108414.333333  \n",
       "Spears-Brown                     120032.125000     103507.000000  \n",
       "Wilson and Sons                  115702.714286     110295.000000  "
      ]
     },
     "execution_count": 17,
     "metadata": {},
     "output_type": "execute_result"
    }
   ],
   "source": [
    "tbl = ser.unstack()\n",
    "tbl"
   ]
  },
  {
   "cell_type": "markdown",
   "metadata": {},
   "source": [
    "...It turns into a pivot table...and we can use the same way of subsetting as in the series"
   ]
  },
  {
   "cell_type": "code",
   "execution_count": 18,
   "metadata": {},
   "outputs": [
    {
     "data": {
      "text/plain": [
       "department\n",
       "Developer           102611.428571\n",
       "System Architect    103507.000000\n",
       "Name: Spears-Brown, dtype: float64"
      ]
     },
     "execution_count": 18,
     "metadata": {},
     "output_type": "execute_result"
    }
   ],
   "source": [
    "tbl.loc['Spears-Brown', ['Developer', 'System Architect']]"
   ]
  },
  {
   "cell_type": "code",
   "execution_count": 19,
   "metadata": {},
   "outputs": [
    {
     "data": {
      "text/html": [
       "<div>\n",
       "<style scoped>\n",
       "    .dataframe tbody tr th:only-of-type {\n",
       "        vertical-align: middle;\n",
       "    }\n",
       "\n",
       "    .dataframe tbody tr th {\n",
       "        vertical-align: top;\n",
       "    }\n",
       "\n",
       "    .dataframe thead th {\n",
       "        text-align: right;\n",
       "    }\n",
       "</style>\n",
       "<table border=\"1\" class=\"dataframe\">\n",
       "  <thead>\n",
       "    <tr style=\"text-align: right;\">\n",
       "      <th>department</th>\n",
       "      <th>Developer</th>\n",
       "      <th>System Architect</th>\n",
       "    </tr>\n",
       "    <tr>\n",
       "      <th>company</th>\n",
       "      <th></th>\n",
       "      <th></th>\n",
       "    </tr>\n",
       "  </thead>\n",
       "  <tbody>\n",
       "    <tr>\n",
       "      <th>Hernandez, Cunningham and Clark</th>\n",
       "      <td>101505.500000</td>\n",
       "      <td>108414.333333</td>\n",
       "    </tr>\n",
       "    <tr>\n",
       "      <th>Spears-Brown</th>\n",
       "      <td>102611.428571</td>\n",
       "      <td>103507.000000</td>\n",
       "    </tr>\n",
       "    <tr>\n",
       "      <th>Wilson and Sons</th>\n",
       "      <td>97368.714286</td>\n",
       "      <td>110295.000000</td>\n",
       "    </tr>\n",
       "  </tbody>\n",
       "</table>\n",
       "</div>"
      ],
      "text/plain": [
       "department                           Developer  System Architect\n",
       "company                                                         \n",
       "Hernandez, Cunningham and Clark  101505.500000     108414.333333\n",
       "Spears-Brown                     102611.428571     103507.000000\n",
       "Wilson and Sons                   97368.714286     110295.000000"
      ]
     },
     "execution_count": 19,
     "metadata": {},
     "output_type": "execute_result"
    }
   ],
   "source": [
    "tbl.loc[:, ['Developer', 'System Architect']]"
   ]
  },
  {
   "cell_type": "markdown",
   "metadata": {},
   "source": [
    "#### Create a DataFrame with a MultiIndex"
   ]
  },
  {
   "cell_type": "code",
   "execution_count": 41,
   "metadata": {},
   "outputs": [
    {
     "data": {
      "text/html": [
       "<div>\n",
       "<style scoped>\n",
       "    .dataframe tbody tr th:only-of-type {\n",
       "        vertical-align: middle;\n",
       "    }\n",
       "\n",
       "    .dataframe tbody tr th {\n",
       "        vertical-align: top;\n",
       "    }\n",
       "\n",
       "    .dataframe thead th {\n",
       "        text-align: right;\n",
       "    }\n",
       "</style>\n",
       "<table border=\"1\" class=\"dataframe\">\n",
       "  <thead>\n",
       "    <tr style=\"text-align: right;\">\n",
       "      <th></th>\n",
       "      <th></th>\n",
       "      <th>mean_age</th>\n",
       "      <th>meax_age</th>\n",
       "      <th>mean_salary</th>\n",
       "      <th>max_salary</th>\n",
       "    </tr>\n",
       "    <tr>\n",
       "      <th>company</th>\n",
       "      <th>department</th>\n",
       "      <th></th>\n",
       "      <th></th>\n",
       "      <th></th>\n",
       "      <th></th>\n",
       "    </tr>\n",
       "  </thead>\n",
       "  <tbody>\n",
       "    <tr>\n",
       "      <th rowspan=\"5\" valign=\"top\">Hernandez, Cunningham and Clark</th>\n",
       "      <th>Consulting</th>\n",
       "      <td>41.1</td>\n",
       "      <td>50</td>\n",
       "      <td>108,411.9</td>\n",
       "      <td>124667</td>\n",
       "    </tr>\n",
       "    <tr>\n",
       "      <th>Developer</th>\n",
       "      <td>43.5</td>\n",
       "      <td>48</td>\n",
       "      <td>101,505.5</td>\n",
       "      <td>121975</td>\n",
       "    </tr>\n",
       "    <tr>\n",
       "      <th>Finance</th>\n",
       "      <td>41.8</td>\n",
       "      <td>53</td>\n",
       "      <td>104,111.7</td>\n",
       "      <td>128194</td>\n",
       "    </tr>\n",
       "    <tr>\n",
       "      <th>Management</th>\n",
       "      <td>39.1</td>\n",
       "      <td>49</td>\n",
       "      <td>98,756.0</td>\n",
       "      <td>131896</td>\n",
       "    </tr>\n",
       "    <tr>\n",
       "      <th>System Architect</th>\n",
       "      <td>45.7</td>\n",
       "      <td>53</td>\n",
       "      <td>108,414.3</td>\n",
       "      <td>132988</td>\n",
       "    </tr>\n",
       "    <tr>\n",
       "      <th rowspan=\"5\" valign=\"top\">Spears-Brown</th>\n",
       "      <th>Consulting</th>\n",
       "      <td>46.3</td>\n",
       "      <td>53</td>\n",
       "      <td>108,118.3</td>\n",
       "      <td>133354</td>\n",
       "    </tr>\n",
       "    <tr>\n",
       "      <th>Developer</th>\n",
       "      <td>45.1</td>\n",
       "      <td>50</td>\n",
       "      <td>102,611.4</td>\n",
       "      <td>129124</td>\n",
       "    </tr>\n",
       "    <tr>\n",
       "      <th>Finance</th>\n",
       "      <td>45.7</td>\n",
       "      <td>53</td>\n",
       "      <td>107,777.0</td>\n",
       "      <td>130051</td>\n",
       "    </tr>\n",
       "    <tr>\n",
       "      <th>Management</th>\n",
       "      <td>39.6</td>\n",
       "      <td>51</td>\n",
       "      <td>120,032.1</td>\n",
       "      <td>133602</td>\n",
       "    </tr>\n",
       "    <tr>\n",
       "      <th>System Architect</th>\n",
       "      <td>43.8</td>\n",
       "      <td>53</td>\n",
       "      <td>103,507.0</td>\n",
       "      <td>133943</td>\n",
       "    </tr>\n",
       "    <tr>\n",
       "      <th rowspan=\"5\" valign=\"top\">Wilson and Sons</th>\n",
       "      <th>Consulting</th>\n",
       "      <td>42.3</td>\n",
       "      <td>49</td>\n",
       "      <td>124,709.7</td>\n",
       "      <td>131898</td>\n",
       "    </tr>\n",
       "    <tr>\n",
       "      <th>Developer</th>\n",
       "      <td>42.1</td>\n",
       "      <td>52</td>\n",
       "      <td>97,368.7</td>\n",
       "      <td>117387</td>\n",
       "    </tr>\n",
       "    <tr>\n",
       "      <th>Finance</th>\n",
       "      <td>38.0</td>\n",
       "      <td>45</td>\n",
       "      <td>89,295.7</td>\n",
       "      <td>100316</td>\n",
       "    </tr>\n",
       "    <tr>\n",
       "      <th>Management</th>\n",
       "      <td>41.4</td>\n",
       "      <td>51</td>\n",
       "      <td>115,702.7</td>\n",
       "      <td>134840</td>\n",
       "    </tr>\n",
       "    <tr>\n",
       "      <th>System Architect</th>\n",
       "      <td>44.6</td>\n",
       "      <td>53</td>\n",
       "      <td>110,295.0</td>\n",
       "      <td>131134</td>\n",
       "    </tr>\n",
       "  </tbody>\n",
       "</table>\n",
       "</div>"
      ],
      "text/plain": [
       "                                                  mean_age  meax_age  \\\n",
       "company                         department                             \n",
       "Hernandez, Cunningham and Clark Consulting            41.1        50   \n",
       "                                Developer             43.5        48   \n",
       "                                Finance               41.8        53   \n",
       "                                Management            39.1        49   \n",
       "                                System Architect      45.7        53   \n",
       "Spears-Brown                    Consulting            46.3        53   \n",
       "                                Developer             45.1        50   \n",
       "                                Finance               45.7        53   \n",
       "                                Management            39.6        51   \n",
       "                                System Architect      43.8        53   \n",
       "Wilson and Sons                 Consulting            42.3        49   \n",
       "                                Developer             42.1        52   \n",
       "                                Finance               38.0        45   \n",
       "                                Management            41.4        51   \n",
       "                                System Architect      44.6        53   \n",
       "\n",
       "                                                  mean_salary  max_salary  \n",
       "company                         department                                 \n",
       "Hernandez, Cunningham and Clark Consulting          108,411.9      124667  \n",
       "                                Developer           101,505.5      121975  \n",
       "                                Finance             104,111.7      128194  \n",
       "                                Management           98,756.0      131896  \n",
       "                                System Architect    108,414.3      132988  \n",
       "Spears-Brown                    Consulting          108,118.3      133354  \n",
       "                                Developer           102,611.4      129124  \n",
       "                                Finance             107,777.0      130051  \n",
       "                                Management          120,032.1      133602  \n",
       "                                System Architect    103,507.0      133943  \n",
       "Wilson and Sons                 Consulting          124,709.7      131898  \n",
       "                                Developer            97,368.7      117387  \n",
       "                                Finance              89,295.7      100316  \n",
       "                                Management          115,702.7      134840  \n",
       "                                System Architect    110,295.0      131134  "
      ]
     },
     "execution_count": 41,
     "metadata": {},
     "output_type": "execute_result"
    }
   ],
   "source": [
    "tbl = df.groupby(['company', 'department']).agg(\n",
    "    mean_age=pd.NamedAgg('age', 'mean'),\n",
    "    meax_age=pd.NamedAgg('age', 'max'),\n",
    "    mean_salary=pd.NamedAgg('salary', 'mean'),\n",
    "    max_salary=pd.NamedAgg('salary', 'max'))\n",
    "tbl"
   ]
  },
  {
   "cell_type": "code",
   "execution_count": 57,
   "metadata": {},
   "outputs": [
    {
     "name": "stdout",
     "output_type": "stream",
     "text": [
      "<class 'pandas.core.frame.DataFrame'>\n",
      "<class 'pandas.core.indexes.multi.MultiIndex'>\n"
     ]
    }
   ],
   "source": [
    "print(type(tbl))\n",
    "print(type(tbl.index))"
   ]
  },
  {
   "cell_type": "markdown",
   "metadata": {},
   "source": [
    "### Different subsets of the MultiIndex DataFrame"
   ]
  },
  {
   "cell_type": "code",
   "execution_count": 43,
   "metadata": {},
   "outputs": [
    {
     "data": {
      "text/html": [
       "<div>\n",
       "<style scoped>\n",
       "    .dataframe tbody tr th:only-of-type {\n",
       "        vertical-align: middle;\n",
       "    }\n",
       "\n",
       "    .dataframe tbody tr th {\n",
       "        vertical-align: top;\n",
       "    }\n",
       "\n",
       "    .dataframe thead th {\n",
       "        text-align: right;\n",
       "    }\n",
       "</style>\n",
       "<table border=\"1\" class=\"dataframe\">\n",
       "  <thead>\n",
       "    <tr style=\"text-align: right;\">\n",
       "      <th></th>\n",
       "      <th>mean_age</th>\n",
       "      <th>meax_age</th>\n",
       "      <th>mean_salary</th>\n",
       "      <th>max_salary</th>\n",
       "    </tr>\n",
       "    <tr>\n",
       "      <th>department</th>\n",
       "      <th></th>\n",
       "      <th></th>\n",
       "      <th></th>\n",
       "      <th></th>\n",
       "    </tr>\n",
       "  </thead>\n",
       "  <tbody>\n",
       "    <tr>\n",
       "      <th>Consulting</th>\n",
       "      <td>41.1</td>\n",
       "      <td>50</td>\n",
       "      <td>108,411.9</td>\n",
       "      <td>124667</td>\n",
       "    </tr>\n",
       "    <tr>\n",
       "      <th>Developer</th>\n",
       "      <td>43.5</td>\n",
       "      <td>48</td>\n",
       "      <td>101,505.5</td>\n",
       "      <td>121975</td>\n",
       "    </tr>\n",
       "    <tr>\n",
       "      <th>Finance</th>\n",
       "      <td>41.8</td>\n",
       "      <td>53</td>\n",
       "      <td>104,111.7</td>\n",
       "      <td>128194</td>\n",
       "    </tr>\n",
       "    <tr>\n",
       "      <th>Management</th>\n",
       "      <td>39.1</td>\n",
       "      <td>49</td>\n",
       "      <td>98,756.0</td>\n",
       "      <td>131896</td>\n",
       "    </tr>\n",
       "    <tr>\n",
       "      <th>System Architect</th>\n",
       "      <td>45.7</td>\n",
       "      <td>53</td>\n",
       "      <td>108,414.3</td>\n",
       "      <td>132988</td>\n",
       "    </tr>\n",
       "  </tbody>\n",
       "</table>\n",
       "</div>"
      ],
      "text/plain": [
       "                  mean_age  meax_age  mean_salary  max_salary\n",
       "department                                                   \n",
       "Consulting            41.1        50    108,411.9      124667\n",
       "Developer             43.5        48    101,505.5      121975\n",
       "Finance               41.8        53    104,111.7      128194\n",
       "Management            39.1        49     98,756.0      131896\n",
       "System Architect      45.7        53    108,414.3      132988"
      ]
     },
     "execution_count": 43,
     "metadata": {},
     "output_type": "execute_result"
    }
   ],
   "source": [
    "tbl.loc['Hernandez, Cunningham and Clark']"
   ]
  },
  {
   "cell_type": "markdown",
   "metadata": {},
   "source": [
    "With a MultiIndex DataFrame, use `slice(None)` if you want to select all values of a certain index level."
   ]
  },
  {
   "cell_type": "code",
   "execution_count": 51,
   "metadata": {},
   "outputs": [
    {
     "data": {
      "text/html": [
       "<div>\n",
       "<style scoped>\n",
       "    .dataframe tbody tr th:only-of-type {\n",
       "        vertical-align: middle;\n",
       "    }\n",
       "\n",
       "    .dataframe tbody tr th {\n",
       "        vertical-align: top;\n",
       "    }\n",
       "\n",
       "    .dataframe thead th {\n",
       "        text-align: right;\n",
       "    }\n",
       "</style>\n",
       "<table border=\"1\" class=\"dataframe\">\n",
       "  <thead>\n",
       "    <tr style=\"text-align: right;\">\n",
       "      <th></th>\n",
       "      <th></th>\n",
       "      <th>mean_age</th>\n",
       "      <th>meax_age</th>\n",
       "      <th>mean_salary</th>\n",
       "      <th>max_salary</th>\n",
       "    </tr>\n",
       "    <tr>\n",
       "      <th>company</th>\n",
       "      <th>department</th>\n",
       "      <th></th>\n",
       "      <th></th>\n",
       "      <th></th>\n",
       "      <th></th>\n",
       "    </tr>\n",
       "  </thead>\n",
       "  <tbody>\n",
       "    <tr>\n",
       "      <th>Hernandez, Cunningham and Clark</th>\n",
       "      <th>Developer</th>\n",
       "      <td>43.5</td>\n",
       "      <td>48</td>\n",
       "      <td>101,505.5</td>\n",
       "      <td>121975</td>\n",
       "    </tr>\n",
       "    <tr>\n",
       "      <th>Spears-Brown</th>\n",
       "      <th>Developer</th>\n",
       "      <td>45.1</td>\n",
       "      <td>50</td>\n",
       "      <td>102,611.4</td>\n",
       "      <td>129124</td>\n",
       "    </tr>\n",
       "    <tr>\n",
       "      <th>Wilson and Sons</th>\n",
       "      <th>Developer</th>\n",
       "      <td>42.1</td>\n",
       "      <td>52</td>\n",
       "      <td>97,368.7</td>\n",
       "      <td>117387</td>\n",
       "    </tr>\n",
       "  </tbody>\n",
       "</table>\n",
       "</div>"
      ],
      "text/plain": [
       "                                            mean_age  meax_age  mean_salary  \\\n",
       "company                         department                                    \n",
       "Hernandez, Cunningham and Clark Developer       43.5        48    101,505.5   \n",
       "Spears-Brown                    Developer       45.1        50    102,611.4   \n",
       "Wilson and Sons                 Developer       42.1        52     97,368.7   \n",
       "\n",
       "                                            max_salary  \n",
       "company                         department              \n",
       "Hernandez, Cunningham and Clark Developer       121975  \n",
       "Spears-Brown                    Developer       129124  \n",
       "Wilson and Sons                 Developer       117387  "
      ]
     },
     "execution_count": 51,
     "metadata": {},
     "output_type": "execute_result"
    }
   ],
   "source": [
    "tbl.loc[(slice(None), 'Developer'), :]"
   ]
  },
  {
   "cell_type": "code",
   "execution_count": 52,
   "metadata": {},
   "outputs": [
    {
     "data": {
      "text/html": [
       "<div>\n",
       "<style scoped>\n",
       "    .dataframe tbody tr th:only-of-type {\n",
       "        vertical-align: middle;\n",
       "    }\n",
       "\n",
       "    .dataframe tbody tr th {\n",
       "        vertical-align: top;\n",
       "    }\n",
       "\n",
       "    .dataframe thead th {\n",
       "        text-align: right;\n",
       "    }\n",
       "</style>\n",
       "<table border=\"1\" class=\"dataframe\">\n",
       "  <thead>\n",
       "    <tr style=\"text-align: right;\">\n",
       "      <th></th>\n",
       "      <th></th>\n",
       "      <th>mean_age</th>\n",
       "      <th>meax_age</th>\n",
       "      <th>mean_salary</th>\n",
       "      <th>max_salary</th>\n",
       "    </tr>\n",
       "    <tr>\n",
       "      <th>company</th>\n",
       "      <th>department</th>\n",
       "      <th></th>\n",
       "      <th></th>\n",
       "      <th></th>\n",
       "      <th></th>\n",
       "    </tr>\n",
       "  </thead>\n",
       "  <tbody>\n",
       "    <tr>\n",
       "      <th rowspan=\"2\" valign=\"top\">Hernandez, Cunningham and Clark</th>\n",
       "      <th>Developer</th>\n",
       "      <td>43.5</td>\n",
       "      <td>48</td>\n",
       "      <td>101,505.5</td>\n",
       "      <td>121975</td>\n",
       "    </tr>\n",
       "    <tr>\n",
       "      <th>System Architect</th>\n",
       "      <td>45.7</td>\n",
       "      <td>53</td>\n",
       "      <td>108,414.3</td>\n",
       "      <td>132988</td>\n",
       "    </tr>\n",
       "    <tr>\n",
       "      <th rowspan=\"2\" valign=\"top\">Spears-Brown</th>\n",
       "      <th>Developer</th>\n",
       "      <td>45.1</td>\n",
       "      <td>50</td>\n",
       "      <td>102,611.4</td>\n",
       "      <td>129124</td>\n",
       "    </tr>\n",
       "    <tr>\n",
       "      <th>System Architect</th>\n",
       "      <td>43.8</td>\n",
       "      <td>53</td>\n",
       "      <td>103,507.0</td>\n",
       "      <td>133943</td>\n",
       "    </tr>\n",
       "    <tr>\n",
       "      <th rowspan=\"2\" valign=\"top\">Wilson and Sons</th>\n",
       "      <th>Developer</th>\n",
       "      <td>42.1</td>\n",
       "      <td>52</td>\n",
       "      <td>97,368.7</td>\n",
       "      <td>117387</td>\n",
       "    </tr>\n",
       "    <tr>\n",
       "      <th>System Architect</th>\n",
       "      <td>44.6</td>\n",
       "      <td>53</td>\n",
       "      <td>110,295.0</td>\n",
       "      <td>131134</td>\n",
       "    </tr>\n",
       "  </tbody>\n",
       "</table>\n",
       "</div>"
      ],
      "text/plain": [
       "                                                  mean_age  meax_age  \\\n",
       "company                         department                             \n",
       "Hernandez, Cunningham and Clark Developer             43.5        48   \n",
       "                                System Architect      45.7        53   \n",
       "Spears-Brown                    Developer             45.1        50   \n",
       "                                System Architect      43.8        53   \n",
       "Wilson and Sons                 Developer             42.1        52   \n",
       "                                System Architect      44.6        53   \n",
       "\n",
       "                                                  mean_salary  max_salary  \n",
       "company                         department                                 \n",
       "Hernandez, Cunningham and Clark Developer           101,505.5      121975  \n",
       "                                System Architect    108,414.3      132988  \n",
       "Spears-Brown                    Developer           102,611.4      129124  \n",
       "                                System Architect    103,507.0      133943  \n",
       "Wilson and Sons                 Developer            97,368.7      117387  \n",
       "                                System Architect    110,295.0      131134  "
      ]
     },
     "execution_count": 52,
     "metadata": {},
     "output_type": "execute_result"
    }
   ],
   "source": [
    "tbl.loc[(slice(None), ['Developer', 'System Architect']), :]"
   ]
  },
  {
   "cell_type": "code",
   "execution_count": 56,
   "metadata": {},
   "outputs": [
    {
     "data": {
      "text/html": [
       "<div>\n",
       "<style scoped>\n",
       "    .dataframe tbody tr th:only-of-type {\n",
       "        vertical-align: middle;\n",
       "    }\n",
       "\n",
       "    .dataframe tbody tr th {\n",
       "        vertical-align: top;\n",
       "    }\n",
       "\n",
       "    .dataframe thead th {\n",
       "        text-align: right;\n",
       "    }\n",
       "</style>\n",
       "<table border=\"1\" class=\"dataframe\">\n",
       "  <thead>\n",
       "    <tr style=\"text-align: right;\">\n",
       "      <th></th>\n",
       "      <th></th>\n",
       "      <th>mean_age</th>\n",
       "      <th>mean_salary</th>\n",
       "    </tr>\n",
       "    <tr>\n",
       "      <th>company</th>\n",
       "      <th>department</th>\n",
       "      <th></th>\n",
       "      <th></th>\n",
       "    </tr>\n",
       "  </thead>\n",
       "  <tbody>\n",
       "    <tr>\n",
       "      <th rowspan=\"5\" valign=\"top\">Spears-Brown</th>\n",
       "      <th>Consulting</th>\n",
       "      <td>46.3</td>\n",
       "      <td>108,118.3</td>\n",
       "    </tr>\n",
       "    <tr>\n",
       "      <th>Developer</th>\n",
       "      <td>45.1</td>\n",
       "      <td>102,611.4</td>\n",
       "    </tr>\n",
       "    <tr>\n",
       "      <th>Finance</th>\n",
       "      <td>45.7</td>\n",
       "      <td>107,777.0</td>\n",
       "    </tr>\n",
       "    <tr>\n",
       "      <th>Management</th>\n",
       "      <td>39.6</td>\n",
       "      <td>120,032.1</td>\n",
       "    </tr>\n",
       "    <tr>\n",
       "      <th>System Architect</th>\n",
       "      <td>43.8</td>\n",
       "      <td>103,507.0</td>\n",
       "    </tr>\n",
       "  </tbody>\n",
       "</table>\n",
       "</div>"
      ],
      "text/plain": [
       "                               mean_age  mean_salary\n",
       "company      department                             \n",
       "Spears-Brown Consulting            46.3    108,118.3\n",
       "             Developer             45.1    102,611.4\n",
       "             Finance               45.7    107,777.0\n",
       "             Management            39.6    120,032.1\n",
       "             System Architect      43.8    103,507.0"
      ]
     },
     "execution_count": 56,
     "metadata": {},
     "output_type": "execute_result"
    }
   ],
   "source": [
    "tbl.loc[('Spears-Brown', slice(None)), ['mean_age', 'mean_salary']]"
   ]
  },
  {
   "cell_type": "code",
   "execution_count": 55,
   "metadata": {},
   "outputs": [
    {
     "data": {
      "text/html": [
       "<div>\n",
       "<style scoped>\n",
       "    .dataframe tbody tr th:only-of-type {\n",
       "        vertical-align: middle;\n",
       "    }\n",
       "\n",
       "    .dataframe tbody tr th {\n",
       "        vertical-align: top;\n",
       "    }\n",
       "\n",
       "    .dataframe thead th {\n",
       "        text-align: right;\n",
       "    }\n",
       "</style>\n",
       "<table border=\"1\" class=\"dataframe\">\n",
       "  <thead>\n",
       "    <tr style=\"text-align: right;\">\n",
       "      <th></th>\n",
       "      <th></th>\n",
       "      <th>mean_age</th>\n",
       "      <th>mean_salary</th>\n",
       "    </tr>\n",
       "    <tr>\n",
       "      <th>company</th>\n",
       "      <th>department</th>\n",
       "      <th></th>\n",
       "      <th></th>\n",
       "    </tr>\n",
       "  </thead>\n",
       "  <tbody>\n",
       "    <tr>\n",
       "      <th rowspan=\"2\" valign=\"top\">Spears-Brown</th>\n",
       "      <th>Developer</th>\n",
       "      <td>45.1</td>\n",
       "      <td>102,611.4</td>\n",
       "    </tr>\n",
       "    <tr>\n",
       "      <th>System Architect</th>\n",
       "      <td>43.8</td>\n",
       "      <td>103,507.0</td>\n",
       "    </tr>\n",
       "  </tbody>\n",
       "</table>\n",
       "</div>"
      ],
      "text/plain": [
       "                               mean_age  mean_salary\n",
       "company      department                             \n",
       "Spears-Brown Developer             45.1    102,611.4\n",
       "             System Architect      43.8    103,507.0"
      ]
     },
     "execution_count": 55,
     "metadata": {},
     "output_type": "execute_result"
    }
   ],
   "source": [
    "tbl.loc[('Spears-Brown', ['Developer', 'System Architect']), ['mean_age', 'mean_salary']]"
   ]
  }
 ],
 "metadata": {
  "interpreter": {
   "hash": "ecf5722fdaf1897a315d257d89d94520bfcaa453217d5becf09b39e73618b0de"
  },
  "kernelspec": {
   "display_name": "Python 3.9.7 64-bit ('base': conda)",
   "language": "python",
   "name": "python3"
  },
  "language_info": {
   "codemirror_mode": {
    "name": "ipython",
    "version": 3
   },
   "file_extension": ".py",
   "mimetype": "text/x-python",
   "name": "python",
   "nbconvert_exporter": "python",
   "pygments_lexer": "ipython3",
   "version": "3.9.7"
  },
  "orig_nbformat": 4
 },
 "nbformat": 4,
 "nbformat_minor": 2
}
