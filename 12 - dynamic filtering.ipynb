{
 "cells": [
  {
   "cell_type": "code",
   "execution_count": 1,
   "metadata": {},
   "outputs": [],
   "source": [
    "import pandas as pd\n",
    "from collections import namedtuple"
   ]
  },
  {
   "cell_type": "code",
   "execution_count": null,
   "metadata": {},
   "outputs": [],
   "source": [
    "def load_est_model_data():\n",
    "    path = 'C:/Users/CNSPRHES/Documents/11-spreadsheets/EST model 2021 v5.xlsx'\n",
    "\n",
    "    cols = [\n",
    "        'Internregnskapskode', 'ACCOUNT', 'Cost center', \n",
    "        'Internregnskapskode beskrivelse', 'Region', \n",
    "        'Group Detail', 'Group', 'Account Group', 'HFMRapp1',\n",
    "        'ACCOUNT_DESC', 'YearPeriodKey', 'Totalt'\n",
    "    ]\n",
    "\n",
    "    df = pd.read_excel(path, sheet_name='Data', usecols=cols)\n",
    "\n",
    "    # Change column names\n",
    "    new_cols = [str.casefold(c).replace(' ', '_') for c in cols]\n",
    "    new_cols[-2] = 'year_period_key'\n",
    "    df.columns = new_cols\n",
    "    \n",
    "    # Change dtype\n",
    "    df.year_period_key = df.year_period_key.astype('str')\n",
    "    \n",
    "    return df\n",
    "\n",
    "df = load_est_model_data()"
   ]
  },
  {
   "cell_type": "code",
   "execution_count": null,
   "metadata": {},
   "outputs": [],
   "source": [
    "def create_query_string(filters):\n",
    "    filtered = {k:v for k, v in filters.items() if v is not None}\n",
    "    query = ' & '.join(f'{k}==\"{v}\"' for k, v in filtered.items() if k != 'year_period_key')\n",
    "    return query + f' & year_period_key.isin({filtered[\"year_period_key\"]})'\n",
    "    \n",
    "def filter_df(df, query_str):\n",
    "    return (\n",
    "        df\n",
    "        .query(query_str)\n",
    "        .groupby('year_period_key')[['totalt']]\n",
    "        .sum()\n",
    "        .transpose()\n",
    "        .style\n",
    "            .format(\"{:,.0f}\")\n",
    "    )\n",
    "    \n",
    "filters = dict(\n",
    "    region='HJV', \n",
    "    internregnskapskode='R10T',\n",
    "    group='Factory',\n",
    "    group_detail=None,\n",
    "    account_group='Revenue',\n",
    "    year_period_key=[f'2021{str(i).zfill(2)}' for i in range(1, 13)]\n",
    ")\n",
    "\n",
    "    \n",
    "query_str = create_query_string(filters)\n",
    "filter_df(df, query_str)"
   ]
  },
  {
   "cell_type": "markdown",
   "metadata": {},
   "source": [
    "### A more complete query string function:"
   ]
  },
  {
   "cell_type": "code",
   "execution_count": null,
   "metadata": {},
   "outputs": [],
   "source": [
    "Constraint = namedtuple('Constraint', 'column, eq_sign, value')\n",
    "  \n",
    "def create_query_substring(c):\n",
    "    if c.eq_sign in ['>', '<', '==']:\n",
    "        return f'{c.column} {c.eq_sign} {repr(c.value)}'\n",
    "    value = repr(c.value) if isinstance(c.value, str) else c.value\n",
    "    return f'{c.column}.{c.eq_sign}({value})'\n",
    "\n",
    "def create_query_string(constraints):\n",
    "    return ' & '.join(create_query_substring(c) for c in constraints)\n",
    " \n",
    "\n",
    "def filter_df(df, query_str):\n",
    "    return (\n",
    "        df\n",
    "        .query(query_str)\n",
    "        .groupby('year_period_key')[['totalt']]\n",
    "        .sum()\n",
    "        .transpose()\n",
    "        .style\n",
    "            .format(\"{:,.0f}\")\n",
    "    )\n",
    "\n",
    "periods = [f'2021{str(i).zfill(2)}' for i in range(1, 13)]\n",
    "\n",
    "constraints = [\n",
    "    Constraint('region', '==', 'HJV'),\n",
    "    Constraint('internregnskapskode', '==', 'R10T'),\n",
    "    Constraint('group', 'str.contains', 'Factory'),\n",
    "    Constraint('account_group', '==', 'Revenue'),\n",
    "    Constraint('year_period_key', 'isin', periods)\n",
    "]\n",
    "\n",
    "\n",
    "query_str = create_query_string(constraints)\n",
    "filter_df(df, query_str)"
   ]
  },
  {
   "cell_type": "markdown",
   "metadata": {},
   "source": [
    "### Example 2:"
   ]
  },
  {
   "cell_type": "code",
   "execution_count": null,
   "metadata": {},
   "outputs": [],
   "source": [
    "import pandas as pd\n",
    "import operator\n",
    "from functools import reduce\n",
    "\n",
    "df = pd.DataFrame({\"A\": [6, 2, 10, -5, 3],\n",
    "                   \"B\": [2, 5, 3, 2, 6],\n",
    "                   \"C\": [-5, 2, 1, 8, 2]})\n",
    "\n",
    "limits_dic = {\"A\": 0, \"B\": 2, \"C\": -1}\n",
    "\n",
    "# equiv to [df['A'] > 0, df['B'] > 2 ...]\n",
    "loc_elements = [df[key] > val for key, val in limits_dic.items()]\n",
    "\n",
    "df = df.loc[reduce(operator.and_, loc_elements)]"
   ]
  },
  {
   "cell_type": "markdown",
   "metadata": {},
   "source": [
    "### Example 3: "
   ]
  },
  {
   "cell_type": "code",
   "execution_count": null,
   "metadata": {},
   "outputs": [],
   "source": [
    "df = pd.DataFrame({\"A\": [6, 2, 10, -5, 3],\n",
    "                   \"B\": [2, 5, 3, 2, 6],\n",
    "                   \"C\": [-5, 2, 1, 8, 2]})\n",
    "\n",
    "limits_dic = {\"A\": 0, \"B\": 2, \"C\": -1}\n",
    "\n",
    "conditions = None\n",
    "for key, val in limits_dic.items():\n",
    "    cond = df[key] > val\n",
    "    conditions = cond if conditions is None else conditions & cond\n",
    "\n",
    "print(df[conditions].head())"
   ]
  }
 ],
 "metadata": {
  "interpreter": {
   "hash": "05d659cf7217a31b7ba206b7e3fe1d98040361cb242cc44ce7c59206cfd427bc"
  },
  "kernelspec": {
   "display_name": "Python 3.9.5 64-bit ('spenncon': conda)",
   "name": "python3"
  },
  "language_info": {
   "codemirror_mode": {
    "name": "ipython",
    "version": 3
   },
   "file_extension": ".py",
   "mimetype": "text/x-python",
   "name": "python",
   "nbconvert_exporter": "python",
   "pygments_lexer": "ipython3",
   "version": "3.9.5"
  },
  "orig_nbformat": 4
 },
 "nbformat": 4,
 "nbformat_minor": 2
}
