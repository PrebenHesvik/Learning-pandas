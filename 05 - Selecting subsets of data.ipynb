{
 "cells": [
  {
   "cell_type": "code",
   "execution_count": 3,
   "metadata": {},
   "outputs": [
    {
     "data": {
      "text/html": [
       "<div>\n",
       "<style scoped>\n",
       "    .dataframe tbody tr th:only-of-type {\n",
       "        vertical-align: middle;\n",
       "    }\n",
       "\n",
       "    .dataframe tbody tr th {\n",
       "        vertical-align: top;\n",
       "    }\n",
       "\n",
       "    .dataframe thead th {\n",
       "        text-align: right;\n",
       "    }\n",
       "</style>\n",
       "<table border=\"1\" class=\"dataframe\">\n",
       "  <thead>\n",
       "    <tr style=\"text-align: right;\">\n",
       "      <th></th>\n",
       "      <th>employee_number</th>\n",
       "      <th>company</th>\n",
       "      <th>country</th>\n",
       "      <th>dob</th>\n",
       "      <th>age</th>\n",
       "      <th>department</th>\n",
       "      <th>salary</th>\n",
       "      <th>has_parking_space</th>\n",
       "    </tr>\n",
       "    <tr>\n",
       "      <th>name</th>\n",
       "      <th></th>\n",
       "      <th></th>\n",
       "      <th></th>\n",
       "      <th></th>\n",
       "      <th></th>\n",
       "      <th></th>\n",
       "      <th></th>\n",
       "      <th></th>\n",
       "    </tr>\n",
       "  </thead>\n",
       "  <tbody>\n",
       "    <tr>\n",
       "      <th>Alex Rodriguez</th>\n",
       "      <td>901656</td>\n",
       "      <td>Hernandez, Cunningham and Clark</td>\n",
       "      <td>Israel</td>\n",
       "      <td>1975-11-08</td>\n",
       "      <td>46</td>\n",
       "      <td>System Architect</td>\n",
       "      <td>132988</td>\n",
       "      <td>True</td>\n",
       "    </tr>\n",
       "    <tr>\n",
       "      <th>Allison Hall</th>\n",
       "      <td>120088</td>\n",
       "      <td>Wilson and Sons</td>\n",
       "      <td>Israel</td>\n",
       "      <td>1987-02-04</td>\n",
       "      <td>34</td>\n",
       "      <td>Consulting</td>\n",
       "      <td>113536</td>\n",
       "      <td>False</td>\n",
       "    </tr>\n",
       "    <tr>\n",
       "      <th>Amber Sloan</th>\n",
       "      <td>414171</td>\n",
       "      <td>Hernandez, Cunningham and Clark</td>\n",
       "      <td>Germany</td>\n",
       "      <td>1982-11-08</td>\n",
       "      <td>39</td>\n",
       "      <td>Consulting</td>\n",
       "      <td>100644</td>\n",
       "      <td>False</td>\n",
       "    </tr>\n",
       "    <tr>\n",
       "      <th>Amy Mitchell</th>\n",
       "      <td>425959</td>\n",
       "      <td>Hernandez, Cunningham and Clark</td>\n",
       "      <td>Suriname</td>\n",
       "      <td>1975-09-30</td>\n",
       "      <td>46</td>\n",
       "      <td>System Architect</td>\n",
       "      <td>99776</td>\n",
       "      <td>False</td>\n",
       "    </tr>\n",
       "    <tr>\n",
       "      <th>Andrew Hodge</th>\n",
       "      <td>379723</td>\n",
       "      <td>Hernandez, Cunningham and Clark</td>\n",
       "      <td>India</td>\n",
       "      <td>1983-10-09</td>\n",
       "      <td>38</td>\n",
       "      <td>Consulting</td>\n",
       "      <td>124667</td>\n",
       "      <td>True</td>\n",
       "    </tr>\n",
       "  </tbody>\n",
       "</table>\n",
       "</div>"
      ],
      "text/plain": [
       "                employee_number                          company   country  \\\n",
       "name                                                                         \n",
       "Alex Rodriguez           901656  Hernandez, Cunningham and Clark    Israel   \n",
       "Allison Hall             120088                  Wilson and Sons    Israel   \n",
       "Amber Sloan              414171  Hernandez, Cunningham and Clark   Germany   \n",
       "Amy Mitchell             425959  Hernandez, Cunningham and Clark  Suriname   \n",
       "Andrew Hodge             379723  Hernandez, Cunningham and Clark     India   \n",
       "\n",
       "                      dob  age        department  salary  has_parking_space  \n",
       "name                                                                         \n",
       "Alex Rodriguez 1975-11-08   46  System Architect  132988               True  \n",
       "Allison Hall   1987-02-04   34        Consulting  113536              False  \n",
       "Amber Sloan    1982-11-08   39        Consulting  100644              False  \n",
       "Amy Mitchell   1975-09-30   46  System Architect   99776              False  \n",
       "Andrew Hodge   1983-10-09   38        Consulting  124667               True  "
      ]
     },
     "execution_count": 3,
     "metadata": {},
     "output_type": "execute_result"
    }
   ],
   "source": [
    "import pandas as pd\n",
    "\n",
    "path = 'datasets/employee_list.parquet'\n",
    "df = pd.read_parquet(path)\n",
    "df = df.sort_values('name', ascending=True).set_index('name')\n",
    "df.head()"
   ]
  },
  {
   "cell_type": "markdown",
   "metadata": {},
   "source": [
    "### Selecting subsets of a Series\n",
    "- Remember that when you slice by position, pandas uses the half-open interval.\n",
    "- The half-open interval includes the first index, but not the end index.\n",
    "- However, when you slice by label, pandas uses the closed interval and includes both the start and end index. \n",
    "- This behavior is inconsistent with Python in general, but is practical for labels."
   ]
  },
  {
   "cell_type": "code",
   "execution_count": 5,
   "metadata": {},
   "outputs": [],
   "source": [
    "salary = df['salary']"
   ]
  },
  {
   "cell_type": "code",
   "execution_count": 6,
   "metadata": {},
   "outputs": [
    {
     "data": {
      "text/plain": [
       "100644"
      ]
     },
     "execution_count": 6,
     "metadata": {},
     "output_type": "execute_result"
    }
   ],
   "source": [
    "# pull out a scalar from the series directly\n",
    "salary['Amber Sloan']"
   ]
  },
  {
   "cell_type": "code",
   "execution_count": 7,
   "metadata": {},
   "outputs": [
    {
     "data": {
      "text/plain": [
       "100644"
      ]
     },
     "execution_count": 7,
     "metadata": {},
     "output_type": "execute_result"
    }
   ],
   "source": [
    "# Pull out a scalar value using the .loc attribute by name\n",
    "salary.loc['Amber Sloan']"
   ]
  },
  {
   "cell_type": "code",
   "execution_count": 8,
   "metadata": {},
   "outputs": [
    {
     "data": {
      "text/plain": [
       "name\n",
       "Amber Sloan     100644\n",
       "Andrew Hodge    124667\n",
       "Name: salary, dtype: int64"
      ]
     },
     "execution_count": 8,
     "metadata": {},
     "output_type": "execute_result"
    }
   ],
   "source": [
    "# Pull out several values by indexing.\n",
    "salary[['Amber Sloan', 'Andrew Hodge']]"
   ]
  },
  {
   "cell_type": "code",
   "execution_count": 9,
   "metadata": {},
   "outputs": [
    {
     "data": {
      "text/plain": [
       "name\n",
       "Amber Sloan     100644\n",
       "Andrew Hodge    124667\n",
       "Name: salary, dtype: int64"
      ]
     },
     "execution_count": 9,
     "metadata": {},
     "output_type": "execute_result"
    }
   ],
   "source": [
    "# Pull out several values by using .loc\n",
    "salary.loc[['Amber Sloan', 'Andrew Hodge']]"
   ]
  },
  {
   "cell_type": "code",
   "execution_count": 17,
   "metadata": {},
   "outputs": [
    {
     "data": {
      "text/plain": [
       "name\n",
       "Amber Sloan     100644\n",
       "Amy Mitchell     99776\n",
       "Andrew Hodge    124667\n",
       "Name: salary, dtype: int64"
      ]
     },
     "execution_count": 17,
     "metadata": {},
     "output_type": "execute_result"
    }
   ],
   "source": [
    "# Pull out several values by using .loc and slice\n",
    "salary.loc['Amber Sloan':'Andrew Hodge']"
   ]
  },
  {
   "cell_type": "code",
   "execution_count": 14,
   "metadata": {},
   "outputs": [
    {
     "data": {
      "text/plain": [
       "name\n",
       "Amber Sloan       100644\n",
       "Andrew Johnson    128330\n",
       "Name: salary, dtype: int64"
      ]
     },
     "execution_count": 14,
     "metadata": {},
     "output_type": "execute_result"
    }
   ],
   "source": [
    " # Pull out several values by using .iloc\n",
    " salary.iloc[[2, 5]]"
   ]
  },
  {
   "cell_type": "code",
   "execution_count": 16,
   "metadata": {},
   "outputs": [
    {
     "data": {
      "text/plain": [
       "name\n",
       "Amber Sloan     100644\n",
       "Amy Mitchell     99776\n",
       "Andrew Hodge    124667\n",
       "Name: salary, dtype: int64"
      ]
     },
     "execution_count": 16,
     "metadata": {},
     "output_type": "execute_result"
    }
   ],
   "source": [
    " # Pull out several values by using .iloc and slice\n",
    " salary.iloc[2:5]"
   ]
  },
  {
   "cell_type": "code",
   "execution_count": 19,
   "metadata": {},
   "outputs": [
    {
     "data": {
      "text/plain": [
       "name\n",
       "Amber Sloan     100644\n",
       "Amy Mitchell     99776\n",
       "Andrew Hodge    124667\n",
       "Name: salary, dtype: int64"
      ]
     },
     "execution_count": 19,
     "metadata": {},
     "output_type": "execute_result"
    }
   ],
   "source": [
    "# Use the isin method to find matches\n",
    "to_find = [100644, 99776, 124667]\n",
    "salary[salary.isin(to_find)]"
   ]
  },
  {
   "cell_type": "markdown",
   "metadata": {},
   "source": [
    "### Selecting subsets of a DataFrame"
   ]
  },
  {
   "cell_type": "code",
   "execution_count": 21,
   "metadata": {},
   "outputs": [
    {
     "data": {
      "text/plain": [
       "100644"
      ]
     },
     "execution_count": 21,
     "metadata": {},
     "output_type": "execute_result"
    }
   ],
   "source": [
    "# Pull out a scalar value using the .loc attribute by name\n",
    "df.loc['Amber Sloan', 'salary']"
   ]
  },
  {
   "cell_type": "code",
   "execution_count": 23,
   "metadata": {},
   "outputs": [
    {
     "data": {
      "text/plain": [
       "name\n",
       "Amber Sloan     100644\n",
       "Andrew Hodge    124667\n",
       "Name: salary, dtype: int64"
      ]
     },
     "execution_count": 23,
     "metadata": {},
     "output_type": "execute_result"
    }
   ],
   "source": [
    "# Pull out a scalar value using the .iloc attribute\n",
    "df.iloc[[2, 4], 6]"
   ]
  },
  {
   "cell_type": "code",
   "execution_count": 24,
   "metadata": {},
   "outputs": [
    {
     "data": {
      "text/plain": [
       "name\n",
       "Amber Sloan     100644\n",
       "Andrew Hodge    124667\n",
       "Name: salary, dtype: int64"
      ]
     },
     "execution_count": 24,
     "metadata": {},
     "output_type": "execute_result"
    }
   ],
   "source": [
    "# Pull out several values by using .loc\n",
    "df.loc[['Amber Sloan', 'Andrew Hodge'], 'salary']"
   ]
  },
  {
   "cell_type": "code",
   "execution_count": 25,
   "metadata": {},
   "outputs": [
    {
     "data": {
      "text/plain": [
       "name\n",
       "Amber Sloan     100644\n",
       "Amy Mitchell     99776\n",
       "Andrew Hodge    124667\n",
       "Name: salary, dtype: int64"
      ]
     },
     "execution_count": 25,
     "metadata": {},
     "output_type": "execute_result"
    }
   ],
   "source": [
    "# Use a slice to pull out many values with .loc\n",
    "df.loc['Amber Sloan':'Andrew Hodge', 'salary']"
   ]
  },
  {
   "cell_type": "code",
   "execution_count": 27,
   "metadata": {},
   "outputs": [
    {
     "data": {
      "text/plain": [
       "name\n",
       "Amber Sloan     100644\n",
       "Amy Mitchell     99776\n",
       "Andrew Hodge    124667\n",
       "Name: salary, dtype: int64"
      ]
     },
     "execution_count": 27,
     "metadata": {},
     "output_type": "execute_result"
    }
   ],
   "source": [
    "# Use a slice to pull out many values with .iloc\n",
    "df.iloc[2:5, 6]"
   ]
  },
  {
   "cell_type": "markdown",
   "metadata": {},
   "source": [
    "### Selecting DataFrame rows"
   ]
  },
  {
   "cell_type": "code",
   "execution_count": 28,
   "metadata": {},
   "outputs": [
    {
     "data": {
      "text/plain": [
       "employee_number                               414171\n",
       "company              Hernandez, Cunningham and Clark\n",
       "country                                      Germany\n",
       "dob                              1982-11-08 00:00:00\n",
       "age                                               39\n",
       "department                                Consulting\n",
       "salary                                        100644\n",
       "has_parking_space                              False\n",
       "Name: Amber Sloan, dtype: object"
      ]
     },
     "execution_count": 28,
     "metadata": {},
     "output_type": "execute_result"
    }
   ],
   "source": [
    "# Select an entire row at a certain position using .iloc\n",
    "df.iloc[2] # since Python is zero-based, this is actually the  3rd row"
   ]
  },
  {
   "cell_type": "code",
   "execution_count": 31,
   "metadata": {},
   "outputs": [
    {
     "data": {
      "text/html": [
       "<div>\n",
       "<style scoped>\n",
       "    .dataframe tbody tr th:only-of-type {\n",
       "        vertical-align: middle;\n",
       "    }\n",
       "\n",
       "    .dataframe tbody tr th {\n",
       "        vertical-align: top;\n",
       "    }\n",
       "\n",
       "    .dataframe thead th {\n",
       "        text-align: right;\n",
       "    }\n",
       "</style>\n",
       "<table border=\"1\" class=\"dataframe\">\n",
       "  <thead>\n",
       "    <tr style=\"text-align: right;\">\n",
       "      <th></th>\n",
       "      <th>employee_number</th>\n",
       "      <th>company</th>\n",
       "      <th>country</th>\n",
       "      <th>dob</th>\n",
       "      <th>age</th>\n",
       "      <th>department</th>\n",
       "      <th>salary</th>\n",
       "      <th>has_parking_space</th>\n",
       "    </tr>\n",
       "    <tr>\n",
       "      <th>name</th>\n",
       "      <th></th>\n",
       "      <th></th>\n",
       "      <th></th>\n",
       "      <th></th>\n",
       "      <th></th>\n",
       "      <th></th>\n",
       "      <th></th>\n",
       "      <th></th>\n",
       "    </tr>\n",
       "  </thead>\n",
       "  <tbody>\n",
       "    <tr>\n",
       "      <th>Amber Sloan</th>\n",
       "      <td>414171</td>\n",
       "      <td>Hernandez, Cunningham and Clark</td>\n",
       "      <td>Germany</td>\n",
       "      <td>1982-11-08</td>\n",
       "      <td>39</td>\n",
       "      <td>Consulting</td>\n",
       "      <td>100644</td>\n",
       "      <td>False</td>\n",
       "    </tr>\n",
       "    <tr>\n",
       "      <th>Andrew Hodge</th>\n",
       "      <td>379723</td>\n",
       "      <td>Hernandez, Cunningham and Clark</td>\n",
       "      <td>India</td>\n",
       "      <td>1983-10-09</td>\n",
       "      <td>38</td>\n",
       "      <td>Consulting</td>\n",
       "      <td>124667</td>\n",
       "      <td>True</td>\n",
       "    </tr>\n",
       "  </tbody>\n",
       "</table>\n",
       "</div>"
      ],
      "text/plain": [
       "              employee_number                          company  country  \\\n",
       "name                                                                      \n",
       "Amber Sloan            414171  Hernandez, Cunningham and Clark  Germany   \n",
       "Andrew Hodge           379723  Hernandez, Cunningham and Clark    India   \n",
       "\n",
       "                    dob  age  department  salary  has_parking_space  \n",
       "name                                                                 \n",
       "Amber Sloan  1982-11-08   39  Consulting  100644              False  \n",
       "Andrew Hodge 1983-10-09   38  Consulting  124667               True  "
      ]
     },
     "execution_count": 31,
     "metadata": {},
     "output_type": "execute_result"
    }
   ],
   "source": [
    " # Select three disjointed set of rows using .iloc\n",
    " df.iloc[[2, 4]]"
   ]
  },
  {
   "cell_type": "code",
   "execution_count": 32,
   "metadata": {},
   "outputs": [
    {
     "data": {
      "text/html": [
       "<div>\n",
       "<style scoped>\n",
       "    .dataframe tbody tr th:only-of-type {\n",
       "        vertical-align: middle;\n",
       "    }\n",
       "\n",
       "    .dataframe tbody tr th {\n",
       "        vertical-align: top;\n",
       "    }\n",
       "\n",
       "    .dataframe thead th {\n",
       "        text-align: right;\n",
       "    }\n",
       "</style>\n",
       "<table border=\"1\" class=\"dataframe\">\n",
       "  <thead>\n",
       "    <tr style=\"text-align: right;\">\n",
       "      <th></th>\n",
       "      <th>employee_number</th>\n",
       "      <th>company</th>\n",
       "      <th>country</th>\n",
       "      <th>dob</th>\n",
       "      <th>age</th>\n",
       "      <th>department</th>\n",
       "      <th>salary</th>\n",
       "      <th>has_parking_space</th>\n",
       "    </tr>\n",
       "    <tr>\n",
       "      <th>name</th>\n",
       "      <th></th>\n",
       "      <th></th>\n",
       "      <th></th>\n",
       "      <th></th>\n",
       "      <th></th>\n",
       "      <th></th>\n",
       "      <th></th>\n",
       "      <th></th>\n",
       "    </tr>\n",
       "  </thead>\n",
       "  <tbody>\n",
       "    <tr>\n",
       "      <th>Amber Sloan</th>\n",
       "      <td>414171</td>\n",
       "      <td>Hernandez, Cunningham and Clark</td>\n",
       "      <td>Germany</td>\n",
       "      <td>1982-11-08</td>\n",
       "      <td>39</td>\n",
       "      <td>Consulting</td>\n",
       "      <td>100644</td>\n",
       "      <td>False</td>\n",
       "    </tr>\n",
       "    <tr>\n",
       "      <th>Andrew Hodge</th>\n",
       "      <td>379723</td>\n",
       "      <td>Hernandez, Cunningham and Clark</td>\n",
       "      <td>India</td>\n",
       "      <td>1983-10-09</td>\n",
       "      <td>38</td>\n",
       "      <td>Consulting</td>\n",
       "      <td>124667</td>\n",
       "      <td>True</td>\n",
       "    </tr>\n",
       "  </tbody>\n",
       "</table>\n",
       "</div>"
      ],
      "text/plain": [
       "              employee_number                          company  country  \\\n",
       "name                                                                      \n",
       "Amber Sloan            414171  Hernandez, Cunningham and Clark  Germany   \n",
       "Andrew Hodge           379723  Hernandez, Cunningham and Clark    India   \n",
       "\n",
       "                    dob  age  department  salary  has_parking_space  \n",
       "name                                                                 \n",
       "Amber Sloan  1982-11-08   39  Consulting  100644              False  \n",
       "Andrew Hodge 1983-10-09   38  Consulting  124667               True  "
      ]
     },
     "execution_count": 32,
     "metadata": {},
     "output_type": "execute_result"
    }
   ],
   "source": [
    "# select two disjointed set of rows using .loc\n",
    "df.loc[['Amber Sloan', 'Andrew Hodge']]"
   ]
  },
  {
   "cell_type": "code",
   "execution_count": 33,
   "metadata": {},
   "outputs": [
    {
     "data": {
      "text/html": [
       "<div>\n",
       "<style scoped>\n",
       "    .dataframe tbody tr th:only-of-type {\n",
       "        vertical-align: middle;\n",
       "    }\n",
       "\n",
       "    .dataframe tbody tr th {\n",
       "        vertical-align: top;\n",
       "    }\n",
       "\n",
       "    .dataframe thead th {\n",
       "        text-align: right;\n",
       "    }\n",
       "</style>\n",
       "<table border=\"1\" class=\"dataframe\">\n",
       "  <thead>\n",
       "    <tr style=\"text-align: right;\">\n",
       "      <th></th>\n",
       "      <th>employee_number</th>\n",
       "      <th>company</th>\n",
       "      <th>country</th>\n",
       "      <th>dob</th>\n",
       "      <th>age</th>\n",
       "      <th>department</th>\n",
       "      <th>salary</th>\n",
       "      <th>has_parking_space</th>\n",
       "    </tr>\n",
       "    <tr>\n",
       "      <th>name</th>\n",
       "      <th></th>\n",
       "      <th></th>\n",
       "      <th></th>\n",
       "      <th></th>\n",
       "      <th></th>\n",
       "      <th></th>\n",
       "      <th></th>\n",
       "      <th></th>\n",
       "    </tr>\n",
       "  </thead>\n",
       "  <tbody>\n",
       "    <tr>\n",
       "      <th>Amber Sloan</th>\n",
       "      <td>414171</td>\n",
       "      <td>Hernandez, Cunningham and Clark</td>\n",
       "      <td>Germany</td>\n",
       "      <td>1982-11-08</td>\n",
       "      <td>39</td>\n",
       "      <td>Consulting</td>\n",
       "      <td>100644</td>\n",
       "      <td>False</td>\n",
       "    </tr>\n",
       "    <tr>\n",
       "      <th>Amy Mitchell</th>\n",
       "      <td>425959</td>\n",
       "      <td>Hernandez, Cunningham and Clark</td>\n",
       "      <td>Suriname</td>\n",
       "      <td>1975-09-30</td>\n",
       "      <td>46</td>\n",
       "      <td>System Architect</td>\n",
       "      <td>99776</td>\n",
       "      <td>False</td>\n",
       "    </tr>\n",
       "    <tr>\n",
       "      <th>Andrew Hodge</th>\n",
       "      <td>379723</td>\n",
       "      <td>Hernandez, Cunningham and Clark</td>\n",
       "      <td>India</td>\n",
       "      <td>1983-10-09</td>\n",
       "      <td>38</td>\n",
       "      <td>Consulting</td>\n",
       "      <td>124667</td>\n",
       "      <td>True</td>\n",
       "    </tr>\n",
       "  </tbody>\n",
       "</table>\n",
       "</div>"
      ],
      "text/plain": [
       "              employee_number                          company   country  \\\n",
       "name                                                                       \n",
       "Amber Sloan            414171  Hernandez, Cunningham and Clark   Germany   \n",
       "Amy Mitchell           425959  Hernandez, Cunningham and Clark  Suriname   \n",
       "Andrew Hodge           379723  Hernandez, Cunningham and Clark     India   \n",
       "\n",
       "                    dob  age        department  salary  has_parking_space  \n",
       "name                                                                       \n",
       "Amber Sloan  1982-11-08   39        Consulting  100644              False  \n",
       "Amy Mitchell 1975-09-30   46  System Architect   99776              False  \n",
       "Andrew Hodge 1983-10-09   38        Consulting  124667               True  "
      ]
     },
     "execution_count": 33,
     "metadata": {},
     "output_type": "execute_result"
    }
   ],
   "source": [
    "# slice notation with .iloc to select contiguous rows of the data\n",
    "df.iloc[2:5]"
   ]
  },
  {
   "cell_type": "code",
   "execution_count": 34,
   "metadata": {},
   "outputs": [
    {
     "data": {
      "text/html": [
       "<div>\n",
       "<style scoped>\n",
       "    .dataframe tbody tr th:only-of-type {\n",
       "        vertical-align: middle;\n",
       "    }\n",
       "\n",
       "    .dataframe tbody tr th {\n",
       "        vertical-align: top;\n",
       "    }\n",
       "\n",
       "    .dataframe thead th {\n",
       "        text-align: right;\n",
       "    }\n",
       "</style>\n",
       "<table border=\"1\" class=\"dataframe\">\n",
       "  <thead>\n",
       "    <tr style=\"text-align: right;\">\n",
       "      <th></th>\n",
       "      <th>employee_number</th>\n",
       "      <th>company</th>\n",
       "      <th>country</th>\n",
       "      <th>dob</th>\n",
       "      <th>age</th>\n",
       "      <th>department</th>\n",
       "      <th>salary</th>\n",
       "      <th>has_parking_space</th>\n",
       "    </tr>\n",
       "    <tr>\n",
       "      <th>name</th>\n",
       "      <th></th>\n",
       "      <th></th>\n",
       "      <th></th>\n",
       "      <th></th>\n",
       "      <th></th>\n",
       "      <th></th>\n",
       "      <th></th>\n",
       "      <th></th>\n",
       "    </tr>\n",
       "  </thead>\n",
       "  <tbody>\n",
       "    <tr>\n",
       "      <th>Amber Sloan</th>\n",
       "      <td>414171</td>\n",
       "      <td>Hernandez, Cunningham and Clark</td>\n",
       "      <td>Germany</td>\n",
       "      <td>1982-11-08</td>\n",
       "      <td>39</td>\n",
       "      <td>Consulting</td>\n",
       "      <td>100644</td>\n",
       "      <td>False</td>\n",
       "    </tr>\n",
       "    <tr>\n",
       "      <th>Amy Mitchell</th>\n",
       "      <td>425959</td>\n",
       "      <td>Hernandez, Cunningham and Clark</td>\n",
       "      <td>Suriname</td>\n",
       "      <td>1975-09-30</td>\n",
       "      <td>46</td>\n",
       "      <td>System Architect</td>\n",
       "      <td>99776</td>\n",
       "      <td>False</td>\n",
       "    </tr>\n",
       "    <tr>\n",
       "      <th>Andrew Hodge</th>\n",
       "      <td>379723</td>\n",
       "      <td>Hernandez, Cunningham and Clark</td>\n",
       "      <td>India</td>\n",
       "      <td>1983-10-09</td>\n",
       "      <td>38</td>\n",
       "      <td>Consulting</td>\n",
       "      <td>124667</td>\n",
       "      <td>True</td>\n",
       "    </tr>\n",
       "  </tbody>\n",
       "</table>\n",
       "</div>"
      ],
      "text/plain": [
       "              employee_number                          company   country  \\\n",
       "name                                                                       \n",
       "Amber Sloan            414171  Hernandez, Cunningham and Clark   Germany   \n",
       "Amy Mitchell           425959  Hernandez, Cunningham and Clark  Suriname   \n",
       "Andrew Hodge           379723  Hernandez, Cunningham and Clark     India   \n",
       "\n",
       "                    dob  age        department  salary  has_parking_space  \n",
       "name                                                                       \n",
       "Amber Sloan  1982-11-08   39        Consulting  100644              False  \n",
       "Amy Mitchell 1975-09-30   46  System Architect   99776              False  \n",
       "Andrew Hodge 1983-10-09   38        Consulting  124667               True  "
      ]
     },
     "execution_count": 34,
     "metadata": {},
     "output_type": "execute_result"
    }
   ],
   "source": [
    "# slite notation with .loc\n",
    "start = 'Amber Sloan'\n",
    "stop = 'Andrew Hodge'\n",
    "df.loc[start:stop]"
   ]
  },
  {
   "cell_type": "markdown",
   "metadata": {},
   "source": [
    "### Select DataFrame rows and columns simultaneously\n",
    "One of the keys to selecting rows and columns at the same time is to understand the use of the comma in the brackets. The selection to the left of the comma always selects rows based on the row index. The selection to the right of the comma always selects columns based on the column index."
   ]
  },
  {
   "cell_type": "code",
   "execution_count": 35,
   "metadata": {},
   "outputs": [
    {
     "data": {
      "text/html": [
       "<div>\n",
       "<style scoped>\n",
       "    .dataframe tbody tr th:only-of-type {\n",
       "        vertical-align: middle;\n",
       "    }\n",
       "\n",
       "    .dataframe tbody tr th {\n",
       "        vertical-align: top;\n",
       "    }\n",
       "\n",
       "    .dataframe thead th {\n",
       "        text-align: right;\n",
       "    }\n",
       "</style>\n",
       "<table border=\"1\" class=\"dataframe\">\n",
       "  <thead>\n",
       "    <tr style=\"text-align: right;\">\n",
       "      <th></th>\n",
       "      <th>employee_number</th>\n",
       "      <th>company</th>\n",
       "      <th>country</th>\n",
       "      <th>dob</th>\n",
       "    </tr>\n",
       "    <tr>\n",
       "      <th>name</th>\n",
       "      <th></th>\n",
       "      <th></th>\n",
       "      <th></th>\n",
       "      <th></th>\n",
       "    </tr>\n",
       "  </thead>\n",
       "  <tbody>\n",
       "    <tr>\n",
       "      <th>Alex Rodriguez</th>\n",
       "      <td>901656</td>\n",
       "      <td>Hernandez, Cunningham and Clark</td>\n",
       "      <td>Israel</td>\n",
       "      <td>1975-11-08</td>\n",
       "    </tr>\n",
       "    <tr>\n",
       "      <th>Allison Hall</th>\n",
       "      <td>120088</td>\n",
       "      <td>Wilson and Sons</td>\n",
       "      <td>Israel</td>\n",
       "      <td>1987-02-04</td>\n",
       "    </tr>\n",
       "    <tr>\n",
       "      <th>Amber Sloan</th>\n",
       "      <td>414171</td>\n",
       "      <td>Hernandez, Cunningham and Clark</td>\n",
       "      <td>Germany</td>\n",
       "      <td>1982-11-08</td>\n",
       "    </tr>\n",
       "  </tbody>\n",
       "</table>\n",
       "</div>"
      ],
      "text/plain": [
       "                employee_number                          company  country  \\\n",
       "name                                                                        \n",
       "Alex Rodriguez           901656  Hernandez, Cunningham and Clark   Israel   \n",
       "Allison Hall             120088                  Wilson and Sons   Israel   \n",
       "Amber Sloan              414171  Hernandez, Cunningham and Clark  Germany   \n",
       "\n",
       "                      dob  \n",
       "name                       \n",
       "Alex Rodriguez 1975-11-08  \n",
       "Allison Hall   1987-02-04  \n",
       "Amber Sloan    1982-11-08  "
      ]
     },
     "execution_count": 35,
     "metadata": {},
     "output_type": "execute_result"
    }
   ],
   "source": [
    "# use .iloc to select the first 3 rows and the first 4 columns\n",
    "df.iloc[:3, :4]"
   ]
  },
  {
   "cell_type": "code",
   "execution_count": 36,
   "metadata": {
    "scrolled": true
   },
   "outputs": [
    {
     "data": {
      "text/html": [
       "<div>\n",
       "<style scoped>\n",
       "    .dataframe tbody tr th:only-of-type {\n",
       "        vertical-align: middle;\n",
       "    }\n",
       "\n",
       "    .dataframe tbody tr th {\n",
       "        vertical-align: top;\n",
       "    }\n",
       "\n",
       "    .dataframe thead th {\n",
       "        text-align: right;\n",
       "    }\n",
       "</style>\n",
       "<table border=\"1\" class=\"dataframe\">\n",
       "  <thead>\n",
       "    <tr style=\"text-align: right;\">\n",
       "      <th></th>\n",
       "      <th>age</th>\n",
       "      <th>salary</th>\n",
       "    </tr>\n",
       "    <tr>\n",
       "      <th>name</th>\n",
       "      <th></th>\n",
       "      <th></th>\n",
       "    </tr>\n",
       "  </thead>\n",
       "  <tbody>\n",
       "    <tr>\n",
       "      <th>Alex Rodriguez</th>\n",
       "      <td>46</td>\n",
       "      <td>132988</td>\n",
       "    </tr>\n",
       "    <tr>\n",
       "      <th>Allison Hall</th>\n",
       "      <td>34</td>\n",
       "      <td>113536</td>\n",
       "    </tr>\n",
       "    <tr>\n",
       "      <th>Amber Sloan</th>\n",
       "      <td>39</td>\n",
       "      <td>100644</td>\n",
       "    </tr>\n",
       "    <tr>\n",
       "      <th>Amy Mitchell</th>\n",
       "      <td>46</td>\n",
       "      <td>99776</td>\n",
       "    </tr>\n",
       "    <tr>\n",
       "      <th>Andrew Hodge</th>\n",
       "      <td>38</td>\n",
       "      <td>124667</td>\n",
       "    </tr>\n",
       "  </tbody>\n",
       "</table>\n",
       "</div>"
      ],
      "text/plain": [
       "                age  salary\n",
       "name                       \n",
       "Alex Rodriguez   46  132988\n",
       "Allison Hall     34  113536\n",
       "Amber Sloan      39  100644\n",
       "Amy Mitchell     46   99776\n",
       "Andrew Hodge     38  124667"
      ]
     },
     "execution_count": 36,
     "metadata": {},
     "output_type": "execute_result"
    }
   ],
   "source": [
    "# use .iloc to select all rows and two different columns\n",
    "df.iloc[:, [4, 6]].head()"
   ]
  },
  {
   "cell_type": "code",
   "execution_count": 39,
   "metadata": {},
   "outputs": [
    {
     "data": {
      "text/html": [
       "<div>\n",
       "<style scoped>\n",
       "    .dataframe tbody tr th:only-of-type {\n",
       "        vertical-align: middle;\n",
       "    }\n",
       "\n",
       "    .dataframe tbody tr th {\n",
       "        vertical-align: top;\n",
       "    }\n",
       "\n",
       "    .dataframe thead th {\n",
       "        text-align: right;\n",
       "    }\n",
       "</style>\n",
       "<table border=\"1\" class=\"dataframe\">\n",
       "  <thead>\n",
       "    <tr style=\"text-align: right;\">\n",
       "      <th></th>\n",
       "      <th>age</th>\n",
       "      <th>salary</th>\n",
       "    </tr>\n",
       "    <tr>\n",
       "      <th>name</th>\n",
       "      <th></th>\n",
       "      <th></th>\n",
       "    </tr>\n",
       "  </thead>\n",
       "  <tbody>\n",
       "    <tr>\n",
       "      <th>Amber Sloan</th>\n",
       "      <td>39</td>\n",
       "      <td>100644</td>\n",
       "    </tr>\n",
       "    <tr>\n",
       "      <th>Andrew Hodge</th>\n",
       "      <td>38</td>\n",
       "      <td>124667</td>\n",
       "    </tr>\n",
       "  </tbody>\n",
       "</table>\n",
       "</div>"
      ],
      "text/plain": [
       "              age  salary\n",
       "name                     \n",
       "Amber Sloan    39  100644\n",
       "Andrew Hodge   38  124667"
      ]
     },
     "execution_count": 39,
     "metadata": {},
     "output_type": "execute_result"
    }
   ],
   "source": [
    "# use .iloc to select disjointed rows and columns\n",
    "df.iloc[[2, 4], [4, 6]]"
   ]
  },
  {
   "cell_type": "code",
   "execution_count": 40,
   "metadata": {},
   "outputs": [
    {
     "data": {
      "text/plain": [
       "100644"
      ]
     },
     "execution_count": 40,
     "metadata": {},
     "output_type": "execute_result"
    }
   ],
   "source": [
    "# use .iloc to select a single scalar value\n",
    "df.iloc[2, 6]"
   ]
  },
  {
   "cell_type": "code",
   "execution_count": 41,
   "metadata": {},
   "outputs": [
    {
     "data": {
      "text/plain": [
       "name\n",
       "Amber Sloan     100644\n",
       "Amy Mitchell     99776\n",
       "Andrew Hodge    124667\n",
       "Name: salary, dtype: int64"
      ]
     },
     "execution_count": 41,
     "metadata": {},
     "output_type": "execute_result"
    }
   ],
   "source": [
    "# use .loc to select a slice of rows and a single column\n",
    "start = 'Amber Sloan'\n",
    "stop = 'Andrew Hodge'\n",
    "df.loc[start:stop, 'salary']"
   ]
  },
  {
   "cell_type": "markdown",
   "metadata": {},
   "source": [
    "### Selecting data with both integers and labels\n",
    "Sometimes, you want the functionality of both .iloc and .loc, to select data by both position and label. In earlier versions of pandas, .ix was available to select data by both position and label. While this conveniently worked for those specific situations, it was ambiguous by nature and was a source of confusion for many pandas users. The .ix indexer has subsequently been deprecated and thus should be avoided.\n",
    "\n",
    "Before the .ix deprecation, it was possible to select the first five rows and the columns of the college dataset from UGDS_WHITE through UGDS_UNKN using college.ix[:5, 'UGDS_WHITE':'UGDS_UNKN']. This is now impossible to do directly using .loc or .iloc. The following recipe shows how to find the integer location of the columns and then use .iloc to complete the selection."
   ]
  },
  {
   "cell_type": "code",
   "execution_count": 44,
   "metadata": {},
   "outputs": [
    {
     "data": {
      "text/html": [
       "<div>\n",
       "<style scoped>\n",
       "    .dataframe tbody tr th:only-of-type {\n",
       "        vertical-align: middle;\n",
       "    }\n",
       "\n",
       "    .dataframe tbody tr th {\n",
       "        vertical-align: top;\n",
       "    }\n",
       "\n",
       "    .dataframe thead th {\n",
       "        text-align: right;\n",
       "    }\n",
       "</style>\n",
       "<table border=\"1\" class=\"dataframe\">\n",
       "  <thead>\n",
       "    <tr style=\"text-align: right;\">\n",
       "      <th></th>\n",
       "      <th>age</th>\n",
       "      <th>department</th>\n",
       "      <th>salary</th>\n",
       "    </tr>\n",
       "    <tr>\n",
       "      <th>name</th>\n",
       "      <th></th>\n",
       "      <th></th>\n",
       "      <th></th>\n",
       "    </tr>\n",
       "  </thead>\n",
       "  <tbody>\n",
       "    <tr>\n",
       "      <th>Alex Rodriguez</th>\n",
       "      <td>46</td>\n",
       "      <td>System Architect</td>\n",
       "      <td>132988</td>\n",
       "    </tr>\n",
       "    <tr>\n",
       "      <th>Allison Hall</th>\n",
       "      <td>34</td>\n",
       "      <td>Consulting</td>\n",
       "      <td>113536</td>\n",
       "    </tr>\n",
       "    <tr>\n",
       "      <th>Amber Sloan</th>\n",
       "      <td>39</td>\n",
       "      <td>Consulting</td>\n",
       "      <td>100644</td>\n",
       "    </tr>\n",
       "    <tr>\n",
       "      <th>Amy Mitchell</th>\n",
       "      <td>46</td>\n",
       "      <td>System Architect</td>\n",
       "      <td>99776</td>\n",
       "    </tr>\n",
       "    <tr>\n",
       "      <th>Andrew Hodge</th>\n",
       "      <td>38</td>\n",
       "      <td>Consulting</td>\n",
       "      <td>124667</td>\n",
       "    </tr>\n",
       "  </tbody>\n",
       "</table>\n",
       "</div>"
      ],
      "text/plain": [
       "                age        department  salary\n",
       "name                                         \n",
       "Alex Rodriguez   46  System Architect  132988\n",
       "Allison Hall     34        Consulting  113536\n",
       "Amber Sloan      39        Consulting  100644\n",
       "Amy Mitchell     46  System Architect   99776\n",
       "Andrew Hodge     38        Consulting  124667"
      ]
     },
     "execution_count": 44,
     "metadata": {},
     "output_type": "execute_result"
    }
   ],
   "source": [
    "col_start = df.columns.get_loc('age')\n",
    "col_end = df.columns.get_loc('salary') + 1\n",
    "df.iloc[:5, col_start: col_end]"
   ]
  },
  {
   "cell_type": "code",
   "execution_count": 45,
   "metadata": {},
   "outputs": [
    {
     "data": {
      "text/html": [
       "<div>\n",
       "<style scoped>\n",
       "    .dataframe tbody tr th:only-of-type {\n",
       "        vertical-align: middle;\n",
       "    }\n",
       "\n",
       "    .dataframe tbody tr th {\n",
       "        vertical-align: top;\n",
       "    }\n",
       "\n",
       "    .dataframe thead th {\n",
       "        text-align: right;\n",
       "    }\n",
       "</style>\n",
       "<table border=\"1\" class=\"dataframe\">\n",
       "  <thead>\n",
       "    <tr style=\"text-align: right;\">\n",
       "      <th></th>\n",
       "      <th>age</th>\n",
       "      <th>department</th>\n",
       "      <th>salary</th>\n",
       "    </tr>\n",
       "    <tr>\n",
       "      <th>name</th>\n",
       "      <th></th>\n",
       "      <th></th>\n",
       "      <th></th>\n",
       "    </tr>\n",
       "  </thead>\n",
       "  <tbody>\n",
       "    <tr>\n",
       "      <th>Amber Sloan</th>\n",
       "      <td>39</td>\n",
       "      <td>Consulting</td>\n",
       "      <td>100644</td>\n",
       "    </tr>\n",
       "    <tr>\n",
       "      <th>Amy Mitchell</th>\n",
       "      <td>46</td>\n",
       "      <td>System Architect</td>\n",
       "      <td>99776</td>\n",
       "    </tr>\n",
       "    <tr>\n",
       "      <th>Andrew Hodge</th>\n",
       "      <td>38</td>\n",
       "      <td>Consulting</td>\n",
       "      <td>124667</td>\n",
       "    </tr>\n",
       "    <tr>\n",
       "      <th>Andrew Johnson</th>\n",
       "      <td>46</td>\n",
       "      <td>System Architect</td>\n",
       "      <td>128330</td>\n",
       "    </tr>\n",
       "  </tbody>\n",
       "</table>\n",
       "</div>"
      ],
      "text/plain": [
       "                age        department  salary\n",
       "name                                         \n",
       "Amber Sloan      39        Consulting  100644\n",
       "Amy Mitchell     46  System Architect   99776\n",
       "Andrew Hodge     38        Consulting  124667\n",
       "Andrew Johnson   46  System Architect  128330"
      ]
     },
     "execution_count": 45,
     "metadata": {},
     "output_type": "execute_result"
    }
   ],
   "source": [
    "row_start = df.index[2]\n",
    "row_end = df.index[5]\n",
    "df.loc[row_start:row_end, 'age':'salary']"
   ]
  },
  {
   "cell_type": "markdown",
   "metadata": {},
   "source": [
    "### Slicing lexicongraphically"
   ]
  },
  {
   "cell_type": "code",
   "execution_count": 51,
   "metadata": {},
   "outputs": [
    {
     "name": "stdout",
     "output_type": "stream",
     "text": [
      "True\n"
     ]
    },
    {
     "data": {
      "text/html": [
       "<div>\n",
       "<style scoped>\n",
       "    .dataframe tbody tr th:only-of-type {\n",
       "        vertical-align: middle;\n",
       "    }\n",
       "\n",
       "    .dataframe tbody tr th {\n",
       "        vertical-align: top;\n",
       "    }\n",
       "\n",
       "    .dataframe thead th {\n",
       "        text-align: right;\n",
       "    }\n",
       "</style>\n",
       "<table border=\"1\" class=\"dataframe\">\n",
       "  <thead>\n",
       "    <tr style=\"text-align: right;\">\n",
       "      <th></th>\n",
       "      <th>employee_number</th>\n",
       "      <th>company</th>\n",
       "      <th>country</th>\n",
       "      <th>dob</th>\n",
       "      <th>age</th>\n",
       "      <th>department</th>\n",
       "      <th>salary</th>\n",
       "      <th>has_parking_space</th>\n",
       "    </tr>\n",
       "    <tr>\n",
       "      <th>name</th>\n",
       "      <th></th>\n",
       "      <th></th>\n",
       "      <th></th>\n",
       "      <th></th>\n",
       "      <th></th>\n",
       "      <th></th>\n",
       "      <th></th>\n",
       "      <th></th>\n",
       "    </tr>\n",
       "  </thead>\n",
       "  <tbody>\n",
       "    <tr>\n",
       "      <th>Amber Sloan</th>\n",
       "      <td>414171</td>\n",
       "      <td>Hernandez, Cunningham and Clark</td>\n",
       "      <td>Germany</td>\n",
       "      <td>1982-11-08</td>\n",
       "      <td>39</td>\n",
       "      <td>Consulting</td>\n",
       "      <td>100644</td>\n",
       "      <td>False</td>\n",
       "    </tr>\n",
       "    <tr>\n",
       "      <th>Amy Mitchell</th>\n",
       "      <td>425959</td>\n",
       "      <td>Hernandez, Cunningham and Clark</td>\n",
       "      <td>Suriname</td>\n",
       "      <td>1975-09-30</td>\n",
       "      <td>46</td>\n",
       "      <td>System Architect</td>\n",
       "      <td>99776</td>\n",
       "      <td>False</td>\n",
       "    </tr>\n",
       "    <tr>\n",
       "      <th>Andrew Hodge</th>\n",
       "      <td>379723</td>\n",
       "      <td>Hernandez, Cunningham and Clark</td>\n",
       "      <td>India</td>\n",
       "      <td>1983-10-09</td>\n",
       "      <td>38</td>\n",
       "      <td>Consulting</td>\n",
       "      <td>124667</td>\n",
       "      <td>True</td>\n",
       "    </tr>\n",
       "    <tr>\n",
       "      <th>Andrew Johnson</th>\n",
       "      <td>133141</td>\n",
       "      <td>Wilson and Sons</td>\n",
       "      <td>Japan</td>\n",
       "      <td>1975-05-29</td>\n",
       "      <td>46</td>\n",
       "      <td>System Architect</td>\n",
       "      <td>128330</td>\n",
       "      <td>False</td>\n",
       "    </tr>\n",
       "    <tr>\n",
       "      <th>Andrew Rivera</th>\n",
       "      <td>791480</td>\n",
       "      <td>Hernandez, Cunningham and Clark</td>\n",
       "      <td>Israel</td>\n",
       "      <td>1969-01-22</td>\n",
       "      <td>53</td>\n",
       "      <td>Finance</td>\n",
       "      <td>86820</td>\n",
       "      <td>True</td>\n",
       "    </tr>\n",
       "  </tbody>\n",
       "</table>\n",
       "</div>"
      ],
      "text/plain": [
       "                employee_number                          company   country  \\\n",
       "name                                                                         \n",
       "Amber Sloan              414171  Hernandez, Cunningham and Clark   Germany   \n",
       "Amy Mitchell             425959  Hernandez, Cunningham and Clark  Suriname   \n",
       "Andrew Hodge             379723  Hernandez, Cunningham and Clark     India   \n",
       "Andrew Johnson           133141                  Wilson and Sons     Japan   \n",
       "Andrew Rivera            791480  Hernandez, Cunningham and Clark    Israel   \n",
       "\n",
       "                      dob  age        department  salary  has_parking_space  \n",
       "name                                                                         \n",
       "Amber Sloan    1982-11-08   39        Consulting  100644              False  \n",
       "Amy Mitchell   1975-09-30   46  System Architect   99776              False  \n",
       "Andrew Hodge   1983-10-09   38        Consulting  124667               True  \n",
       "Andrew Johnson 1975-05-29   46  System Architect  128330              False  \n",
       "Andrew Rivera  1969-01-22   53           Finance   86820               True  "
      ]
     },
     "execution_count": 51,
     "metadata": {},
     "output_type": "execute_result"
    }
   ],
   "source": [
    "print(df.index.is_monotonic_increasing)\n",
    "df.loc['Am':'Ao'].head()"
   ]
  }
 ],
 "metadata": {
  "interpreter": {
   "hash": "ecf5722fdaf1897a315d257d89d94520bfcaa453217d5becf09b39e73618b0de"
  },
  "kernelspec": {
   "display_name": "Python (data-analysis)",
   "language": "python",
   "name": "python3"
  },
  "language_info": {
   "codemirror_mode": {
    "name": "ipython",
    "version": 3
   },
   "file_extension": ".py",
   "mimetype": "text/x-python",
   "name": "python",
   "nbconvert_exporter": "python",
   "pygments_lexer": "ipython3",
   "version": "3.9.7"
  }
 },
 "nbformat": 4,
 "nbformat_minor": 4
}
