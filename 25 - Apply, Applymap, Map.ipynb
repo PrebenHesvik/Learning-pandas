{
 "cells": [
  {
   "cell_type": "code",
   "execution_count": 16,
   "metadata": {},
   "outputs": [],
   "source": [
    "import pandas as pd\n",
    "import numpy as np\n",
    "import datetime as dt"
   ]
  },
  {
   "cell_type": "code",
   "execution_count": 21,
   "metadata": {},
   "outputs": [],
   "source": [
    "df = pd.read_parquet('datasets/employee_list.parquet')"
   ]
  },
  {
   "cell_type": "code",
   "execution_count": 22,
   "metadata": {},
   "outputs": [
    {
     "data": {
      "text/html": [
       "<div>\n",
       "<style scoped>\n",
       "    .dataframe tbody tr th:only-of-type {\n",
       "        vertical-align: middle;\n",
       "    }\n",
       "\n",
       "    .dataframe tbody tr th {\n",
       "        vertical-align: top;\n",
       "    }\n",
       "\n",
       "    .dataframe thead th {\n",
       "        text-align: right;\n",
       "    }\n",
       "</style>\n",
       "<table border=\"1\" class=\"dataframe\">\n",
       "  <thead>\n",
       "    <tr style=\"text-align: right;\">\n",
       "      <th></th>\n",
       "      <th>employee_number</th>\n",
       "      <th>name</th>\n",
       "      <th>company</th>\n",
       "      <th>country</th>\n",
       "      <th>dob</th>\n",
       "      <th>age</th>\n",
       "      <th>department</th>\n",
       "      <th>salary</th>\n",
       "      <th>has_parking_space</th>\n",
       "    </tr>\n",
       "  </thead>\n",
       "  <tbody>\n",
       "    <tr>\n",
       "      <th>0</th>\n",
       "      <td>897028</td>\n",
       "      <td>Kenneth Jensen</td>\n",
       "      <td>Wilson and Sons</td>\n",
       "      <td>India</td>\n",
       "      <td>1983-07-03</td>\n",
       "      <td>38</td>\n",
       "      <td>Management</td>\n",
       "      <td>124790</td>\n",
       "      <td>False</td>\n",
       "    </tr>\n",
       "    <tr>\n",
       "      <th>1</th>\n",
       "      <td>463979</td>\n",
       "      <td>Sarah Anderson</td>\n",
       "      <td>Hernandez, Cunningham and Clark</td>\n",
       "      <td>India</td>\n",
       "      <td>1980-08-09</td>\n",
       "      <td>41</td>\n",
       "      <td>Consulting</td>\n",
       "      <td>103122</td>\n",
       "      <td>True</td>\n",
       "    </tr>\n",
       "    <tr>\n",
       "      <th>2</th>\n",
       "      <td>388446</td>\n",
       "      <td>Tracie Rollins</td>\n",
       "      <td>Hernandez, Cunningham and Clark</td>\n",
       "      <td>Cayman Islands</td>\n",
       "      <td>1987-07-29</td>\n",
       "      <td>34</td>\n",
       "      <td>Consulting</td>\n",
       "      <td>119072</td>\n",
       "      <td>False</td>\n",
       "    </tr>\n",
       "    <tr>\n",
       "      <th>3</th>\n",
       "      <td>267447</td>\n",
       "      <td>Seth Smith</td>\n",
       "      <td>Spears-Brown</td>\n",
       "      <td>Germany</td>\n",
       "      <td>1969-03-04</td>\n",
       "      <td>52</td>\n",
       "      <td>System Architect</td>\n",
       "      <td>115653</td>\n",
       "      <td>False</td>\n",
       "    </tr>\n",
       "    <tr>\n",
       "      <th>4</th>\n",
       "      <td>401300</td>\n",
       "      <td>Katherine Fields</td>\n",
       "      <td>Hernandez, Cunningham and Clark</td>\n",
       "      <td>Venezuela</td>\n",
       "      <td>1980-01-26</td>\n",
       "      <td>42</td>\n",
       "      <td>Finance</td>\n",
       "      <td>119412</td>\n",
       "      <td>False</td>\n",
       "    </tr>\n",
       "  </tbody>\n",
       "</table>\n",
       "</div>"
      ],
      "text/plain": [
       "   employee_number              name                          company  \\\n",
       "0           897028    Kenneth Jensen                  Wilson and Sons   \n",
       "1           463979    Sarah Anderson  Hernandez, Cunningham and Clark   \n",
       "2           388446    Tracie Rollins  Hernandez, Cunningham and Clark   \n",
       "3           267447        Seth Smith                     Spears-Brown   \n",
       "4           401300  Katherine Fields  Hernandez, Cunningham and Clark   \n",
       "\n",
       "          country        dob  age        department  salary  has_parking_space  \n",
       "0           India 1983-07-03   38        Management  124790              False  \n",
       "1           India 1980-08-09   41        Consulting  103122               True  \n",
       "2  Cayman Islands 1987-07-29   34        Consulting  119072              False  \n",
       "3         Germany 1969-03-04   52  System Architect  115653              False  \n",
       "4       Venezuela 1980-01-26   42           Finance  119412              False  "
      ]
     },
     "execution_count": 22,
     "metadata": {},
     "output_type": "execute_result"
    }
   ],
   "source": [
    "df.head()"
   ]
  },
  {
   "cell_type": "markdown",
   "metadata": {},
   "source": [
    "### Map\n",
    "- A Series method\n",
    "- pandas map() function from Series is used to substitute each value in a Series with another value, that may be derived from a function, a dict or a Series. Since DataFrame columns are series, you can use map() to update the column and assign it back to the DataFrame.\n",
    "- https://sparkbyexamples.com/pandas/pandas-map-function-explained/"
   ]
  },
  {
   "cell_type": "markdown",
   "metadata": {},
   "source": [
    "##### Map with a dict\n",
    "Return the boolean values in column has_parking_space with 0 for False or 1 for True."
   ]
  },
  {
   "cell_type": "code",
   "execution_count": 23,
   "metadata": {},
   "outputs": [
    {
     "data": {
      "text/plain": [
       "0    0\n",
       "1    1\n",
       "2    0\n",
       "3    0\n",
       "4    0\n",
       "Name: has_parking_space, dtype: int64"
      ]
     },
     "execution_count": 23,
     "metadata": {},
     "output_type": "execute_result"
    }
   ],
   "source": [
    "bool_mapper = {False: 0, True: 1}\n",
    "df.has_parking_space.map(bool_mapper).head()"
   ]
  },
  {
   "cell_type": "markdown",
   "metadata": {},
   "source": [
    "Another example:\n",
    "- To import the salary data into the df_without_salary we can merge the dataframes but it is also possible to use the map function"
   ]
  },
  {
   "cell_type": "code",
   "execution_count": 24,
   "metadata": {},
   "outputs": [
    {
     "data": {
      "text/html": [
       "<div>\n",
       "<style scoped>\n",
       "    .dataframe tbody tr th:only-of-type {\n",
       "        vertical-align: middle;\n",
       "    }\n",
       "\n",
       "    .dataframe tbody tr th {\n",
       "        vertical-align: top;\n",
       "    }\n",
       "\n",
       "    .dataframe thead th {\n",
       "        text-align: right;\n",
       "    }\n",
       "</style>\n",
       "<table border=\"1\" class=\"dataframe\">\n",
       "  <thead>\n",
       "    <tr style=\"text-align: right;\">\n",
       "      <th></th>\n",
       "      <th>employee_number</th>\n",
       "      <th>name</th>\n",
       "      <th>company</th>\n",
       "      <th>country</th>\n",
       "      <th>dob</th>\n",
       "      <th>age</th>\n",
       "      <th>department</th>\n",
       "      <th>has_parking_space</th>\n",
       "      <th>salary</th>\n",
       "    </tr>\n",
       "  </thead>\n",
       "  <tbody>\n",
       "    <tr>\n",
       "      <th>0</th>\n",
       "      <td>897028</td>\n",
       "      <td>Kenneth Jensen</td>\n",
       "      <td>Wilson and Sons</td>\n",
       "      <td>India</td>\n",
       "      <td>1983-07-03</td>\n",
       "      <td>38</td>\n",
       "      <td>Management</td>\n",
       "      <td>False</td>\n",
       "      <td>124790</td>\n",
       "    </tr>\n",
       "    <tr>\n",
       "      <th>1</th>\n",
       "      <td>463979</td>\n",
       "      <td>Sarah Anderson</td>\n",
       "      <td>Hernandez, Cunningham and Clark</td>\n",
       "      <td>India</td>\n",
       "      <td>1980-08-09</td>\n",
       "      <td>41</td>\n",
       "      <td>Consulting</td>\n",
       "      <td>True</td>\n",
       "      <td>103122</td>\n",
       "    </tr>\n",
       "  </tbody>\n",
       "</table>\n",
       "</div>"
      ],
      "text/plain": [
       "   employee_number            name                          company country  \\\n",
       "0           897028  Kenneth Jensen                  Wilson and Sons   India   \n",
       "1           463979  Sarah Anderson  Hernandez, Cunningham and Clark   India   \n",
       "\n",
       "         dob  age  department  has_parking_space  salary  \n",
       "0 1983-07-03   38  Management              False  124790  \n",
       "1 1980-08-09   41  Consulting               True  103122  "
      ]
     },
     "execution_count": 24,
     "metadata": {},
     "output_type": "execute_result"
    }
   ],
   "source": [
    "salary_data_df = df[['employee_number', 'salary']]\n",
    "df_without_salary = df.drop(columns=['salary'])\n",
    "\n",
    "salary_mapper = dict(zip(salary_data_df.employee_number, salary_data_df.salary))\n",
    "df_without_salary['salary'] = df_without_salary.employee_number.map(salary_mapper)\n",
    "df_without_salary.head(2)"
   ]
  },
  {
   "cell_type": "markdown",
   "metadata": {},
   "source": [
    "##### Map with lambda\n",
    "Return age in number of days for each employee."
   ]
  },
  {
   "cell_type": "code",
   "execution_count": 13,
   "metadata": {},
   "outputs": [
    {
     "data": {
      "text/plain": [
       "0    14093\n",
       "1    15151\n",
       "2    12606\n",
       "3    19327\n",
       "4    15347\n",
       "Name: dob, dtype: int64"
      ]
     },
     "execution_count": 13,
     "metadata": {},
     "output_type": "execute_result"
    }
   ],
   "source": [
    "df.dob.map(lambda x: (dt.datetime.today() - x).days).head()"
   ]
  },
  {
   "cell_type": "markdown",
   "metadata": {},
   "source": [
    "##### Map with lambda and a function\n",
    "Return age in number of days for each employee."
   ]
  },
  {
   "cell_type": "code",
   "execution_count": 14,
   "metadata": {},
   "outputs": [
    {
     "data": {
      "text/plain": [
       "0    14093\n",
       "1    15151\n",
       "2    12606\n",
       "3    19327\n",
       "4    15347\n",
       "Name: dob, dtype: int64"
      ]
     },
     "execution_count": 14,
     "metadata": {},
     "output_type": "execute_result"
    }
   ],
   "source": [
    "def return_days(x):\n",
    "    return (dt.datetime.today() - x).days\n",
    "\n",
    "df.dob.map(lambda x: return_days(x)).head()"
   ]
  },
  {
   "cell_type": "markdown",
   "metadata": {},
   "source": [
    "Dealing with NaNs"
   ]
  },
  {
   "cell_type": "code",
   "execution_count": 19,
   "metadata": {},
   "outputs": [
    {
     "data": {
      "text/plain": [
       "0    14093\n",
       "1    15151\n",
       "2      NaT\n",
       "3    19327\n",
       "4    15347\n",
       "Name: dob, dtype: object"
      ]
     },
     "execution_count": 19,
     "metadata": {},
     "output_type": "execute_result"
    }
   ],
   "source": [
    "ser = df.dob.head()\n",
    "ser[2] = np.nan\n",
    "df.dob.map(lambda x: (dt.datetime.today() - x).days, na_action='ignore').head()"
   ]
  },
  {
   "cell_type": "markdown",
   "metadata": {},
   "source": [
    "### Apply\n",
    "- This method applies a method to each value in Series or DataFrame"
   ]
  },
  {
   "cell_type": "code",
   "execution_count": 29,
   "metadata": {},
   "outputs": [
    {
     "data": {
      "text/html": [
       "<div>\n",
       "<style scoped>\n",
       "    .dataframe tbody tr th:only-of-type {\n",
       "        vertical-align: middle;\n",
       "    }\n",
       "\n",
       "    .dataframe tbody tr th {\n",
       "        vertical-align: top;\n",
       "    }\n",
       "\n",
       "    .dataframe thead th {\n",
       "        text-align: right;\n",
       "    }\n",
       "</style>\n",
       "<table border=\"1\" class=\"dataframe\">\n",
       "  <thead>\n",
       "    <tr style=\"text-align: right;\">\n",
       "      <th></th>\n",
       "      <th>employee_number</th>\n",
       "      <th>name</th>\n",
       "      <th>company</th>\n",
       "      <th>country</th>\n",
       "      <th>dob</th>\n",
       "      <th>age</th>\n",
       "      <th>department</th>\n",
       "      <th>salary</th>\n",
       "      <th>has_parking_space</th>\n",
       "    </tr>\n",
       "  </thead>\n",
       "  <tbody>\n",
       "    <tr>\n",
       "      <th>0</th>\n",
       "      <td>897028</td>\n",
       "      <td>Kenneth Jensen</td>\n",
       "      <td>Wilson and Sons</td>\n",
       "      <td>India</td>\n",
       "      <td>1983-07-03</td>\n",
       "      <td>38</td>\n",
       "      <td>Management</td>\n",
       "      <td>124790</td>\n",
       "      <td>False</td>\n",
       "    </tr>\n",
       "    <tr>\n",
       "      <th>1</th>\n",
       "      <td>463979</td>\n",
       "      <td>Sarah Anderson</td>\n",
       "      <td>Hernandez, Cunningham and Clark</td>\n",
       "      <td>India</td>\n",
       "      <td>1980-08-09</td>\n",
       "      <td>41</td>\n",
       "      <td>Consulting</td>\n",
       "      <td>103122</td>\n",
       "      <td>True</td>\n",
       "    </tr>\n",
       "    <tr>\n",
       "      <th>2</th>\n",
       "      <td>388446</td>\n",
       "      <td>Tracie Rollins</td>\n",
       "      <td>Hernandez, Cunningham and Clark</td>\n",
       "      <td>Cayman Islands</td>\n",
       "      <td>1987-07-29</td>\n",
       "      <td>34</td>\n",
       "      <td>Consulting</td>\n",
       "      <td>119072</td>\n",
       "      <td>False</td>\n",
       "    </tr>\n",
       "    <tr>\n",
       "      <th>3</th>\n",
       "      <td>267447</td>\n",
       "      <td>Seth Smith</td>\n",
       "      <td>Spears-Brown</td>\n",
       "      <td>Germany</td>\n",
       "      <td>1969-03-04</td>\n",
       "      <td>52</td>\n",
       "      <td>System Architect</td>\n",
       "      <td>115653</td>\n",
       "      <td>False</td>\n",
       "    </tr>\n",
       "    <tr>\n",
       "      <th>4</th>\n",
       "      <td>401300</td>\n",
       "      <td>Katherine Fields</td>\n",
       "      <td>Hernandez, Cunningham and Clark</td>\n",
       "      <td>Venezuela</td>\n",
       "      <td>1980-01-26</td>\n",
       "      <td>42</td>\n",
       "      <td>Finance</td>\n",
       "      <td>119412</td>\n",
       "      <td>False</td>\n",
       "    </tr>\n",
       "  </tbody>\n",
       "</table>\n",
       "</div>"
      ],
      "text/plain": [
       "   employee_number              name                          company  \\\n",
       "0           897028    Kenneth Jensen                  Wilson and Sons   \n",
       "1           463979    Sarah Anderson  Hernandez, Cunningham and Clark   \n",
       "2           388446    Tracie Rollins  Hernandez, Cunningham and Clark   \n",
       "3           267447        Seth Smith                     Spears-Brown   \n",
       "4           401300  Katherine Fields  Hernandez, Cunningham and Clark   \n",
       "\n",
       "          country        dob  age        department  salary  has_parking_space  \n",
       "0           India 1983-07-03   38        Management  124790              False  \n",
       "1           India 1980-08-09   41        Consulting  103122               True  \n",
       "2  Cayman Islands 1987-07-29   34        Consulting  119072              False  \n",
       "3         Germany 1969-03-04   52  System Architect  115653              False  \n",
       "4       Venezuela 1980-01-26   42           Finance  119412              False  "
      ]
     },
     "execution_count": 29,
     "metadata": {},
     "output_type": "execute_result"
    }
   ],
   "source": [
    "df.head(5)"
   ]
  },
  {
   "cell_type": "markdown",
   "metadata": {},
   "source": [
    "##### Create a col consisting of the length of each employee name"
   ]
  },
  {
   "cell_type": "code",
   "execution_count": 31,
   "metadata": {},
   "outputs": [
    {
     "data": {
      "text/html": [
       "<div>\n",
       "<style scoped>\n",
       "    .dataframe tbody tr th:only-of-type {\n",
       "        vertical-align: middle;\n",
       "    }\n",
       "\n",
       "    .dataframe tbody tr th {\n",
       "        vertical-align: top;\n",
       "    }\n",
       "\n",
       "    .dataframe thead th {\n",
       "        text-align: right;\n",
       "    }\n",
       "</style>\n",
       "<table border=\"1\" class=\"dataframe\">\n",
       "  <thead>\n",
       "    <tr style=\"text-align: right;\">\n",
       "      <th></th>\n",
       "      <th>name</th>\n",
       "      <th>name_length</th>\n",
       "    </tr>\n",
       "  </thead>\n",
       "  <tbody>\n",
       "    <tr>\n",
       "      <th>0</th>\n",
       "      <td>Kenneth Jensen</td>\n",
       "      <td>14</td>\n",
       "    </tr>\n",
       "    <tr>\n",
       "      <th>1</th>\n",
       "      <td>Sarah Anderson</td>\n",
       "      <td>14</td>\n",
       "    </tr>\n",
       "    <tr>\n",
       "      <th>2</th>\n",
       "      <td>Tracie Rollins</td>\n",
       "      <td>14</td>\n",
       "    </tr>\n",
       "    <tr>\n",
       "      <th>3</th>\n",
       "      <td>Seth Smith</td>\n",
       "      <td>10</td>\n",
       "    </tr>\n",
       "    <tr>\n",
       "      <th>4</th>\n",
       "      <td>Katherine Fields</td>\n",
       "      <td>16</td>\n",
       "    </tr>\n",
       "  </tbody>\n",
       "</table>\n",
       "</div>"
      ],
      "text/plain": [
       "               name  name_length\n",
       "0    Kenneth Jensen           14\n",
       "1    Sarah Anderson           14\n",
       "2    Tracie Rollins           14\n",
       "3        Seth Smith           10\n",
       "4  Katherine Fields           16"
      ]
     },
     "execution_count": 31,
     "metadata": {},
     "output_type": "execute_result"
    }
   ],
   "source": [
    "# We can write it like this\n",
    "df['name_length'] = df.name.apply(lambda x: len(x))\n",
    "\n",
    "# But this is better\n",
    "df['name_length'] = df.name.apply(len)\n",
    "\n",
    "\n",
    "df[['name', 'name_length']].head()"
   ]
  },
  {
   "cell_type": "markdown",
   "metadata": {},
   "source": [
    "##### Extract the last name of each employee and store the values in new column"
   ]
  },
  {
   "cell_type": "code",
   "execution_count": 34,
   "metadata": {},
   "outputs": [
    {
     "data": {
      "text/html": [
       "<div>\n",
       "<style scoped>\n",
       "    .dataframe tbody tr th:only-of-type {\n",
       "        vertical-align: middle;\n",
       "    }\n",
       "\n",
       "    .dataframe tbody tr th {\n",
       "        vertical-align: top;\n",
       "    }\n",
       "\n",
       "    .dataframe thead th {\n",
       "        text-align: right;\n",
       "    }\n",
       "</style>\n",
       "<table border=\"1\" class=\"dataframe\">\n",
       "  <thead>\n",
       "    <tr style=\"text-align: right;\">\n",
       "      <th></th>\n",
       "      <th>employee_number</th>\n",
       "      <th>name</th>\n",
       "      <th>company</th>\n",
       "      <th>country</th>\n",
       "      <th>dob</th>\n",
       "      <th>age</th>\n",
       "      <th>department</th>\n",
       "      <th>salary</th>\n",
       "      <th>has_parking_space</th>\n",
       "      <th>name_length</th>\n",
       "      <th>last_name</th>\n",
       "    </tr>\n",
       "  </thead>\n",
       "  <tbody>\n",
       "    <tr>\n",
       "      <th>0</th>\n",
       "      <td>897028</td>\n",
       "      <td>Kenneth Jensen</td>\n",
       "      <td>Wilson and Sons</td>\n",
       "      <td>India</td>\n",
       "      <td>1983-07-03</td>\n",
       "      <td>38</td>\n",
       "      <td>Management</td>\n",
       "      <td>124790</td>\n",
       "      <td>False</td>\n",
       "      <td>14</td>\n",
       "      <td>Jensen</td>\n",
       "    </tr>\n",
       "    <tr>\n",
       "      <th>1</th>\n",
       "      <td>463979</td>\n",
       "      <td>Sarah Anderson</td>\n",
       "      <td>Hernandez, Cunningham and Clark</td>\n",
       "      <td>India</td>\n",
       "      <td>1980-08-09</td>\n",
       "      <td>41</td>\n",
       "      <td>Consulting</td>\n",
       "      <td>103122</td>\n",
       "      <td>True</td>\n",
       "      <td>14</td>\n",
       "      <td>Anderson</td>\n",
       "    </tr>\n",
       "    <tr>\n",
       "      <th>2</th>\n",
       "      <td>388446</td>\n",
       "      <td>Tracie Rollins</td>\n",
       "      <td>Hernandez, Cunningham and Clark</td>\n",
       "      <td>Cayman Islands</td>\n",
       "      <td>1987-07-29</td>\n",
       "      <td>34</td>\n",
       "      <td>Consulting</td>\n",
       "      <td>119072</td>\n",
       "      <td>False</td>\n",
       "      <td>14</td>\n",
       "      <td>Rollins</td>\n",
       "    </tr>\n",
       "    <tr>\n",
       "      <th>3</th>\n",
       "      <td>267447</td>\n",
       "      <td>Seth Smith</td>\n",
       "      <td>Spears-Brown</td>\n",
       "      <td>Germany</td>\n",
       "      <td>1969-03-04</td>\n",
       "      <td>52</td>\n",
       "      <td>System Architect</td>\n",
       "      <td>115653</td>\n",
       "      <td>False</td>\n",
       "      <td>10</td>\n",
       "      <td>Smith</td>\n",
       "    </tr>\n",
       "    <tr>\n",
       "      <th>4</th>\n",
       "      <td>401300</td>\n",
       "      <td>Katherine Fields</td>\n",
       "      <td>Hernandez, Cunningham and Clark</td>\n",
       "      <td>Venezuela</td>\n",
       "      <td>1980-01-26</td>\n",
       "      <td>42</td>\n",
       "      <td>Finance</td>\n",
       "      <td>119412</td>\n",
       "      <td>False</td>\n",
       "      <td>16</td>\n",
       "      <td>Fields</td>\n",
       "    </tr>\n",
       "  </tbody>\n",
       "</table>\n",
       "</div>"
      ],
      "text/plain": [
       "   employee_number              name                          company  \\\n",
       "0           897028    Kenneth Jensen                  Wilson and Sons   \n",
       "1           463979    Sarah Anderson  Hernandez, Cunningham and Clark   \n",
       "2           388446    Tracie Rollins  Hernandez, Cunningham and Clark   \n",
       "3           267447        Seth Smith                     Spears-Brown   \n",
       "4           401300  Katherine Fields  Hernandez, Cunningham and Clark   \n",
       "\n",
       "          country        dob  age        department  salary  \\\n",
       "0           India 1983-07-03   38        Management  124790   \n",
       "1           India 1980-08-09   41        Consulting  103122   \n",
       "2  Cayman Islands 1987-07-29   34        Consulting  119072   \n",
       "3         Germany 1969-03-04   52  System Architect  115653   \n",
       "4       Venezuela 1980-01-26   42           Finance  119412   \n",
       "\n",
       "   has_parking_space  name_length last_name  \n",
       "0              False           14    Jensen  \n",
       "1               True           14  Anderson  \n",
       "2              False           14   Rollins  \n",
       "3              False           10     Smith  \n",
       "4              False           16    Fields  "
      ]
     },
     "execution_count": 34,
     "metadata": {},
     "output_type": "execute_result"
    }
   ],
   "source": [
    "def get_element(lst, position):\n",
    "    return lst[position]\n",
    "\n",
    "df['last_name'] = df.name.str.split(' ').apply(get_element, position=1)\n",
    "df.head()\n",
    "    "
   ]
  },
  {
   "cell_type": "markdown",
   "metadata": {},
   "source": [
    "Doing the same thing with a lambda function"
   ]
  },
  {
   "cell_type": "code",
   "execution_count": 35,
   "metadata": {},
   "outputs": [
    {
     "data": {
      "text/plain": [
       "0      Jensen\n",
       "1    Anderson\n",
       "2     Rollins\n",
       "3       Smith\n",
       "4      Fields\n",
       "Name: name, dtype: object"
      ]
     },
     "execution_count": 35,
     "metadata": {},
     "output_type": "execute_result"
    }
   ],
   "source": [
    "df.name.str.split(' ').apply(lambda x: x[1]).head()"
   ]
  },
  {
   "cell_type": "markdown",
   "metadata": {},
   "source": [
    "### Apply as a dataframe method"
   ]
  },
  {
   "cell_type": "code",
   "execution_count": 89,
   "metadata": {},
   "outputs": [
    {
     "data": {
      "text/html": [
       "<div>\n",
       "<style scoped>\n",
       "    .dataframe tbody tr th:only-of-type {\n",
       "        vertical-align: middle;\n",
       "    }\n",
       "\n",
       "    .dataframe tbody tr th {\n",
       "        vertical-align: top;\n",
       "    }\n",
       "\n",
       "    .dataframe thead th {\n",
       "        text-align: right;\n",
       "    }\n",
       "</style>\n",
       "<table border=\"1\" class=\"dataframe\">\n",
       "  <thead>\n",
       "    <tr style=\"text-align: right;\">\n",
       "      <th></th>\n",
       "      <th>Col 1</th>\n",
       "      <th>Col 2</th>\n",
       "      <th>Col 3</th>\n",
       "      <th>Col 4</th>\n",
       "    </tr>\n",
       "  </thead>\n",
       "  <tbody>\n",
       "    <tr>\n",
       "      <th>a</th>\n",
       "      <td>65</td>\n",
       "      <td>21</td>\n",
       "      <td>74</td>\n",
       "      <td>49</td>\n",
       "    </tr>\n",
       "    <tr>\n",
       "      <th>b</th>\n",
       "      <td>36</td>\n",
       "      <td>42</td>\n",
       "      <td>77</td>\n",
       "      <td>5</td>\n",
       "    </tr>\n",
       "    <tr>\n",
       "      <th>c</th>\n",
       "      <td>86</td>\n",
       "      <td>67</td>\n",
       "      <td>6</td>\n",
       "      <td>47</td>\n",
       "    </tr>\n",
       "    <tr>\n",
       "      <th>d</th>\n",
       "      <td>84</td>\n",
       "      <td>91</td>\n",
       "      <td>58</td>\n",
       "      <td>32</td>\n",
       "    </tr>\n",
       "  </tbody>\n",
       "</table>\n",
       "</div>"
      ],
      "text/plain": [
       "   Col 1  Col 2  Col 3  Col 4\n",
       "a     65     21     74     49\n",
       "b     36     42     77      5\n",
       "c     86     67      6     47\n",
       "d     84     91     58     32"
      ]
     },
     "execution_count": 89,
     "metadata": {},
     "output_type": "execute_result"
    }
   ],
   "source": [
    "tbl = pd.DataFrame(np.random.rand(4, 4), index=list('abcd'))\n",
    "tbl.columns = [f'Col {i}' for i in range(1, 5)]\n",
    "tbl = tbl.apply(lambda x: x * 100).astype('int')\n",
    "tbl"
   ]
  },
  {
   "cell_type": "code",
   "execution_count": 99,
   "metadata": {},
   "outputs": [
    {
     "data": {
      "text/plain": [
       "Col 1    271\n",
       "Col 2    221\n",
       "Col 3    215\n",
       "Col 4    133\n",
       "dtype: int64"
      ]
     },
     "execution_count": 99,
     "metadata": {},
     "output_type": "execute_result"
    }
   ],
   "source": [
    "tbl.apply(sum, axis=0)"
   ]
  },
  {
   "cell_type": "code",
   "execution_count": 90,
   "metadata": {},
   "outputs": [
    {
     "data": {
      "text/plain": [
       "Col 1    2\n",
       "Col 2    3\n",
       "Col 3    1\n",
       "Col 4    0\n",
       "dtype: int64"
      ]
     },
     "execution_count": 90,
     "metadata": {},
     "output_type": "execute_result"
    }
   ],
   "source": [
    "tbl.apply(np.argmax, axis=0)"
   ]
  },
  {
   "cell_type": "code",
   "execution_count": 91,
   "metadata": {},
   "outputs": [
    {
     "data": {
      "text/plain": [
       "a    2\n",
       "b    2\n",
       "c    0\n",
       "d    1\n",
       "dtype: int64"
      ]
     },
     "execution_count": 91,
     "metadata": {},
     "output_type": "execute_result"
    }
   ],
   "source": [
    "tbl.apply(np.argmax, axis=1)"
   ]
  },
  {
   "cell_type": "markdown",
   "metadata": {},
   "source": [
    "### Applymap\n",
    "- A DataFrame method"
   ]
  },
  {
   "cell_type": "code",
   "execution_count": 92,
   "metadata": {},
   "outputs": [
    {
     "data": {
      "text/html": [
       "<div>\n",
       "<style scoped>\n",
       "    .dataframe tbody tr th:only-of-type {\n",
       "        vertical-align: middle;\n",
       "    }\n",
       "\n",
       "    .dataframe tbody tr th {\n",
       "        vertical-align: top;\n",
       "    }\n",
       "\n",
       "    .dataframe thead th {\n",
       "        text-align: right;\n",
       "    }\n",
       "</style>\n",
       "<table border=\"1\" class=\"dataframe\">\n",
       "  <thead>\n",
       "    <tr style=\"text-align: right;\">\n",
       "      <th></th>\n",
       "      <th>Col 1</th>\n",
       "      <th>Col 2</th>\n",
       "      <th>Col 3</th>\n",
       "      <th>Col 4</th>\n",
       "    </tr>\n",
       "  </thead>\n",
       "  <tbody>\n",
       "    <tr>\n",
       "      <th>a</th>\n",
       "      <td>165</td>\n",
       "      <td>121</td>\n",
       "      <td>174</td>\n",
       "      <td>149</td>\n",
       "    </tr>\n",
       "    <tr>\n",
       "      <th>b</th>\n",
       "      <td>136</td>\n",
       "      <td>142</td>\n",
       "      <td>177</td>\n",
       "      <td>105</td>\n",
       "    </tr>\n",
       "    <tr>\n",
       "      <th>c</th>\n",
       "      <td>186</td>\n",
       "      <td>167</td>\n",
       "      <td>106</td>\n",
       "      <td>147</td>\n",
       "    </tr>\n",
       "    <tr>\n",
       "      <th>d</th>\n",
       "      <td>184</td>\n",
       "      <td>191</td>\n",
       "      <td>158</td>\n",
       "      <td>132</td>\n",
       "    </tr>\n",
       "  </tbody>\n",
       "</table>\n",
       "</div>"
      ],
      "text/plain": [
       "   Col 1  Col 2  Col 3  Col 4\n",
       "a    165    121    174    149\n",
       "b    136    142    177    105\n",
       "c    186    167    106    147\n",
       "d    184    191    158    132"
      ]
     },
     "execution_count": 92,
     "metadata": {},
     "output_type": "execute_result"
    }
   ],
   "source": [
    "tbl.applymap(lambda x: x + 100)"
   ]
  },
  {
   "cell_type": "code",
   "execution_count": 94,
   "metadata": {},
   "outputs": [
    {
     "data": {
      "text/html": [
       "<div>\n",
       "<style scoped>\n",
       "    .dataframe tbody tr th:only-of-type {\n",
       "        vertical-align: middle;\n",
       "    }\n",
       "\n",
       "    .dataframe tbody tr th {\n",
       "        vertical-align: top;\n",
       "    }\n",
       "\n",
       "    .dataframe thead th {\n",
       "        text-align: right;\n",
       "    }\n",
       "</style>\n",
       "<table border=\"1\" class=\"dataframe\">\n",
       "  <thead>\n",
       "    <tr style=\"text-align: right;\">\n",
       "      <th></th>\n",
       "      <th>Col 1</th>\n",
       "      <th>Col 2</th>\n",
       "      <th>Col 3</th>\n",
       "      <th>Col 4</th>\n",
       "    </tr>\n",
       "  </thead>\n",
       "  <tbody>\n",
       "    <tr>\n",
       "      <th>a</th>\n",
       "      <td>65.0</td>\n",
       "      <td>21.0</td>\n",
       "      <td>74.0</td>\n",
       "      <td>49.0</td>\n",
       "    </tr>\n",
       "    <tr>\n",
       "      <th>b</th>\n",
       "      <td>36.0</td>\n",
       "      <td>42.0</td>\n",
       "      <td>77.0</td>\n",
       "      <td>5.0</td>\n",
       "    </tr>\n",
       "    <tr>\n",
       "      <th>c</th>\n",
       "      <td>86.0</td>\n",
       "      <td>67.0</td>\n",
       "      <td>6.0</td>\n",
       "      <td>47.0</td>\n",
       "    </tr>\n",
       "    <tr>\n",
       "      <th>d</th>\n",
       "      <td>84.0</td>\n",
       "      <td>91.0</td>\n",
       "      <td>58.0</td>\n",
       "      <td>32.0</td>\n",
       "    </tr>\n",
       "  </tbody>\n",
       "</table>\n",
       "</div>"
      ],
      "text/plain": [
       "   Col 1  Col 2  Col 3  Col 4\n",
       "a   65.0   21.0   74.0   49.0\n",
       "b   36.0   42.0   77.0    5.0\n",
       "c   86.0   67.0    6.0   47.0\n",
       "d   84.0   91.0   58.0   32.0"
      ]
     },
     "execution_count": 94,
     "metadata": {},
     "output_type": "execute_result"
    }
   ],
   "source": [
    "tbl.applymap(float)"
   ]
  },
  {
   "cell_type": "code",
   "execution_count": 98,
   "metadata": {},
   "outputs": [
    {
     "data": {
      "text/plain": [
       "Col 1    271\n",
       "Col 2    221\n",
       "Col 3    215\n",
       "Col 4    133\n",
       "dtype: int64"
      ]
     },
     "execution_count": 98,
     "metadata": {},
     "output_type": "execute_result"
    }
   ],
   "source": [
    "tbl.apply(sum, axis=0)"
   ]
  }
 ],
 "metadata": {
  "interpreter": {
   "hash": "ecf5722fdaf1897a315d257d89d94520bfcaa453217d5becf09b39e73618b0de"
  },
  "kernelspec": {
   "display_name": "Python 3.9.7 64-bit ('base': conda)",
   "language": "python",
   "name": "python3"
  },
  "language_info": {
   "codemirror_mode": {
    "name": "ipython",
    "version": 3
   },
   "file_extension": ".py",
   "mimetype": "text/x-python",
   "name": "python",
   "nbconvert_exporter": "python",
   "pygments_lexer": "ipython3",
   "version": "3.9.7"
  },
  "orig_nbformat": 4
 },
 "nbformat": 4,
 "nbformat_minor": 2
}
