{
 "cells": [
  {
   "cell_type": "code",
   "execution_count": 1,
   "metadata": {},
   "outputs": [],
   "source": [
    "import pandas as pd\n",
    "import numpy as np\n",
    "from random import randint, choice, random, randrange\n",
    "import datetime as dt\n",
    "from random import randint\n",
    "from faker import Faker\n",
    "fake = Faker()\n",
    "fake.seed_instance(4321)"
   ]
  },
  {
   "cell_type": "code",
   "execution_count": 2,
   "metadata": {},
   "outputs": [],
   "source": [
    "np.random.choice(['apple', 'banana', 'carrot'], 10)\n",
    "np.random.RandomState = 100\n",
    "np.random.choice(5, 3, p=[0.1, 0, 0.3, 0.6, 0])\n",
    "\n",
    "def create_df(rows):\n",
    "    rng = range(rows)\n",
    "\n",
    "    country_list = ['USA', 'Germany', 'Japan', 'India'] + list({fake.unique.country() for _ in range(10)})\n",
    "    company_list = list({fake.company() for _ in range(10)})[:3]\n",
    "    date_of_births = [fake.date_of_birth().replace(year=randint(1968, 1990)) for i in rng]\n",
    "    ages = [int((dt.date.today() - date).days / 365) for date in date_of_births]\n",
    "    employee_number = [randrange(100_000, 999999) for _ in rng]\n",
    "    departments = ['Consulting', 'Developer', 'Finance', 'System Architect', 'Management']\n",
    "\n",
    "    d = {\n",
    "        'employee_number': employee_number,\n",
    "        'name': [fake.name() for i in rng],\n",
    "        'company': [choice(company_list) for i in rng],\n",
    "        'country': [choice(country_list) for i in rng],\n",
    "        'dob': date_of_births,\n",
    "        'age': ages,\n",
    "        'department': [choice(departments) for _ in rng],\n",
    "        'salary': [randrange(75_000, 135_000) for _ in rng],\n",
    "        'has_parking_space': [choice([True, False]) for _ in rng]\n",
    "    }\n",
    "    \n",
    "    df = pd.DataFrame(d)\n",
    "    df.drop_duplicates(subset=['employee_number'], inplace=True)\n",
    "    df.drop_duplicates(subset=['name'], inplace=True)\n",
    "    \n",
    "    # change dob to datetime\n",
    "    df.dob = pd.to_datetime(df.dob)\n",
    "\n",
    "    return df.head(100)\n",
    "\n",
    "def save_as_different_formats(df):\n",
    "    path = 'datasets/data'\n",
    "    \n",
    "    # excel\n",
    "    writer = pd.ExcelWriter(path=path+'.xlsx')\n",
    "    df.to_excel(writer, index=False)\n",
    "    writer.save()\n",
    "    writer.close()\n",
    "    \n",
    "    # csv\n",
    "    df.to_csv(path_or_buf=path+'.csv', index=False)\n",
    "    \n",
    "    # parquet\n",
    "    df.to_parquet(path+'.parquet')"
   ]
  },
  {
   "cell_type": "code",
   "execution_count": 48,
   "metadata": {},
   "outputs": [],
   "source": [
    "df = create_df(150)\n",
    "save_as_different_formats(df)"
   ]
  },
  {
   "cell_type": "markdown",
   "metadata": {},
   "source": [
    "## pandas utils"
   ]
  },
  {
   "cell_type": "code",
   "execution_count": 10,
   "metadata": {},
   "outputs": [],
   "source": [
    "from pandas import util\n",
    "import  pandas.util.testing as testing"
   ]
  },
  {
   "cell_type": "code",
   "execution_count": 16,
   "metadata": {},
   "outputs": [
    {
     "name": "stdout",
     "output_type": "stream",
     "text": [
      "shape:  (30, 4)\n"
     ]
    },
    {
     "data": {
      "text/html": [
       "<div>\n",
       "<style scoped>\n",
       "    .dataframe tbody tr th:only-of-type {\n",
       "        vertical-align: middle;\n",
       "    }\n",
       "\n",
       "    .dataframe tbody tr th {\n",
       "        vertical-align: top;\n",
       "    }\n",
       "\n",
       "    .dataframe thead th {\n",
       "        text-align: right;\n",
       "    }\n",
       "</style>\n",
       "<table border=\"1\" class=\"dataframe\">\n",
       "  <thead>\n",
       "    <tr style=\"text-align: right;\">\n",
       "      <th></th>\n",
       "      <th>A</th>\n",
       "      <th>B</th>\n",
       "      <th>C</th>\n",
       "      <th>D</th>\n",
       "    </tr>\n",
       "  </thead>\n",
       "  <tbody>\n",
       "    <tr>\n",
       "      <th>8exqR03aW8</th>\n",
       "      <td>1.212464</td>\n",
       "      <td>0.386239</td>\n",
       "      <td>1.371009</td>\n",
       "      <td>-0.693416</td>\n",
       "    </tr>\n",
       "    <tr>\n",
       "      <th>uVIKpNTa6e</th>\n",
       "      <td>0.682794</td>\n",
       "      <td>1.108816</td>\n",
       "      <td>-1.347122</td>\n",
       "      <td>-0.657711</td>\n",
       "    </tr>\n",
       "    <tr>\n",
       "      <th>yoLNb02Sva</th>\n",
       "      <td>-1.629890</td>\n",
       "      <td>-0.371614</td>\n",
       "      <td>-0.120931</td>\n",
       "      <td>0.163490</td>\n",
       "    </tr>\n",
       "    <tr>\n",
       "      <th>GqiGuXRgE9</th>\n",
       "      <td>-1.304821</td>\n",
       "      <td>0.088157</td>\n",
       "      <td>-1.556518</td>\n",
       "      <td>-1.488708</td>\n",
       "    </tr>\n",
       "    <tr>\n",
       "      <th>ia1Ok1TOsH</th>\n",
       "      <td>-1.306989</td>\n",
       "      <td>-0.149867</td>\n",
       "      <td>-0.012493</td>\n",
       "      <td>-0.932442</td>\n",
       "    </tr>\n",
       "  </tbody>\n",
       "</table>\n",
       "</div>"
      ],
      "text/plain": [
       "                   A         B         C         D\n",
       "8exqR03aW8  1.212464  0.386239  1.371009 -0.693416\n",
       "uVIKpNTa6e  0.682794  1.108816 -1.347122 -0.657711\n",
       "yoLNb02Sva -1.629890 -0.371614 -0.120931  0.163490\n",
       "GqiGuXRgE9 -1.304821  0.088157 -1.556518 -1.488708\n",
       "ia1Ok1TOsH -1.306989 -0.149867 -0.012493 -0.932442"
      ]
     },
     "execution_count": 16,
     "metadata": {},
     "output_type": "execute_result"
    }
   ],
   "source": [
    "df = testing.makeDataFrame()\n",
    "print('shape: ', df.shape)\n",
    "df.head()"
   ]
  },
  {
   "cell_type": "markdown",
   "metadata": {},
   "source": [
    "#### Create DataFrame that includes NaNs"
   ]
  },
  {
   "cell_type": "code",
   "execution_count": 17,
   "metadata": {},
   "outputs": [
    {
     "name": "stdout",
     "output_type": "stream",
     "text": [
      "shape:  (30, 4)\n"
     ]
    },
    {
     "data": {
      "text/html": [
       "<div>\n",
       "<style scoped>\n",
       "    .dataframe tbody tr th:only-of-type {\n",
       "        vertical-align: middle;\n",
       "    }\n",
       "\n",
       "    .dataframe tbody tr th {\n",
       "        vertical-align: top;\n",
       "    }\n",
       "\n",
       "    .dataframe thead th {\n",
       "        text-align: right;\n",
       "    }\n",
       "</style>\n",
       "<table border=\"1\" class=\"dataframe\">\n",
       "  <thead>\n",
       "    <tr style=\"text-align: right;\">\n",
       "      <th></th>\n",
       "      <th>A</th>\n",
       "      <th>B</th>\n",
       "      <th>C</th>\n",
       "      <th>D</th>\n",
       "    </tr>\n",
       "  </thead>\n",
       "  <tbody>\n",
       "    <tr>\n",
       "      <th>5eHerQTyKK</th>\n",
       "      <td>-0.670682</td>\n",
       "      <td>-0.546445</td>\n",
       "      <td>-0.374201</td>\n",
       "      <td>-0.927814</td>\n",
       "    </tr>\n",
       "    <tr>\n",
       "      <th>JKXpew2w5P</th>\n",
       "      <td>NaN</td>\n",
       "      <td>-0.943014</td>\n",
       "      <td>0.869124</td>\n",
       "      <td>NaN</td>\n",
       "    </tr>\n",
       "    <tr>\n",
       "      <th>jxOBPcXHYZ</th>\n",
       "      <td>0.454311</td>\n",
       "      <td>-0.378260</td>\n",
       "      <td>0.030931</td>\n",
       "      <td>-0.329587</td>\n",
       "    </tr>\n",
       "    <tr>\n",
       "      <th>Pg9zi4piAE</th>\n",
       "      <td>0.471468</td>\n",
       "      <td>0.396482</td>\n",
       "      <td>-0.855755</td>\n",
       "      <td>0.244340</td>\n",
       "    </tr>\n",
       "    <tr>\n",
       "      <th>cHlswfvftc</th>\n",
       "      <td>NaN</td>\n",
       "      <td>1.081640</td>\n",
       "      <td>0.059803</td>\n",
       "      <td>0.461433</td>\n",
       "    </tr>\n",
       "  </tbody>\n",
       "</table>\n",
       "</div>"
      ],
      "text/plain": [
       "                   A         B         C         D\n",
       "5eHerQTyKK -0.670682 -0.546445 -0.374201 -0.927814\n",
       "JKXpew2w5P       NaN -0.943014  0.869124       NaN\n",
       "jxOBPcXHYZ  0.454311 -0.378260  0.030931 -0.329587\n",
       "Pg9zi4piAE  0.471468  0.396482 -0.855755  0.244340\n",
       "cHlswfvftc       NaN  1.081640  0.059803  0.461433"
      ]
     },
     "execution_count": 17,
     "metadata": {},
     "output_type": "execute_result"
    }
   ],
   "source": [
    "df = testing.makeMissingDataframe()\n",
    "print('shape: ', df.shape)\n",
    "df.head()"
   ]
  },
  {
   "cell_type": "markdown",
   "metadata": {},
   "source": [
    "#### Create DataFrame consisting of different datatypes"
   ]
  },
  {
   "cell_type": "code",
   "execution_count": 19,
   "metadata": {},
   "outputs": [
    {
     "name": "stdout",
     "output_type": "stream",
     "text": [
      "shape:  (5, 4)\n"
     ]
    },
    {
     "data": {
      "text/html": [
       "<div>\n",
       "<style scoped>\n",
       "    .dataframe tbody tr th:only-of-type {\n",
       "        vertical-align: middle;\n",
       "    }\n",
       "\n",
       "    .dataframe tbody tr th {\n",
       "        vertical-align: top;\n",
       "    }\n",
       "\n",
       "    .dataframe thead th {\n",
       "        text-align: right;\n",
       "    }\n",
       "</style>\n",
       "<table border=\"1\" class=\"dataframe\">\n",
       "  <thead>\n",
       "    <tr style=\"text-align: right;\">\n",
       "      <th></th>\n",
       "      <th>A</th>\n",
       "      <th>B</th>\n",
       "      <th>C</th>\n",
       "      <th>D</th>\n",
       "    </tr>\n",
       "  </thead>\n",
       "  <tbody>\n",
       "    <tr>\n",
       "      <th>0</th>\n",
       "      <td>0.0</td>\n",
       "      <td>0.0</td>\n",
       "      <td>foo1</td>\n",
       "      <td>2009-01-01</td>\n",
       "    </tr>\n",
       "    <tr>\n",
       "      <th>1</th>\n",
       "      <td>1.0</td>\n",
       "      <td>1.0</td>\n",
       "      <td>foo2</td>\n",
       "      <td>2009-01-02</td>\n",
       "    </tr>\n",
       "    <tr>\n",
       "      <th>2</th>\n",
       "      <td>2.0</td>\n",
       "      <td>0.0</td>\n",
       "      <td>foo3</td>\n",
       "      <td>2009-01-05</td>\n",
       "    </tr>\n",
       "    <tr>\n",
       "      <th>3</th>\n",
       "      <td>3.0</td>\n",
       "      <td>1.0</td>\n",
       "      <td>foo4</td>\n",
       "      <td>2009-01-06</td>\n",
       "    </tr>\n",
       "    <tr>\n",
       "      <th>4</th>\n",
       "      <td>4.0</td>\n",
       "      <td>0.0</td>\n",
       "      <td>foo5</td>\n",
       "      <td>2009-01-07</td>\n",
       "    </tr>\n",
       "  </tbody>\n",
       "</table>\n",
       "</div>"
      ],
      "text/plain": [
       "     A    B     C          D\n",
       "0  0.0  0.0  foo1 2009-01-01\n",
       "1  1.0  1.0  foo2 2009-01-02\n",
       "2  2.0  0.0  foo3 2009-01-05\n",
       "3  3.0  1.0  foo4 2009-01-06\n",
       "4  4.0  0.0  foo5 2009-01-07"
      ]
     },
     "execution_count": 19,
     "metadata": {},
     "output_type": "execute_result"
    }
   ],
   "source": [
    "df = testing.makeMixedDataFrame()\n",
    "print('shape: ', df.shape)\n",
    "df.head()"
   ]
  },
  {
   "cell_type": "markdown",
   "metadata": {},
   "source": [
    "#### Create DataFrame with a datetime index"
   ]
  },
  {
   "cell_type": "code",
   "execution_count": 20,
   "metadata": {},
   "outputs": [
    {
     "name": "stdout",
     "output_type": "stream",
     "text": [
      "shape:  (30, 4)\n"
     ]
    },
    {
     "data": {
      "text/html": [
       "<div>\n",
       "<style scoped>\n",
       "    .dataframe tbody tr th:only-of-type {\n",
       "        vertical-align: middle;\n",
       "    }\n",
       "\n",
       "    .dataframe tbody tr th {\n",
       "        vertical-align: top;\n",
       "    }\n",
       "\n",
       "    .dataframe thead th {\n",
       "        text-align: right;\n",
       "    }\n",
       "</style>\n",
       "<table border=\"1\" class=\"dataframe\">\n",
       "  <thead>\n",
       "    <tr style=\"text-align: right;\">\n",
       "      <th></th>\n",
       "      <th>A</th>\n",
       "      <th>B</th>\n",
       "      <th>C</th>\n",
       "      <th>D</th>\n",
       "    </tr>\n",
       "  </thead>\n",
       "  <tbody>\n",
       "    <tr>\n",
       "      <th>2000-01-03</th>\n",
       "      <td>1.113974</td>\n",
       "      <td>-0.777470</td>\n",
       "      <td>-0.723037</td>\n",
       "      <td>1.355203</td>\n",
       "    </tr>\n",
       "    <tr>\n",
       "      <th>2000-01-04</th>\n",
       "      <td>-0.439427</td>\n",
       "      <td>-0.081442</td>\n",
       "      <td>-1.126607</td>\n",
       "      <td>0.425511</td>\n",
       "    </tr>\n",
       "    <tr>\n",
       "      <th>2000-01-05</th>\n",
       "      <td>-0.724527</td>\n",
       "      <td>2.147071</td>\n",
       "      <td>0.288093</td>\n",
       "      <td>0.050206</td>\n",
       "    </tr>\n",
       "    <tr>\n",
       "      <th>2000-01-06</th>\n",
       "      <td>0.436809</td>\n",
       "      <td>1.292213</td>\n",
       "      <td>1.320501</td>\n",
       "      <td>0.184545</td>\n",
       "    </tr>\n",
       "    <tr>\n",
       "      <th>2000-01-07</th>\n",
       "      <td>0.568831</td>\n",
       "      <td>-0.569311</td>\n",
       "      <td>-1.639311</td>\n",
       "      <td>-0.640589</td>\n",
       "    </tr>\n",
       "  </tbody>\n",
       "</table>\n",
       "</div>"
      ],
      "text/plain": [
       "                   A         B         C         D\n",
       "2000-01-03  1.113974 -0.777470 -0.723037  1.355203\n",
       "2000-01-04 -0.439427 -0.081442 -1.126607  0.425511\n",
       "2000-01-05 -0.724527  2.147071  0.288093  0.050206\n",
       "2000-01-06  0.436809  1.292213  1.320501  0.184545\n",
       "2000-01-07  0.568831 -0.569311 -1.639311 -0.640589"
      ]
     },
     "execution_count": 20,
     "metadata": {},
     "output_type": "execute_result"
    }
   ],
   "source": [
    "df = testing.makeTimeDataFrame()\n",
    "print('shape: ', df.shape)\n",
    "df.head()"
   ]
  },
  {
   "cell_type": "markdown",
   "metadata": {},
   "source": [
    "#### Create a timeseries DataFrame with periodical data"
   ]
  },
  {
   "cell_type": "code",
   "execution_count": 21,
   "metadata": {},
   "outputs": [
    {
     "name": "stdout",
     "output_type": "stream",
     "text": [
      "shape:  (30, 4)\n"
     ]
    },
    {
     "data": {
      "text/html": [
       "<div>\n",
       "<style scoped>\n",
       "    .dataframe tbody tr th:only-of-type {\n",
       "        vertical-align: middle;\n",
       "    }\n",
       "\n",
       "    .dataframe tbody tr th {\n",
       "        vertical-align: top;\n",
       "    }\n",
       "\n",
       "    .dataframe thead th {\n",
       "        text-align: right;\n",
       "    }\n",
       "</style>\n",
       "<table border=\"1\" class=\"dataframe\">\n",
       "  <thead>\n",
       "    <tr style=\"text-align: right;\">\n",
       "      <th></th>\n",
       "      <th>A</th>\n",
       "      <th>B</th>\n",
       "      <th>C</th>\n",
       "      <th>D</th>\n",
       "    </tr>\n",
       "  </thead>\n",
       "  <tbody>\n",
       "    <tr>\n",
       "      <th>2000-01-03</th>\n",
       "      <td>1.002557</td>\n",
       "      <td>-1.029976</td>\n",
       "      <td>-2.212344</td>\n",
       "      <td>-1.335945</td>\n",
       "    </tr>\n",
       "    <tr>\n",
       "      <th>2000-01-04</th>\n",
       "      <td>-0.334553</td>\n",
       "      <td>-0.273077</td>\n",
       "      <td>0.519356</td>\n",
       "      <td>0.030293</td>\n",
       "    </tr>\n",
       "    <tr>\n",
       "      <th>2000-01-05</th>\n",
       "      <td>0.077760</td>\n",
       "      <td>0.004127</td>\n",
       "      <td>-1.366837</td>\n",
       "      <td>0.649873</td>\n",
       "    </tr>\n",
       "    <tr>\n",
       "      <th>2000-01-06</th>\n",
       "      <td>1.231845</td>\n",
       "      <td>-0.152571</td>\n",
       "      <td>0.280246</td>\n",
       "      <td>-0.223707</td>\n",
       "    </tr>\n",
       "    <tr>\n",
       "      <th>2000-01-07</th>\n",
       "      <td>-0.046372</td>\n",
       "      <td>-0.331726</td>\n",
       "      <td>0.221735</td>\n",
       "      <td>-1.163822</td>\n",
       "    </tr>\n",
       "  </tbody>\n",
       "</table>\n",
       "</div>"
      ],
      "text/plain": [
       "                   A         B         C         D\n",
       "2000-01-03  1.002557 -1.029976 -2.212344 -1.335945\n",
       "2000-01-04 -0.334553 -0.273077  0.519356  0.030293\n",
       "2000-01-05  0.077760  0.004127 -1.366837  0.649873\n",
       "2000-01-06  1.231845 -0.152571  0.280246 -0.223707\n",
       "2000-01-07 -0.046372 -0.331726  0.221735 -1.163822"
      ]
     },
     "execution_count": 21,
     "metadata": {},
     "output_type": "execute_result"
    }
   ],
   "source": [
    "df = testing.makePeriodFrame()\n",
    "print('shape: ', df.shape)\n",
    "df.head()"
   ]
  }
 ],
 "metadata": {
  "interpreter": {
   "hash": "ecf5722fdaf1897a315d257d89d94520bfcaa453217d5becf09b39e73618b0de"
  },
  "kernelspec": {
   "display_name": "Python 3.9.7 64-bit ('base': conda)",
   "language": "python",
   "name": "python3"
  },
  "language_info": {
   "codemirror_mode": {
    "name": "ipython",
    "version": 3
   },
   "file_extension": ".py",
   "mimetype": "text/x-python",
   "name": "python",
   "nbconvert_exporter": "python",
   "pygments_lexer": "ipython3",
   "version": "3.9.7"
  },
  "orig_nbformat": 4
 },
 "nbformat": 4,
 "nbformat_minor": 2
}
